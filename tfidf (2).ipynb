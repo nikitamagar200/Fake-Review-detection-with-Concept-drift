{
 "cells": [
  {
   "cell_type": "code",
   "execution_count": 2,
   "id": "45a156d4",
   "metadata": {},
   "outputs": [],
   "source": [
    "import pandas as pd\n",
    "import numpy as np\n",
    "from sklearn.model_selection import train_test_split"
   ]
  },
  {
   "cell_type": "code",
   "execution_count": 3,
   "id": "ae287fa2",
   "metadata": {},
   "outputs": [],
   "source": [
    "df=pd.read_csv(\"fake reviews dataset (1).csv\")"
   ]
  },
  {
   "cell_type": "code",
   "execution_count": 4,
   "id": "41b019ac",
   "metadata": {},
   "outputs": [
    {
     "data": {
      "text/html": [
       "<div>\n",
       "<style scoped>\n",
       "    .dataframe tbody tr th:only-of-type {\n",
       "        vertical-align: middle;\n",
       "    }\n",
       "\n",
       "    .dataframe tbody tr th {\n",
       "        vertical-align: top;\n",
       "    }\n",
       "\n",
       "    .dataframe thead th {\n",
       "        text-align: right;\n",
       "    }\n",
       "</style>\n",
       "<table border=\"1\" class=\"dataframe\">\n",
       "  <thead>\n",
       "    <tr style=\"text-align: right;\">\n",
       "      <th></th>\n",
       "      <th>category</th>\n",
       "      <th>rating</th>\n",
       "      <th>label</th>\n",
       "      <th>text_</th>\n",
       "    </tr>\n",
       "  </thead>\n",
       "  <tbody>\n",
       "    <tr>\n",
       "      <th>0</th>\n",
       "      <td>Home_and_Kitchen_5</td>\n",
       "      <td>5.0</td>\n",
       "      <td>CG</td>\n",
       "      <td>Love this!  Well made, sturdy, and very comfor...</td>\n",
       "    </tr>\n",
       "    <tr>\n",
       "      <th>1</th>\n",
       "      <td>Home_and_Kitchen_5</td>\n",
       "      <td>5.0</td>\n",
       "      <td>CG</td>\n",
       "      <td>love it, a great upgrade from the original.  I...</td>\n",
       "    </tr>\n",
       "    <tr>\n",
       "      <th>2</th>\n",
       "      <td>Home_and_Kitchen_5</td>\n",
       "      <td>5.0</td>\n",
       "      <td>CG</td>\n",
       "      <td>This pillow saved my back. I love the look and...</td>\n",
       "    </tr>\n",
       "    <tr>\n",
       "      <th>3</th>\n",
       "      <td>Home_and_Kitchen_5</td>\n",
       "      <td>1.0</td>\n",
       "      <td>CG</td>\n",
       "      <td>Missing information on how to use it, but it i...</td>\n",
       "    </tr>\n",
       "    <tr>\n",
       "      <th>4</th>\n",
       "      <td>Home_and_Kitchen_5</td>\n",
       "      <td>5.0</td>\n",
       "      <td>CG</td>\n",
       "      <td>Very nice set. Good quality. We have had the s...</td>\n",
       "    </tr>\n",
       "  </tbody>\n",
       "</table>\n",
       "</div>"
      ],
      "text/plain": [
       "             category  rating label  \\\n",
       "0  Home_and_Kitchen_5     5.0    CG   \n",
       "1  Home_and_Kitchen_5     5.0    CG   \n",
       "2  Home_and_Kitchen_5     5.0    CG   \n",
       "3  Home_and_Kitchen_5     1.0    CG   \n",
       "4  Home_and_Kitchen_5     5.0    CG   \n",
       "\n",
       "                                               text_  \n",
       "0  Love this!  Well made, sturdy, and very comfor...  \n",
       "1  love it, a great upgrade from the original.  I...  \n",
       "2  This pillow saved my back. I love the look and...  \n",
       "3  Missing information on how to use it, but it i...  \n",
       "4  Very nice set. Good quality. We have had the s...  "
      ]
     },
     "execution_count": 4,
     "metadata": {},
     "output_type": "execute_result"
    }
   ],
   "source": [
    "df.head()"
   ]
  },
  {
   "cell_type": "code",
   "execution_count": 5,
   "id": "d879d78e",
   "metadata": {},
   "outputs": [
    {
     "data": {
      "text/plain": [
       "Index(['category', 'rating', 'label', 'text_'], dtype='object')"
      ]
     },
     "execution_count": 5,
     "metadata": {},
     "output_type": "execute_result"
    }
   ],
   "source": [
    "df.columns"
   ]
  },
  {
   "cell_type": "code",
   "execution_count": 6,
   "id": "c9417718",
   "metadata": {},
   "outputs": [],
   "source": [
    "df1=df.iloc[:,[0,1,3,2]]"
   ]
  },
  {
   "cell_type": "code",
   "execution_count": 7,
   "id": "7f940383",
   "metadata": {},
   "outputs": [
    {
     "data": {
      "text/html": [
       "<div>\n",
       "<style scoped>\n",
       "    .dataframe tbody tr th:only-of-type {\n",
       "        vertical-align: middle;\n",
       "    }\n",
       "\n",
       "    .dataframe tbody tr th {\n",
       "        vertical-align: top;\n",
       "    }\n",
       "\n",
       "    .dataframe thead th {\n",
       "        text-align: right;\n",
       "    }\n",
       "</style>\n",
       "<table border=\"1\" class=\"dataframe\">\n",
       "  <thead>\n",
       "    <tr style=\"text-align: right;\">\n",
       "      <th></th>\n",
       "      <th>category</th>\n",
       "      <th>rating</th>\n",
       "      <th>text_</th>\n",
       "      <th>label</th>\n",
       "    </tr>\n",
       "  </thead>\n",
       "  <tbody>\n",
       "    <tr>\n",
       "      <th>0</th>\n",
       "      <td>Home_and_Kitchen_5</td>\n",
       "      <td>5.0</td>\n",
       "      <td>Love this!  Well made, sturdy, and very comfor...</td>\n",
       "      <td>CG</td>\n",
       "    </tr>\n",
       "    <tr>\n",
       "      <th>1</th>\n",
       "      <td>Home_and_Kitchen_5</td>\n",
       "      <td>5.0</td>\n",
       "      <td>love it, a great upgrade from the original.  I...</td>\n",
       "      <td>CG</td>\n",
       "    </tr>\n",
       "    <tr>\n",
       "      <th>2</th>\n",
       "      <td>Home_and_Kitchen_5</td>\n",
       "      <td>5.0</td>\n",
       "      <td>This pillow saved my back. I love the look and...</td>\n",
       "      <td>CG</td>\n",
       "    </tr>\n",
       "    <tr>\n",
       "      <th>3</th>\n",
       "      <td>Home_and_Kitchen_5</td>\n",
       "      <td>1.0</td>\n",
       "      <td>Missing information on how to use it, but it i...</td>\n",
       "      <td>CG</td>\n",
       "    </tr>\n",
       "    <tr>\n",
       "      <th>4</th>\n",
       "      <td>Home_and_Kitchen_5</td>\n",
       "      <td>5.0</td>\n",
       "      <td>Very nice set. Good quality. We have had the s...</td>\n",
       "      <td>CG</td>\n",
       "    </tr>\n",
       "  </tbody>\n",
       "</table>\n",
       "</div>"
      ],
      "text/plain": [
       "             category  rating  \\\n",
       "0  Home_and_Kitchen_5     5.0   \n",
       "1  Home_and_Kitchen_5     5.0   \n",
       "2  Home_and_Kitchen_5     5.0   \n",
       "3  Home_and_Kitchen_5     1.0   \n",
       "4  Home_and_Kitchen_5     5.0   \n",
       "\n",
       "                                               text_ label  \n",
       "0  Love this!  Well made, sturdy, and very comfor...    CG  \n",
       "1  love it, a great upgrade from the original.  I...    CG  \n",
       "2  This pillow saved my back. I love the look and...    CG  \n",
       "3  Missing information on how to use it, but it i...    CG  \n",
       "4  Very nice set. Good quality. We have had the s...    CG  "
      ]
     },
     "execution_count": 7,
     "metadata": {},
     "output_type": "execute_result"
    }
   ],
   "source": [
    "df1.head()"
   ]
  },
  {
   "cell_type": "code",
   "execution_count": 8,
   "id": "2f632194",
   "metadata": {},
   "outputs": [
    {
     "name": "stderr",
     "output_type": "stream",
     "text": [
      "C:\\Users\\user\\anaconda3\\lib\\site-packages\\pandas\\core\\generic.py:6619: SettingWithCopyWarning: \n",
      "A value is trying to be set on a copy of a slice from a DataFrame\n",
      "\n",
      "See the caveats in the documentation: https://pandas.pydata.org/pandas-docs/stable/user_guide/indexing.html#returning-a-view-versus-a-copy\n",
      "  return self._update_inplace(result)\n"
     ]
    }
   ],
   "source": [
    "df1['label'].replace(['CG', 'OR'],\n",
    "                        [0, 1], inplace=True)"
   ]
  },
  {
   "cell_type": "code",
   "execution_count": 9,
   "id": "fdf7c6d0",
   "metadata": {},
   "outputs": [],
   "source": [
    "xfeatures=df['text_']\n",
    "yfeatures=df['label']"
   ]
  },
  {
   "cell_type": "code",
   "execution_count": 10,
   "id": "1cad719f",
   "metadata": {},
   "outputs": [],
   "source": [
    "x_train,x_test,y_train,y_test=train_test_split(xfeatures,yfeatures,test_size=0.2)"
   ]
  },
  {
   "cell_type": "code",
   "execution_count": 11,
   "id": "441e923b",
   "metadata": {},
   "outputs": [
    {
     "data": {
      "text/plain": [
       "(32345,)"
      ]
     },
     "execution_count": 11,
     "metadata": {},
     "output_type": "execute_result"
    }
   ],
   "source": [
    "x_train.shape"
   ]
  },
  {
   "cell_type": "code",
   "execution_count": 12,
   "id": "53f6afca",
   "metadata": {},
   "outputs": [
    {
     "data": {
      "text/plain": [
       "(8087,)"
      ]
     },
     "execution_count": 12,
     "metadata": {},
     "output_type": "execute_result"
    }
   ],
   "source": [
    "x_test.shape"
   ]
  },
  {
   "cell_type": "code",
   "execution_count": 13,
   "id": "090c32f1",
   "metadata": {},
   "outputs": [
    {
     "data": {
      "text/plain": [
       "CG    16189\n",
       "OR    16156\n",
       "Name: label, dtype: int64"
      ]
     },
     "execution_count": 13,
     "metadata": {},
     "output_type": "execute_result"
    }
   ],
   "source": [
    "y_train.value_counts()"
   ]
  },
  {
   "cell_type": "code",
   "execution_count": 14,
   "id": "a264ea4b",
   "metadata": {},
   "outputs": [
    {
     "data": {
      "text/plain": [
       "OR    4060\n",
       "CG    4027\n",
       "Name: label, dtype: int64"
      ]
     },
     "execution_count": 14,
     "metadata": {},
     "output_type": "execute_result"
    }
   ],
   "source": [
    "y_test.value_counts()"
   ]
  },
  {
   "cell_type": "code",
   "execution_count": 15,
   "id": "d7b20867",
   "metadata": {},
   "outputs": [],
   "source": [
    "from sklearn.feature_extraction.text import TfidfVectorizer"
   ]
  },
  {
   "cell_type": "code",
   "execution_count": 16,
   "id": "04ed291c",
   "metadata": {},
   "outputs": [
    {
     "data": {
      "text/plain": [
       "{'love': 22110,\n",
       " 'this': 36732,\n",
       " 'well': 39867,\n",
       " 'made': 22415,\n",
       " 'sturdy': 35269,\n",
       " 'and': 2851,\n",
       " 'very': 39059,\n",
       " 'comfortable': 8426,\n",
       " 'it': 19794,\n",
       " 'pretty': 28284,\n",
       " 'great': 16632,\n",
       " 'upgrade': 38671,\n",
       " 'from': 15488,\n",
       " 'the': 36591,\n",
       " 'original': 25896,\n",
       " 've': 38941,\n",
       " 'had': 17046,\n",
       " 'mine': 23639,\n",
       " 'for': 15124,\n",
       " 'couple': 9356,\n",
       " 'of': 25560,\n",
       " 'years': 40816,\n",
       " 'pillow': 27315,\n",
       " 'saved': 31782,\n",
       " 'my': 24512,\n",
       " 'back': 4153,\n",
       " 'look': 22003,\n",
       " 'feel': 14352,\n",
       " 'missing': 23812,\n",
       " 'information': 19127,\n",
       " 'on': 25689,\n",
       " 'how': 18282,\n",
       " 'to': 37052,\n",
       " 'use': 38750,\n",
       " 'but': 6412,\n",
       " 'is': 19748,\n",
       " 'product': 28468,\n",
       " 'price': 28313,\n",
       " 'nice': 24978,\n",
       " 'set': 32512,\n",
       " 'good': 16370,\n",
       " 'quality': 29037,\n",
       " 'we': 39739,\n",
       " 'have': 17427,\n",
       " 'two': 37967,\n",
       " 'months': 24095,\n",
       " 'now': 25301,\n",
       " 'not': 25236,\n",
       " 'been': 4730,\n",
       " 'wanted': 39557,\n",
       " 'different': 11187,\n",
       " 'flavors': 14810,\n",
       " 'they': 36674,\n",
       " 'are': 3265,\n",
       " 'perfect': 26937,\n",
       " 'touch': 37294,\n",
       " 'me': 23121,\n",
       " 'only': 25710,\n",
       " 'thing': 36703,\n",
       " 'wish': 40297,\n",
       " 'little': 21841,\n",
       " 'more': 24145,\n",
       " 'space': 34095,\n",
       " 'these': 36665,\n",
       " 'done': 11864,\n",
       " 'fit': 14710,\n",
       " 'smoothness': 33666,\n",
       " 'edges': 12602,\n",
       " 'extra': 13912,\n",
       " 'big': 5035,\n",
       " 'numbers': 25346,\n",
       " 'easy': 12529,\n",
       " 'read': 29546,\n",
       " 'didn': 11157,\n",
       " 'like': 21671,\n",
       " 'size': 33267,\n",
       " 'son': 33959,\n",
       " 'loves': 22127,\n",
       " 'comforter': 8429,\n",
       " 'also': 2636,\n",
       " 'baby': 4138,\n",
       " 'as': 3422,\n",
       " 'advertised': 2172,\n",
       " '5th': 1244,\n",
       " 'one': 25697,\n",
       " 'problem': 28420,\n",
       " 'that': 36581,\n",
       " 'really': 29592,\n",
       " 'handy': 17207,\n",
       " 'kids': 20636,\n",
       " 'tools': 37175,\n",
       " 'included': 18915,\n",
       " 'in': 18858,\n",
       " 'package': 26292,\n",
       " 'did': 11151,\n",
       " 'someone': 33943,\n",
       " 'say': 31811,\n",
       " 'oriental': 25889,\n",
       " '60': 1257,\n",
       " 'so': 33809,\n",
       " 'flimsy': 14875,\n",
       " 'you': 40891,\n",
       " 'would': 40537,\n",
       " 'expect': 13773,\n",
       " 'piece': 27272,\n",
       " 'furniture': 15623,\n",
       " 'makes': 22540,\n",
       " 'may': 23024,\n",
       " 'tea': 36254,\n",
       " 'with': 40315,\n",
       " 'out': 25993,\n",
       " 'stirring': 34940,\n",
       " 'kind': 20670,\n",
       " 'hard': 17273,\n",
       " 'put': 28953,\n",
       " 'absolutely': 1771,\n",
       " 'adorable': 2126,\n",
       " 'excellent': 13647,\n",
       " 'wooden': 40429,\n",
       " 'ones': 25700,\n",
       " 'few': 14455,\n",
       " 'an': 2806,\n",
       " 'entire': 13223,\n",
       " 'family': 14127,\n",
       " 'beautiful': 4678,\n",
       " 'mesh': 23384,\n",
       " 'exactly': 13619,\n",
       " 'what': 39939,\n",
       " '10': 52,\n",
       " 'stars': 34721,\n",
       " 'highly': 17851,\n",
       " 'recommend': 29769,\n",
       " 'item': 19805,\n",
       " 'blanket': 5230,\n",
       " 'egg': 12680,\n",
       " 'masher': 22876,\n",
       " 'colors': 8362,\n",
       " 'dimensions': 11260,\n",
       " 'just': 20328,\n",
       " 'pictured': 27265,\n",
       " 'fantastic': 14156,\n",
       " 'supposed': 35608,\n",
       " 'come': 8409,\n",
       " 'hardware': 17298,\n",
       " 'vacuum': 38836,\n",
       " 'seems': 32287,\n",
       " 'be': 4615,\n",
       " 'way': 39718,\n",
       " 'make': 22536,\n",
       " 'smoothie': 33662,\n",
       " 'small': 33590,\n",
       " 'person': 27028,\n",
       " 'am': 2679,\n",
       " 'accustomed': 1897,\n",
       " 'reason': 29617,\n",
       " 'gave': 15864,\n",
       " 'because': 4690,\n",
       " 'can': 6675,\n",
       " 'seller': 32342,\n",
       " 'yes': 40836,\n",
       " 'thin': 36702,\n",
       " 'plastic': 27493,\n",
       " 'however': 18288,\n",
       " 'handle': 17182,\n",
       " 'has': 17375,\n",
       " 'bought': 5715,\n",
       " 'second': 32222,\n",
       " 'first': 14687,\n",
       " 'sure': 35626,\n",
       " 'wonderful': 40410,\n",
       " 'aroma': 3347,\n",
       " 'throughout': 36816,\n",
       " 'house': 18264,\n",
       " 'received': 29685,\n",
       " 'no': 25105,\n",
       " 'time': 36955,\n",
       " 'flat': 14788,\n",
       " 'husband': 18446,\n",
       " 'likes': 21681,\n",
       " 'too': 37162,\n",
       " 'okay': 25625,\n",
       " 'got': 16445,\n",
       " 'local': 21910,\n",
       " 'store': 34996,\n",
       " 'them': 36614,\n",
       " 'away': 3878,\n",
       " 'thought': 36765,\n",
       " 'addition': 2042,\n",
       " 'kitchen': 20730,\n",
       " 'fine': 14605,\n",
       " 'option': 25815,\n",
       " 'separate': 32426,\n",
       " 'awesome': 3885,\n",
       " 'all': 2554,\n",
       " 'materials': 22946,\n",
       " 'decent': 10409,\n",
       " 'heavy': 17609,\n",
       " 'everyday': 13575,\n",
       " 'works': 40494,\n",
       " 'part': 26551,\n",
       " 'cup': 9855,\n",
       " 'go': 16276,\n",
       " 'old': 25634,\n",
       " 'suction': 35409,\n",
       " 'cups': 9862,\n",
       " 'removable': 30244,\n",
       " 'expected': 13777,\n",
       " 'looks': 22008,\n",
       " 'design': 10884,\n",
       " 'place': 27440,\n",
       " 'awful': 3890,\n",
       " 'experience': 13796,\n",
       " 'everything': 13579,\n",
       " 'stuck': 35215,\n",
       " 'cooked': 9084,\n",
       " 'evenly': 13552,\n",
       " 'does': 11777,\n",
       " 'job': 20122,\n",
       " 'keeping': 20479,\n",
       " 'doesn': 11779,\n",
       " 'slide': 33476,\n",
       " 'sheet': 32734,\n",
       " 'color': 8350,\n",
       " 'buy': 6439,\n",
       " 'town': 37333,\n",
       " 'save': 31781,\n",
       " 'instead': 19344,\n",
       " 'shipping': 32822,\n",
       " 'box': 5767,\n",
       " 'will': 40171,\n",
       " 'keep': 20476,\n",
       " 'money': 24040,\n",
       " 'towels': 37329,\n",
       " 'real': 29570,\n",
       " 'clean': 7958,\n",
       " 'purchasing': 28896,\n",
       " 'alright': 2634,\n",
       " 'was': 39623,\n",
       " 'disappointed': 11360,\n",
       " 'same': 31606,\n",
       " 'paper': 26453,\n",
       " 'corner': 9202,\n",
       " 'cabinet': 6496,\n",
       " 'other': 25960,\n",
       " 'stickers': 34892,\n",
       " 'fabric': 13998,\n",
       " 'thick': 36681,\n",
       " 'enough': 13165,\n",
       " 'hold': 18020,\n",
       " 'amount': 2770,\n",
       " 'coffee': 8234,\n",
       " 'do': 11733,\n",
       " 'need': 24776,\n",
       " 'long': 21981,\n",
       " 'movie': 24301,\n",
       " 'took': 37167,\n",
       " 'finish': 14625,\n",
       " 'review': 30717,\n",
       " 'next': 24955,\n",
       " 'seal': 32170,\n",
       " 'properly': 28605,\n",
       " 'atrocious': 3621,\n",
       " 'break': 5894,\n",
       " 'if': 18604,\n",
       " 'throw': 36821,\n",
       " 'third': 36723,\n",
       " 'dog': 11781,\n",
       " 'much': 24362,\n",
       " 'better': 4971,\n",
       " 'than': 36569,\n",
       " 'get': 16031,\n",
       " 'at': 3579,\n",
       " 'walmart': 39528,\n",
       " '50': 1139,\n",
       " 'looking': 22006,\n",
       " 'such': 35395,\n",
       " 'purchase': 28890,\n",
       " 'beat': 4661,\n",
       " 'cheap': 7453,\n",
       " 'intended': 19423,\n",
       " 'choices': 7673,\n",
       " 'bowl': 5758,\n",
       " 'fast': 14223,\n",
       " 'last': 21166,\n",
       " 'forever': 15175,\n",
       " 'keeps': 20481,\n",
       " 'things': 36706,\n",
       " 'cool': 9096,\n",
       " 'warm': 39580,\n",
       " 'bit': 5156,\n",
       " 'bigger': 5039,\n",
       " 'ccozinha': 7141,\n",
       " 'fan': 14133,\n",
       " 'actually': 1992,\n",
       " 'super': 35543,\n",
       " 'rough': 31242,\n",
       " 'soft': 33863,\n",
       " 'wash': 39626,\n",
       " 'cloths': 8108,\n",
       " 'bar': 4387,\n",
       " 'guy': 16978,\n",
       " 'often': 25598,\n",
       " 'he': 17495,\n",
       " 'unfold': 38316,\n",
       " 'topremoves': 37218,\n",
       " 'storage': 34995,\n",
       " 'difficult': 11200,\n",
       " 'frame': 15327,\n",
       " 'beautifully': 4679,\n",
       " 'crafted': 9462,\n",
       " 'picture': 27264,\n",
       " 'hot': 18233,\n",
       " 'cocoa': 8219,\n",
       " 'finally': 14589,\n",
       " 'fabulous': 14003,\n",
       " 'friend': 15448,\n",
       " 'low': 22138,\n",
       " 'purchased': 28891,\n",
       " 'christmas': 7737,\n",
       " 'gift': 16081,\n",
       " 'she': 32711,\n",
       " 'accurate': 1890,\n",
       " 'description': 10868,\n",
       " 'came': 6622,\n",
       " 'happy': 17261,\n",
       " 'duvet': 12376,\n",
       " 'cover': 9393,\n",
       " 'fluffy': 14979,\n",
       " 'softest': 33872,\n",
       " 'blankets': 5232,\n",
       " 'ever': 13564,\n",
       " 'cozy': 9431,\n",
       " 'smells': 33626,\n",
       " 'mist': 23825,\n",
       " 'dries': 12129,\n",
       " 'quickly': 29091,\n",
       " 'favorite': 14284,\n",
       " 'expecting': 13779,\n",
       " 'curtains': 9902,\n",
       " 'bedroom': 4711,\n",
       " 'hang': 17212,\n",
       " 'pants': 26445,\n",
       " 'skirts': 33352,\n",
       " 'were': 39890,\n",
       " 'something': 33946,\n",
       " 'larger': 21137,\n",
       " 'pricey': 28321,\n",
       " 'charge': 7390,\n",
       " 'kept': 20542,\n",
       " 'up': 38657,\n",
       " 'day': 10270,\n",
       " 'nothing': 25253,\n",
       " 'special': 34183,\n",
       " 'install': 19323,\n",
       " 'described': 10865,\n",
       " 'arrived': 3374,\n",
       " 'timely': 36962,\n",
       " 'manner': 22664,\n",
       " 'sent': 32409,\n",
       " 'work': 40471,\n",
       " 'holds': 18027,\n",
       " 'brushes': 6137,\n",
       " 'pencils': 26853,\n",
       " 'mascara': 22870,\n",
       " 'etc': 13476,\n",
       " 'sheds': 32727,\n",
       " 'over': 26093,\n",
       " 'again': 2288,\n",
       " 'pyrex': 28988,\n",
       " 'less': 21488,\n",
       " 'opener': 25747,\n",
       " 'hands': 17196,\n",
       " 'about': 1747,\n",
       " 'air': 2391,\n",
       " 'tight': 36920,\n",
       " 'glad': 16167,\n",
       " 'cute': 9942,\n",
       " 'zippers': 41049,\n",
       " 'worked': 40478,\n",
       " 'send': 32366,\n",
       " 'grandkids': 16555,\n",
       " 'their': 36608,\n",
       " 'halloween': 17107,\n",
       " 'treats': 37561,\n",
       " 'ton': 37141,\n",
       " 'by': 6453,\n",
       " 'using': 38762,\n",
       " 'weak': 39741,\n",
       " 'barely': 4414,\n",
       " 'bring': 6018,\n",
       " 'any': 3035,\n",
       " 'glasses': 16186,\n",
       " 'feels': 14356,\n",
       " 'grand': 16539,\n",
       " 'daughter': 10245,\n",
       " 'connecting': 8803,\n",
       " 'cctv': 7143,\n",
       " 'power': 28022,\n",
       " 'supply': 35599,\n",
       " 'cameras': 6633,\n",
       " 'definitely': 10555,\n",
       " 'contemporary': 8945,\n",
       " 'assemble': 3494,\n",
       " 'appears': 3118,\n",
       " 'boyfriend': 5780,\n",
       " 'loved': 22114,\n",
       " 'cousin': 9386,\n",
       " 'stopped': 34989,\n",
       " 'working': 40483,\n",
       " 'after': 2270,\n",
       " 'still': 34911,\n",
       " 'waiting': 39484,\n",
       " 'refund': 29983,\n",
       " 'reasonably': 29621,\n",
       " 'dialysis': 11107,\n",
       " 'patient': 26651,\n",
       " 'poor': 27837,\n",
       " 'kid': 20615,\n",
       " 'dds': 10310,\n",
       " 'thanks': 36575,\n",
       " 'ruff': 31332,\n",
       " 'under': 38175,\n",
       " 'your': 40903,\n",
       " 'feet': 14359,\n",
       " 'chair': 7286,\n",
       " 'order': 25848,\n",
       " 'photos': 27207,\n",
       " 'wall': 39512,\n",
       " 'weeks': 39819,\n",
       " 'thermal': 36650,\n",
       " 'insulation': 19382,\n",
       " 'helps': 17680,\n",
       " 'food': 15087,\n",
       " 'warmer': 39582,\n",
       " 'wide': 40106,\n",
       " 'opening': 25749,\n",
       " 'best': 4948,\n",
       " 'future': 15647,\n",
       " 'additional': 2043,\n",
       " 'convenience': 9031,\n",
       " 'smell': 33623,\n",
       " 'turquoise': 37897,\n",
       " 'almost': 2614,\n",
       " 'neon': 24833,\n",
       " 'bright': 5994,\n",
       " 'pink': 27340,\n",
       " 'material': 22942,\n",
       " 'shelves': 32756,\n",
       " 'chocolate': 7669,\n",
       " 'yogurt': 40870,\n",
       " 'or': 25823,\n",
       " 'fruit': 15517,\n",
       " 'think': 36708,\n",
       " 'knives': 20798,\n",
       " 'ottoman': 25978,\n",
       " 'should': 32910,\n",
       " 'father': 14249,\n",
       " 'needed': 24777,\n",
       " 'winter': 40268,\n",
       " 'slept': 33457,\n",
       " 'week': 39814,\n",
       " 'sheets': 32736,\n",
       " 'find': 14599,\n",
       " 'bed': 4701,\n",
       " 'functional': 15578,\n",
       " 'legs': 21411,\n",
       " 'bedding': 4704,\n",
       " 'term': 36460,\n",
       " 'container': 8931,\n",
       " 'bags': 4245,\n",
       " 'type': 37977,\n",
       " 'containers': 8932,\n",
       " 'smooth': 33657,\n",
       " 'solid': 33907,\n",
       " 'fits': 14716,\n",
       " 'grill': 16702,\n",
       " 'large': 21135,\n",
       " 'canvas': 6751,\n",
       " 'tote': 37285,\n",
       " 'lightweight': 21664,\n",
       " 'ordered': 25850,\n",
       " 'light': 21639,\n",
       " 'blue': 5380,\n",
       " 'yellow': 40823,\n",
       " 'used': 38754,\n",
       " 'every': 13573,\n",
       " 'gets': 16035,\n",
       " 'shampoo': 32633,\n",
       " 'conditioner': 8702,\n",
       " 'want': 39555,\n",
       " 'shower': 32934,\n",
       " 'mini': 23652,\n",
       " 'full': 15565,\n",
       " 'mattress': 22983,\n",
       " 'college': 8325,\n",
       " 'terrible': 36482,\n",
       " 'complete': 8571,\n",
       " 'waste': 39642,\n",
       " 'whole': 40070,\n",
       " 'lot': 22076,\n",
       " 'together': 37082,\n",
       " 'difference': 11183,\n",
       " 'deal': 10336,\n",
       " 'far': 14164,\n",
       " 'skinnier': 33338,\n",
       " 'products': 28477,\n",
       " 'quick': 29084,\n",
       " 'customer': 9931,\n",
       " 'service': 32499,\n",
       " 'value': 38873,\n",
       " 'oven': 26091,\n",
       " 'right': 30867,\n",
       " 'height': 17636,\n",
       " 'wait': 39481,\n",
       " 'try': 37775,\n",
       " 'haul': 17409,\n",
       " 'china': 7628,\n",
       " 'mother': 24217,\n",
       " 'spices': 34277,\n",
       " 'anything': 3043,\n",
       " 'else': 12848,\n",
       " 'car': 6810,\n",
       " 'snake': 33699,\n",
       " 'oil': 25616,\n",
       " 'cushion': 9915,\n",
       " 'constructed': 8895,\n",
       " 'easily': 12518,\n",
       " 'washed': 39629,\n",
       " 'haven': 17430,\n",
       " 'takes': 36043,\n",
       " 'mystery': 24536,\n",
       " 'when': 39968,\n",
       " 'meat': 23153,\n",
       " 'finished': 14626,\n",
       " 'cooking': 9089,\n",
       " 'its': 19817,\n",
       " 'organizer': 25873,\n",
       " 'utensils': 38783,\n",
       " 'perfectly': 26943,\n",
       " 'art': 3385,\n",
       " 'rug': 31335,\n",
       " 'some': 33936,\n",
       " 'wrap': 40570,\n",
       " 'longer': 21984,\n",
       " 'tubes': 37801,\n",
       " 'which': 39985,\n",
       " 'disappointing': 11362,\n",
       " 'belts': 4849,\n",
       " 'never': 24913,\n",
       " 'expensive': 13793,\n",
       " 'renting': 30288,\n",
       " 'soften': 33867,\n",
       " 'washing': 39633,\n",
       " 'goes': 16314,\n",
       " 'star': 34701,\n",
       " 'quilts': 29108,\n",
       " 'mug': 24384,\n",
       " 'hers': 17757,\n",
       " 'saver': 31783,\n",
       " 'our': 25989,\n",
       " 'laundry': 21226,\n",
       " 'room': 31149,\n",
       " 'flexible': 14853,\n",
       " 'leading': 21295,\n",
       " 'edge': 12598,\n",
       " 'quite': 29125,\n",
       " 'helpful': 17675,\n",
       " 'conditions': 8704,\n",
       " 'bottom': 5707,\n",
       " 'stay': 34773,\n",
       " 'zero': 41016,\n",
       " 'elegant': 12770,\n",
       " 'glass': 16185,\n",
       " 'improve': 18845,\n",
       " 'taste': 36192,\n",
       " 'wine': 40228,\n",
       " 'side': 33030,\n",
       " 'sleeper': 33440,\n",
       " 'there': 36640,\n",
       " 'mats': 22969,\n",
       " 'new': 24920,\n",
       " 'bathroom': 4541,\n",
       " 'baking': 4271,\n",
       " 'needs': 24784,\n",
       " 'top': 37199,\n",
       " 'notch': 25240,\n",
       " 'artistry': 3411,\n",
       " 'bust': 6404,\n",
       " 'jesters': 20047,\n",
       " 'studios': 35224,\n",
       " 'many': 22702,\n",
       " 'comments': 8459,\n",
       " 'spoon': 34400,\n",
       " 'table': 35968,\n",
       " 'matched': 22933,\n",
       " 'curtain': 9901,\n",
       " 'secondary': 32225,\n",
       " 'apartments': 3061,\n",
       " 'reaching': 29536,\n",
       " 'areas': 3267,\n",
       " 'somewhat': 33950,\n",
       " 'convenient': 9033,\n",
       " 'hoped': 18158,\n",
       " 'battery': 4560,\n",
       " 'candles': 6703,\n",
       " 'brand': 5847,\n",
       " 'ok': 25624,\n",
       " 'firm': 14681,\n",
       " 'perfection': 26940,\n",
       " 'beyond': 4993,\n",
       " 'minimal': 23663,\n",
       " 'effort': 12670,\n",
       " 'froth': 15505,\n",
       " 'smile': 33633,\n",
       " 'fleece': 14827,\n",
       " 'noticed': 25260,\n",
       " 'today': 37067,\n",
       " 'bubbling': 6176,\n",
       " 'where': 39971,\n",
       " 'weighing': 39829,\n",
       " 'lbs': 21279,\n",
       " 'oz': 26249,\n",
       " 'grams': 16535,\n",
       " 'sticks': 34896,\n",
       " 'meal': 23127,\n",
       " 'pho': 27180,\n",
       " 'candy': 6705,\n",
       " 'buffet': 6220,\n",
       " 'certainly': 7239,\n",
       " 'multipurpose': 24414,\n",
       " 'ev': 13525,\n",
       " 'cord': 9156,\n",
       " 'garage': 15779,\n",
       " 'broke': 6069,\n",
       " 'month': 24093,\n",
       " 'tacky': 36000,\n",
       " 'shelf': 32743,\n",
       " 'spare': 34131,\n",
       " 'memory': 23293,\n",
       " 'earlier': 12477,\n",
       " 'packaging': 26295,\n",
       " 'mix': 23871,\n",
       " 'goloka': 16359,\n",
       " 'nag': 24571,\n",
       " 'champa': 7314,\n",
       " 'bride': 5965,\n",
       " 'engraving': 13121,\n",
       " 'slightly': 33485,\n",
       " 'website': 39796,\n",
       " 'pictures': 27267,\n",
       " 'then': 36624,\n",
       " 'year': 40809,\n",
       " 'pint': 27357,\n",
       " 'pick': 27242,\n",
       " 'equipment': 13320,\n",
       " 'rings': 30897,\n",
       " 'either': 12711,\n",
       " 'gone': 16360,\n",
       " 'destroyed': 10927,\n",
       " 'pieces': 27274,\n",
       " 'gifts': 16085,\n",
       " 'trouble': 37714,\n",
       " 'high': 17834,\n",
       " 'end': 13048,\n",
       " 'calming': 6605,\n",
       " 'clock': 8069,\n",
       " 'although': 2656,\n",
       " 'flaw': 14812,\n",
       " 'solution': 33921,\n",
       " 'sorting': 34036,\n",
       " 'his': 17931,\n",
       " 'messes': 23402,\n",
       " 'going': 16327,\n",
       " 'dinner': 11295,\n",
       " 'beautious': 4680,\n",
       " 'buying': 6442,\n",
       " 'especially': 13424,\n",
       " 'mugs': 24389,\n",
       " 'nicely': 24980,\n",
       " 'wife': 40130,\n",
       " 'packed': 26297,\n",
       " 'crockpots': 9675,\n",
       " 'variety': 38915,\n",
       " 'myself': 24531,\n",
       " 'hours': 18263,\n",
       " 'mirror': 23730,\n",
       " 'into': 19560,\n",
       " 'hanging': 17218,\n",
       " 'wreath': 40580,\n",
       " 'efficient': 12667,\n",
       " 'adore': 2130,\n",
       " 'bowls': 5762,\n",
       " 'batch': 4524,\n",
       " 'cold': 8273,\n",
       " 'drinks': 12142,\n",
       " 'measuring': 23152,\n",
       " 'cupcakes': 9859,\n",
       " 'hand': 17155,\n",
       " 'bottling': 5705,\n",
       " 'fact': 14024,\n",
       " 'padding': 26308,\n",
       " 'popcorn': 27842,\n",
       " 'machine': 22371,\n",
       " 'easier': 12516,\n",
       " 'wrong': 40628,\n",
       " 'countertop': 9341,\n",
       " 'drawer': 12072,\n",
       " 'defective': 10517,\n",
       " 'fix': 14727,\n",
       " 'boy': 5776,\n",
       " 'turn': 37882,\n",
       " 'off': 25564,\n",
       " 'snap': 33701,\n",
       " 'don': 11855,\n",
       " 'burns': 6364,\n",
       " 'hell': 17656,\n",
       " 'temps': 36398,\n",
       " 'replaced': 30337,\n",
       " 'staff': 34622,\n",
       " 'holding': 18025,\n",
       " 'says': 31818,\n",
       " 'favorites': 14285,\n",
       " 'closet': 8094,\n",
       " 'know': 20819,\n",
       " 'tried': 37629,\n",
       " 'before': 4745,\n",
       " 'merchandise': 23338,\n",
       " 'speedy': 34243,\n",
       " 'delivery': 10662,\n",
       " 'american': 2738,\n",
       " 'matching': 22935,\n",
       " 'pie': 27271,\n",
       " 'three': 36790,\n",
       " 'sets': 32516,\n",
       " 'impressed': 18826,\n",
       " 'bag': 4229,\n",
       " 'durable': 12344,\n",
       " 'suppose': 35607,\n",
       " 'water': 39667,\n",
       " 'flash': 14773,\n",
       " 'goblet': 16289,\n",
       " 'fluid': 14980,\n",
       " 'beer': 4735,\n",
       " 'even': 13548,\n",
       " 'sitting': 33249,\n",
       " 'believe': 4811,\n",
       " 'reorder': 30294,\n",
       " 'rated': 29446,\n",
       " 'whwn': 40090,\n",
       " 'originally': 25899,\n",
       " 'noodle': 25174,\n",
       " 'strainer': 35046,\n",
       " 'threads': 36783,\n",
       " 'socket': 33850,\n",
       " 'bulbs': 6253,\n",
       " 'totally': 37283,\n",
       " 'unpacked': 38484,\n",
       " 'yet': 40842,\n",
       " 'styrofoam': 35293,\n",
       " 'pull': 28831,\n",
       " 'along': 2620,\n",
       " 'otherwise': 25965,\n",
       " 'clear': 7970,\n",
       " 'toilet': 37093,\n",
       " 'brush': 6135,\n",
       " 'holders': 18024,\n",
       " 'sleek': 33437,\n",
       " 'appear': 3111,\n",
       " 'promised': 28559,\n",
       " 'lovely': 22122,\n",
       " 'lamp': 21064,\n",
       " 'cookie': 9087,\n",
       " 'cutter': 9959,\n",
       " 'track': 37362,\n",
       " 'shoes': 32852,\n",
       " 'floor': 14917,\n",
       " 'visible': 39254,\n",
       " 'shipped': 32820,\n",
       " 'promptly': 28573,\n",
       " 'ten': 36406,\n",
       " 'slow': 33552,\n",
       " 'toasting': 37057,\n",
       " 'rye': 31431,\n",
       " 'bread': 5891,\n",
       " 'becomes': 4698,\n",
       " 'rock': 31031,\n",
       " 'toasted': 37054,\n",
       " 'overall': 26097,\n",
       " 'corners': 9204,\n",
       " 'broken': 6071,\n",
       " 'pasta': 26615,\n",
       " 'cereal': 7231,\n",
       " 'ice': 18530,\n",
       " 'cream': 9546,\n",
       " 'soup': 34065,\n",
       " 'filter': 14568,\n",
       " 'covers': 9400,\n",
       " 'night': 25019,\n",
       " 'noise': 25134,\n",
       " 'variations': 38911,\n",
       " 'fell': 14380,\n",
       " 'apart': 3058,\n",
       " 'became': 4687,\n",
       " 'unusable': 38620,\n",
       " 'strong': 35175,\n",
       " 'vacuume': 38837,\n",
       " 'world': 40503,\n",
       " 'carpet': 6914,\n",
       " 'floral': 14933,\n",
       " 'dead': 10318,\n",
       " 'heading': 17511,\n",
       " 'watering': 39680,\n",
       " 'lghts': 21554,\n",
       " 'rum': 31356,\n",
       " 'infused': 19142,\n",
       " 'covered': 9396,\n",
       " 'strawberries': 35080,\n",
       " 'molded': 24001,\n",
       " 'hearts': 17580,\n",
       " 'shells': 32749,\n",
       " 'tad': 36009,\n",
       " 'loose': 22034,\n",
       " '15': 292,\n",
       " 'eat': 12534,\n",
       " 'breakfast': 5901,\n",
       " 'nook': 25176,\n",
       " 'classic': 7929,\n",
       " 'honey': 18101,\n",
       " 'temperature': 36387,\n",
       " 'dishwasher': 11483,\n",
       " 'area': 3266,\n",
       " 'camis': 6642,\n",
       " 'access': 1837,\n",
       " 'burn': 6356,\n",
       " 'white': 40040,\n",
       " 'elephant': 12778,\n",
       " 'liking': 21684,\n",
       " 'daughters': 10246,\n",
       " 'single': 33195,\n",
       " 'fresher': 15427,\n",
       " 'tastes': 36197,\n",
       " 'lighter': 21647,\n",
       " 'soon': 33984,\n",
       " 'surprised': 35658,\n",
       " 'blackout': 5203,\n",
       " 'task': 36185,\n",
       " 'standard': 34679,\n",
       " 'present': 28230,\n",
       " 'guest': 16877,\n",
       " '32': 853,\n",
       " 'ozark': 26250,\n",
       " 'comes': 8421,\n",
       " 'amazing': 2704,\n",
       " 'eggs': 12681,\n",
       " 'reasons': 29625,\n",
       " 'whites': 40045,\n",
       " 'straws': 35082,\n",
       " 'thinner': 36718,\n",
       " 'professional': 28487,\n",
       " 'blender': 5276,\n",
       " 'open': 25744,\n",
       " 'see': 32269,\n",
       " 'wear': 39757,\n",
       " 'tear': 36284,\n",
       " 'ergonomically': 13349,\n",
       " 'correct': 9226,\n",
       " 'mom': 24018,\n",
       " 'summer': 35486,\n",
       " 'tiny': 37006,\n",
       " 'spatulas': 34161,\n",
       " 'unless': 38429,\n",
       " 'spatula': 34160,\n",
       " 'who': 40064,\n",
       " 'arthritis': 3394,\n",
       " 'her': 17714,\n",
       " 'reading': 29557,\n",
       " 'reviews': 30722,\n",
       " 'complements': 8570,\n",
       " 'schemes': 31916,\n",
       " 'vibrant': 39097,\n",
       " 'softer': 33871,\n",
       " 'model': 23945,\n",
       " 'bottles': 5704,\n",
       " 'freezer': 15405,\n",
       " 'fresh': 15423,\n",
       " 'compact': 8504,\n",
       " 'travel': 37522,\n",
       " 'charm': 7411,\n",
       " 'daily': 10080,\n",
       " 'pug': 28820,\n",
       " 'lid': 21601,\n",
       " 'husbands': 18447,\n",
       " 'wrists': 40614,\n",
       " 'cleaned': 7959,\n",
       " 'sooner': 33985,\n",
       " 'thicker': 36684,\n",
       " 'polka': 27763,\n",
       " 'dots': 11935,\n",
       " 'disappear': 11354,\n",
       " 'hooks': 18142,\n",
       " 'ceiling': 7162,\n",
       " 'returned': 30670,\n",
       " 'exchanged': 13672,\n",
       " 'twice': 37945,\n",
       " 'base': 4476,\n",
       " 'knife': 20785,\n",
       " 'sharp': 32675,\n",
       " 'careful': 6852,\n",
       " 'taking': 36046,\n",
       " 'italy': 19799,\n",
       " 'rather': 29450,\n",
       " 'scarce': 31858,\n",
       " 'handles': 17188,\n",
       " 'stronger': 35176,\n",
       " 'quit': 29123,\n",
       " 'wobbles': 40371,\n",
       " 'though': 36763,\n",
       " 'knob': 20800,\n",
       " 'rod': 31054,\n",
       " 'clothes': 8104,\n",
       " 'stuff': 35230,\n",
       " 'rub': 31302,\n",
       " 'hangars': 17215,\n",
       " 'shorter': 32893,\n",
       " 'cotton': 9302,\n",
       " 'king': 20688,\n",
       " 'waterbed': 39669,\n",
       " 'others': 25962,\n",
       " 'mentioned': 23316,\n",
       " 'kinda': 20671,\n",
       " 'hose': 18215,\n",
       " 'stiff': 34899,\n",
       " 'fun': 15573,\n",
       " 'alice': 2528,\n",
       " 'wonderland': 40415,\n",
       " 'themed': 36617,\n",
       " 'party': 26586,\n",
       " 'runner': 31371,\n",
       " 'antique': 3016,\n",
       " 'balloon': 4313,\n",
       " 'weight': 39831,\n",
       " 'serves': 32498,\n",
       " 'purpose': 28924,\n",
       " 'both': 5695,\n",
       " 'aesthetically': 2216,\n",
       " 'useful': 38756,\n",
       " 'attractive': 3683,\n",
       " 'obsolete': 25479,\n",
       " 'shark': 32672,\n",
       " 'wiil': 40148,\n",
       " 'moldy': 24005,\n",
       " 'speed': 34224,\n",
       " 'home': 18061,\n",
       " 'tamales': 36074,\n",
       " 'cracked': 9448,\n",
       " 'bad': 4210,\n",
       " 'soap': 33816,\n",
       " 'fish': 14692,\n",
       " 'looked': 22004,\n",
       " 'cattie': 7084,\n",
       " 'lunch': 22252,\n",
       " 'several': 32537,\n",
       " 'days': 10284,\n",
       " 'lunchbox': 22254,\n",
       " 'preschooler': 28222,\n",
       " 'plenty': 27586,\n",
       " 'solo': 33916,\n",
       " 'campfire': 6659,\n",
       " 'stove': 35025,\n",
       " 'tested': 36512,\n",
       " 'installation': 19325,\n",
       " 'priced': 28314,\n",
       " 'terms': 36470,\n",
       " 'durability': 12343,\n",
       " 're': 29529,\n",
       " 'scratch': 32056,\n",
       " 'weird': 39844,\n",
       " 'unlike': 38431,\n",
       " 'liners': 21748,\n",
       " 'debris': 10379,\n",
       " 'falls': 14106,\n",
       " 'ends': 13073,\n",
       " 'designed': 10887,\n",
       " 'added': 2030,\n",
       " 'organization': 25869,\n",
       " 'provide': 28695,\n",
       " 'pot': 27973,\n",
       " 'most': 24211,\n",
       " 'pleased': 27564,\n",
       " 'shown': 32944,\n",
       " 'mudrooma': 24375,\n",
       " 'towel': 37326,\n",
       " 'rack': 29243,\n",
       " 'projects': 28539,\n",
       " 'sooooooo': 33990,\n",
       " 'worth': 40528,\n",
       " 'hygienic': 18483,\n",
       " 'rimming': 30889,\n",
       " 'salt': 31586,\n",
       " 'margaritas': 22741,\n",
       " ...}"
      ]
     },
     "execution_count": 16,
     "metadata": {},
     "output_type": "execute_result"
    }
   ],
   "source": [
    "vectorization = TfidfVectorizer()\n",
    "transformed_output = vectorization.fit_transform(df['text_'])\n",
    "vectorization.vocabulary_"
   ]
  },
  {
   "cell_type": "code",
   "execution_count": 17,
   "id": "96744bdc",
   "metadata": {},
   "outputs": [],
   "source": [
    "feature_names=vectorization.get_feature_names_out()"
   ]
  },
  {
   "cell_type": "code",
   "execution_count": 18,
   "id": "f80c27ac",
   "metadata": {},
   "outputs": [
    {
     "data": {
      "text/plain": [
       "array(['00', '000', '0005', ..., 'zurg', 'zyliss', 'zymox'], dtype=object)"
      ]
     },
     "execution_count": 18,
     "metadata": {},
     "output_type": "execute_result"
    }
   ],
   "source": [
    "feature_names"
   ]
  },
  {
   "cell_type": "code",
   "execution_count": 19,
   "id": "091c9dab",
   "metadata": {},
   "outputs": [
    {
     "data": {
      "text/plain": [
       "(40432, 41099)"
      ]
     },
     "execution_count": 19,
     "metadata": {},
     "output_type": "execute_result"
    }
   ],
   "source": [
    "transformed_output.shape"
   ]
  },
  {
   "cell_type": "code",
   "execution_count": 20,
   "id": "29fced18",
   "metadata": {
    "scrolled": false
   },
   "outputs": [
    {
     "data": {
      "text/html": [
       "<div>\n",
       "<style scoped>\n",
       "    .dataframe tbody tr th:only-of-type {\n",
       "        vertical-align: middle;\n",
       "    }\n",
       "\n",
       "    .dataframe tbody tr th {\n",
       "        vertical-align: top;\n",
       "    }\n",
       "\n",
       "    .dataframe thead th {\n",
       "        text-align: right;\n",
       "    }\n",
       "</style>\n",
       "<table border=\"1\" class=\"dataframe\">\n",
       "  <thead>\n",
       "    <tr style=\"text-align: right;\">\n",
       "      <th></th>\n",
       "      <th>category</th>\n",
       "      <th>rating</th>\n",
       "      <th>text_</th>\n",
       "      <th>label</th>\n",
       "    </tr>\n",
       "  </thead>\n",
       "  <tbody>\n",
       "    <tr>\n",
       "      <th>0</th>\n",
       "      <td>Home_and_Kitchen_5</td>\n",
       "      <td>5.0</td>\n",
       "      <td>Love this!  Well made, sturdy, and very comfor...</td>\n",
       "      <td>0</td>\n",
       "    </tr>\n",
       "    <tr>\n",
       "      <th>1</th>\n",
       "      <td>Home_and_Kitchen_5</td>\n",
       "      <td>5.0</td>\n",
       "      <td>love it, a great upgrade from the original.  I...</td>\n",
       "      <td>0</td>\n",
       "    </tr>\n",
       "    <tr>\n",
       "      <th>2</th>\n",
       "      <td>Home_and_Kitchen_5</td>\n",
       "      <td>5.0</td>\n",
       "      <td>This pillow saved my back. I love the look and...</td>\n",
       "      <td>0</td>\n",
       "    </tr>\n",
       "    <tr>\n",
       "      <th>3</th>\n",
       "      <td>Home_and_Kitchen_5</td>\n",
       "      <td>1.0</td>\n",
       "      <td>Missing information on how to use it, but it i...</td>\n",
       "      <td>0</td>\n",
       "    </tr>\n",
       "    <tr>\n",
       "      <th>4</th>\n",
       "      <td>Home_and_Kitchen_5</td>\n",
       "      <td>5.0</td>\n",
       "      <td>Very nice set. Good quality. We have had the s...</td>\n",
       "      <td>0</td>\n",
       "    </tr>\n",
       "  </tbody>\n",
       "</table>\n",
       "</div>"
      ],
      "text/plain": [
       "             category  rating  \\\n",
       "0  Home_and_Kitchen_5     5.0   \n",
       "1  Home_and_Kitchen_5     5.0   \n",
       "2  Home_and_Kitchen_5     5.0   \n",
       "3  Home_and_Kitchen_5     1.0   \n",
       "4  Home_and_Kitchen_5     5.0   \n",
       "\n",
       "                                               text_  label  \n",
       "0  Love this!  Well made, sturdy, and very comfor...      0  \n",
       "1  love it, a great upgrade from the original.  I...      0  \n",
       "2  This pillow saved my back. I love the look and...      0  \n",
       "3  Missing information on how to use it, but it i...      0  \n",
       "4  Very nice set. Good quality. We have had the s...      0  "
      ]
     },
     "execution_count": 20,
     "metadata": {},
     "output_type": "execute_result"
    }
   ],
   "source": [
    "df1.head()"
   ]
  },
  {
   "cell_type": "code",
   "execution_count": 21,
   "id": "d615590a",
   "metadata": {},
   "outputs": [
    {
     "name": "stderr",
     "output_type": "stream",
     "text": [
      "C:\\Users\\user\\anaconda3\\lib\\site-packages\\pandas\\core\\generic.py:6619: SettingWithCopyWarning: \n",
      "A value is trying to be set on a copy of a slice from a DataFrame\n",
      "\n",
      "See the caveats in the documentation: https://pandas.pydata.org/pandas-docs/stable/user_guide/indexing.html#returning-a-view-versus-a-copy\n",
      "  return self._update_inplace(result)\n"
     ]
    }
   ],
   "source": [
    "df1['category'].replace(['Home_and_Kitchen_5', 'Sports_and_Outdoors_5','Electronics_5',\n",
    "       'Movies_and_TV_5', 'Tools_and_Home_Improvement_5',\n",
    "       'Pet_Supplies_5', 'Kindle_Store_5', 'Books_5', 'Toys_and_Games_5',\n",
    "       'Clothing_Shoes_and_Jewelry_5'],\n",
    "                        [0,1,2,3,4,5,6,7,8,9], inplace=True)"
   ]
  },
  {
   "cell_type": "code",
   "execution_count": 22,
   "id": "38dc2d3b",
   "metadata": {
    "scrolled": true
   },
   "outputs": [
    {
     "data": {
      "text/html": [
       "<div>\n",
       "<style scoped>\n",
       "    .dataframe tbody tr th:only-of-type {\n",
       "        vertical-align: middle;\n",
       "    }\n",
       "\n",
       "    .dataframe tbody tr th {\n",
       "        vertical-align: top;\n",
       "    }\n",
       "\n",
       "    .dataframe thead th {\n",
       "        text-align: right;\n",
       "    }\n",
       "</style>\n",
       "<table border=\"1\" class=\"dataframe\">\n",
       "  <thead>\n",
       "    <tr style=\"text-align: right;\">\n",
       "      <th></th>\n",
       "      <th>category</th>\n",
       "      <th>rating</th>\n",
       "      <th>text_</th>\n",
       "      <th>label</th>\n",
       "    </tr>\n",
       "  </thead>\n",
       "  <tbody>\n",
       "    <tr>\n",
       "      <th>0</th>\n",
       "      <td>0</td>\n",
       "      <td>5.0</td>\n",
       "      <td>Love this!  Well made, sturdy, and very comfor...</td>\n",
       "      <td>0</td>\n",
       "    </tr>\n",
       "    <tr>\n",
       "      <th>1</th>\n",
       "      <td>0</td>\n",
       "      <td>5.0</td>\n",
       "      <td>love it, a great upgrade from the original.  I...</td>\n",
       "      <td>0</td>\n",
       "    </tr>\n",
       "    <tr>\n",
       "      <th>2</th>\n",
       "      <td>0</td>\n",
       "      <td>5.0</td>\n",
       "      <td>This pillow saved my back. I love the look and...</td>\n",
       "      <td>0</td>\n",
       "    </tr>\n",
       "    <tr>\n",
       "      <th>3</th>\n",
       "      <td>0</td>\n",
       "      <td>1.0</td>\n",
       "      <td>Missing information on how to use it, but it i...</td>\n",
       "      <td>0</td>\n",
       "    </tr>\n",
       "    <tr>\n",
       "      <th>4</th>\n",
       "      <td>0</td>\n",
       "      <td>5.0</td>\n",
       "      <td>Very nice set. Good quality. We have had the s...</td>\n",
       "      <td>0</td>\n",
       "    </tr>\n",
       "  </tbody>\n",
       "</table>\n",
       "</div>"
      ],
      "text/plain": [
       "   category  rating                                              text_  label\n",
       "0         0     5.0  Love this!  Well made, sturdy, and very comfor...      0\n",
       "1         0     5.0  love it, a great upgrade from the original.  I...      0\n",
       "2         0     5.0  This pillow saved my back. I love the look and...      0\n",
       "3         0     1.0  Missing information on how to use it, but it i...      0\n",
       "4         0     5.0  Very nice set. Good quality. We have had the s...      0"
      ]
     },
     "execution_count": 22,
     "metadata": {},
     "output_type": "execute_result"
    }
   ],
   "source": [
    "df1.head()"
   ]
  },
  {
   "cell_type": "code",
   "execution_count": 23,
   "id": "81034cd7",
   "metadata": {},
   "outputs": [],
   "source": [
    "df2 = pd.DataFrame(transformed_output.toarray(), columns=vectorization.vocabulary_)"
   ]
  },
  {
   "cell_type": "code",
   "execution_count": 24,
   "id": "f2ffdd70",
   "metadata": {},
   "outputs": [
    {
     "data": {
      "text/html": [
       "<div>\n",
       "<style scoped>\n",
       "    .dataframe tbody tr th:only-of-type {\n",
       "        vertical-align: middle;\n",
       "    }\n",
       "\n",
       "    .dataframe tbody tr th {\n",
       "        vertical-align: top;\n",
       "    }\n",
       "\n",
       "    .dataframe thead th {\n",
       "        text-align: right;\n",
       "    }\n",
       "</style>\n",
       "<table border=\"1\" class=\"dataframe\">\n",
       "  <thead>\n",
       "    <tr style=\"text-align: right;\">\n",
       "      <th></th>\n",
       "      <th>love</th>\n",
       "      <th>this</th>\n",
       "      <th>well</th>\n",
       "      <th>made</th>\n",
       "      <th>sturdy</th>\n",
       "      <th>and</th>\n",
       "      <th>very</th>\n",
       "      <th>comfortable</th>\n",
       "      <th>it</th>\n",
       "      <th>pretty</th>\n",
       "      <th>...</th>\n",
       "      <th>ruck</th>\n",
       "      <th>warmness</th>\n",
       "      <th>minimizer</th>\n",
       "      <th>gallbladder</th>\n",
       "      <th>hippora</th>\n",
       "      <th>hyvent</th>\n",
       "      <th>dwr</th>\n",
       "      <th>ducks</th>\n",
       "      <th>32degrees</th>\n",
       "      <th>merrels</th>\n",
       "    </tr>\n",
       "  </thead>\n",
       "  <tbody>\n",
       "    <tr>\n",
       "      <th>0</th>\n",
       "      <td>0.0</td>\n",
       "      <td>0.0</td>\n",
       "      <td>0.0</td>\n",
       "      <td>0.0</td>\n",
       "      <td>0.0</td>\n",
       "      <td>0.0</td>\n",
       "      <td>0.0</td>\n",
       "      <td>0.0</td>\n",
       "      <td>0.0</td>\n",
       "      <td>0.0</td>\n",
       "      <td>...</td>\n",
       "      <td>0.0</td>\n",
       "      <td>0.0</td>\n",
       "      <td>0.0</td>\n",
       "      <td>0.0</td>\n",
       "      <td>0.0</td>\n",
       "      <td>0.0</td>\n",
       "      <td>0.0</td>\n",
       "      <td>0.0</td>\n",
       "      <td>0.0</td>\n",
       "      <td>0.0</td>\n",
       "    </tr>\n",
       "    <tr>\n",
       "      <th>1</th>\n",
       "      <td>0.0</td>\n",
       "      <td>0.0</td>\n",
       "      <td>0.0</td>\n",
       "      <td>0.0</td>\n",
       "      <td>0.0</td>\n",
       "      <td>0.0</td>\n",
       "      <td>0.0</td>\n",
       "      <td>0.0</td>\n",
       "      <td>0.0</td>\n",
       "      <td>0.0</td>\n",
       "      <td>...</td>\n",
       "      <td>0.0</td>\n",
       "      <td>0.0</td>\n",
       "      <td>0.0</td>\n",
       "      <td>0.0</td>\n",
       "      <td>0.0</td>\n",
       "      <td>0.0</td>\n",
       "      <td>0.0</td>\n",
       "      <td>0.0</td>\n",
       "      <td>0.0</td>\n",
       "      <td>0.0</td>\n",
       "    </tr>\n",
       "    <tr>\n",
       "      <th>2</th>\n",
       "      <td>0.0</td>\n",
       "      <td>0.0</td>\n",
       "      <td>0.0</td>\n",
       "      <td>0.0</td>\n",
       "      <td>0.0</td>\n",
       "      <td>0.0</td>\n",
       "      <td>0.0</td>\n",
       "      <td>0.0</td>\n",
       "      <td>0.0</td>\n",
       "      <td>0.0</td>\n",
       "      <td>...</td>\n",
       "      <td>0.0</td>\n",
       "      <td>0.0</td>\n",
       "      <td>0.0</td>\n",
       "      <td>0.0</td>\n",
       "      <td>0.0</td>\n",
       "      <td>0.0</td>\n",
       "      <td>0.0</td>\n",
       "      <td>0.0</td>\n",
       "      <td>0.0</td>\n",
       "      <td>0.0</td>\n",
       "    </tr>\n",
       "    <tr>\n",
       "      <th>3</th>\n",
       "      <td>0.0</td>\n",
       "      <td>0.0</td>\n",
       "      <td>0.0</td>\n",
       "      <td>0.0</td>\n",
       "      <td>0.0</td>\n",
       "      <td>0.0</td>\n",
       "      <td>0.0</td>\n",
       "      <td>0.0</td>\n",
       "      <td>0.0</td>\n",
       "      <td>0.0</td>\n",
       "      <td>...</td>\n",
       "      <td>0.0</td>\n",
       "      <td>0.0</td>\n",
       "      <td>0.0</td>\n",
       "      <td>0.0</td>\n",
       "      <td>0.0</td>\n",
       "      <td>0.0</td>\n",
       "      <td>0.0</td>\n",
       "      <td>0.0</td>\n",
       "      <td>0.0</td>\n",
       "      <td>0.0</td>\n",
       "    </tr>\n",
       "    <tr>\n",
       "      <th>4</th>\n",
       "      <td>0.0</td>\n",
       "      <td>0.0</td>\n",
       "      <td>0.0</td>\n",
       "      <td>0.0</td>\n",
       "      <td>0.0</td>\n",
       "      <td>0.0</td>\n",
       "      <td>0.0</td>\n",
       "      <td>0.0</td>\n",
       "      <td>0.0</td>\n",
       "      <td>0.0</td>\n",
       "      <td>...</td>\n",
       "      <td>0.0</td>\n",
       "      <td>0.0</td>\n",
       "      <td>0.0</td>\n",
       "      <td>0.0</td>\n",
       "      <td>0.0</td>\n",
       "      <td>0.0</td>\n",
       "      <td>0.0</td>\n",
       "      <td>0.0</td>\n",
       "      <td>0.0</td>\n",
       "      <td>0.0</td>\n",
       "    </tr>\n",
       "    <tr>\n",
       "      <th>...</th>\n",
       "      <td>...</td>\n",
       "      <td>...</td>\n",
       "      <td>...</td>\n",
       "      <td>...</td>\n",
       "      <td>...</td>\n",
       "      <td>...</td>\n",
       "      <td>...</td>\n",
       "      <td>...</td>\n",
       "      <td>...</td>\n",
       "      <td>...</td>\n",
       "      <td>...</td>\n",
       "      <td>...</td>\n",
       "      <td>...</td>\n",
       "      <td>...</td>\n",
       "      <td>...</td>\n",
       "      <td>...</td>\n",
       "      <td>...</td>\n",
       "      <td>...</td>\n",
       "      <td>...</td>\n",
       "      <td>...</td>\n",
       "      <td>...</td>\n",
       "    </tr>\n",
       "    <tr>\n",
       "      <th>40427</th>\n",
       "      <td>0.0</td>\n",
       "      <td>0.0</td>\n",
       "      <td>0.0</td>\n",
       "      <td>0.0</td>\n",
       "      <td>0.0</td>\n",
       "      <td>0.0</td>\n",
       "      <td>0.0</td>\n",
       "      <td>0.0</td>\n",
       "      <td>0.0</td>\n",
       "      <td>0.0</td>\n",
       "      <td>...</td>\n",
       "      <td>0.0</td>\n",
       "      <td>0.0</td>\n",
       "      <td>0.0</td>\n",
       "      <td>0.0</td>\n",
       "      <td>0.0</td>\n",
       "      <td>0.0</td>\n",
       "      <td>0.0</td>\n",
       "      <td>0.0</td>\n",
       "      <td>0.0</td>\n",
       "      <td>0.0</td>\n",
       "    </tr>\n",
       "    <tr>\n",
       "      <th>40428</th>\n",
       "      <td>0.0</td>\n",
       "      <td>0.0</td>\n",
       "      <td>0.0</td>\n",
       "      <td>0.0</td>\n",
       "      <td>0.0</td>\n",
       "      <td>0.0</td>\n",
       "      <td>0.0</td>\n",
       "      <td>0.0</td>\n",
       "      <td>0.0</td>\n",
       "      <td>0.0</td>\n",
       "      <td>...</td>\n",
       "      <td>0.0</td>\n",
       "      <td>0.0</td>\n",
       "      <td>0.0</td>\n",
       "      <td>0.0</td>\n",
       "      <td>0.0</td>\n",
       "      <td>0.0</td>\n",
       "      <td>0.0</td>\n",
       "      <td>0.0</td>\n",
       "      <td>0.0</td>\n",
       "      <td>0.0</td>\n",
       "    </tr>\n",
       "    <tr>\n",
       "      <th>40429</th>\n",
       "      <td>0.0</td>\n",
       "      <td>0.0</td>\n",
       "      <td>0.0</td>\n",
       "      <td>0.0</td>\n",
       "      <td>0.0</td>\n",
       "      <td>0.0</td>\n",
       "      <td>0.0</td>\n",
       "      <td>0.0</td>\n",
       "      <td>0.0</td>\n",
       "      <td>0.0</td>\n",
       "      <td>...</td>\n",
       "      <td>0.0</td>\n",
       "      <td>0.0</td>\n",
       "      <td>0.0</td>\n",
       "      <td>0.0</td>\n",
       "      <td>0.0</td>\n",
       "      <td>0.0</td>\n",
       "      <td>0.0</td>\n",
       "      <td>0.0</td>\n",
       "      <td>0.0</td>\n",
       "      <td>0.0</td>\n",
       "    </tr>\n",
       "    <tr>\n",
       "      <th>40430</th>\n",
       "      <td>0.0</td>\n",
       "      <td>0.0</td>\n",
       "      <td>0.0</td>\n",
       "      <td>0.0</td>\n",
       "      <td>0.0</td>\n",
       "      <td>0.0</td>\n",
       "      <td>0.0</td>\n",
       "      <td>0.0</td>\n",
       "      <td>0.0</td>\n",
       "      <td>0.0</td>\n",
       "      <td>...</td>\n",
       "      <td>0.0</td>\n",
       "      <td>0.0</td>\n",
       "      <td>0.0</td>\n",
       "      <td>0.0</td>\n",
       "      <td>0.0</td>\n",
       "      <td>0.0</td>\n",
       "      <td>0.0</td>\n",
       "      <td>0.0</td>\n",
       "      <td>0.0</td>\n",
       "      <td>0.0</td>\n",
       "    </tr>\n",
       "    <tr>\n",
       "      <th>40431</th>\n",
       "      <td>0.0</td>\n",
       "      <td>0.0</td>\n",
       "      <td>0.0</td>\n",
       "      <td>0.0</td>\n",
       "      <td>0.0</td>\n",
       "      <td>0.0</td>\n",
       "      <td>0.0</td>\n",
       "      <td>0.0</td>\n",
       "      <td>0.0</td>\n",
       "      <td>0.0</td>\n",
       "      <td>...</td>\n",
       "      <td>0.0</td>\n",
       "      <td>0.0</td>\n",
       "      <td>0.0</td>\n",
       "      <td>0.0</td>\n",
       "      <td>0.0</td>\n",
       "      <td>0.0</td>\n",
       "      <td>0.0</td>\n",
       "      <td>0.0</td>\n",
       "      <td>0.0</td>\n",
       "      <td>0.0</td>\n",
       "    </tr>\n",
       "  </tbody>\n",
       "</table>\n",
       "<p>40432 rows × 41099 columns</p>\n",
       "</div>"
      ],
      "text/plain": [
       "       love  this  well  made  sturdy  and  very  comfortable   it  pretty  \\\n",
       "0       0.0   0.0   0.0   0.0     0.0  0.0   0.0          0.0  0.0     0.0   \n",
       "1       0.0   0.0   0.0   0.0     0.0  0.0   0.0          0.0  0.0     0.0   \n",
       "2       0.0   0.0   0.0   0.0     0.0  0.0   0.0          0.0  0.0     0.0   \n",
       "3       0.0   0.0   0.0   0.0     0.0  0.0   0.0          0.0  0.0     0.0   \n",
       "4       0.0   0.0   0.0   0.0     0.0  0.0   0.0          0.0  0.0     0.0   \n",
       "...     ...   ...   ...   ...     ...  ...   ...          ...  ...     ...   \n",
       "40427   0.0   0.0   0.0   0.0     0.0  0.0   0.0          0.0  0.0     0.0   \n",
       "40428   0.0   0.0   0.0   0.0     0.0  0.0   0.0          0.0  0.0     0.0   \n",
       "40429   0.0   0.0   0.0   0.0     0.0  0.0   0.0          0.0  0.0     0.0   \n",
       "40430   0.0   0.0   0.0   0.0     0.0  0.0   0.0          0.0  0.0     0.0   \n",
       "40431   0.0   0.0   0.0   0.0     0.0  0.0   0.0          0.0  0.0     0.0   \n",
       "\n",
       "       ...  ruck  warmness  minimizer  gallbladder  hippora  hyvent  dwr  \\\n",
       "0      ...   0.0       0.0        0.0          0.0      0.0     0.0  0.0   \n",
       "1      ...   0.0       0.0        0.0          0.0      0.0     0.0  0.0   \n",
       "2      ...   0.0       0.0        0.0          0.0      0.0     0.0  0.0   \n",
       "3      ...   0.0       0.0        0.0          0.0      0.0     0.0  0.0   \n",
       "4      ...   0.0       0.0        0.0          0.0      0.0     0.0  0.0   \n",
       "...    ...   ...       ...        ...          ...      ...     ...  ...   \n",
       "40427  ...   0.0       0.0        0.0          0.0      0.0     0.0  0.0   \n",
       "40428  ...   0.0       0.0        0.0          0.0      0.0     0.0  0.0   \n",
       "40429  ...   0.0       0.0        0.0          0.0      0.0     0.0  0.0   \n",
       "40430  ...   0.0       0.0        0.0          0.0      0.0     0.0  0.0   \n",
       "40431  ...   0.0       0.0        0.0          0.0      0.0     0.0  0.0   \n",
       "\n",
       "       ducks  32degrees  merrels  \n",
       "0        0.0        0.0      0.0  \n",
       "1        0.0        0.0      0.0  \n",
       "2        0.0        0.0      0.0  \n",
       "3        0.0        0.0      0.0  \n",
       "4        0.0        0.0      0.0  \n",
       "...      ...        ...      ...  \n",
       "40427    0.0        0.0      0.0  \n",
       "40428    0.0        0.0      0.0  \n",
       "40429    0.0        0.0      0.0  \n",
       "40430    0.0        0.0      0.0  \n",
       "40431    0.0        0.0      0.0  \n",
       "\n",
       "[40432 rows x 41099 columns]"
      ]
     },
     "execution_count": 24,
     "metadata": {},
     "output_type": "execute_result"
    }
   ],
   "source": [
    "df2"
   ]
  },
  {
   "cell_type": "code",
   "execution_count": 25,
   "id": "cb70cf19",
   "metadata": {},
   "outputs": [
    {
     "data": {
      "text/plain": [
       "(40432, 41099)"
      ]
     },
     "execution_count": 25,
     "metadata": {},
     "output_type": "execute_result"
    }
   ],
   "source": [
    "df2.shape"
   ]
  },
  {
   "cell_type": "code",
   "execution_count": 26,
   "id": "5edc481d",
   "metadata": {},
   "outputs": [
    {
     "data": {
      "text/plain": [
       "love         0\n",
       "this         0\n",
       "well         0\n",
       "made         0\n",
       "sturdy       0\n",
       "            ..\n",
       "hyvent       0\n",
       "dwr          0\n",
       "ducks        0\n",
       "32degrees    0\n",
       "merrels      0\n",
       "Length: 41099, dtype: int64"
      ]
     },
     "execution_count": 26,
     "metadata": {},
     "output_type": "execute_result"
    }
   ],
   "source": [
    "df2.isnull().sum()"
   ]
  },
  {
   "cell_type": "code",
   "execution_count": 27,
   "id": "4137e8d0",
   "metadata": {},
   "outputs": [],
   "source": [
    "df2['Mean'] = df2.mean(axis=1)"
   ]
  },
  {
   "cell_type": "code",
   "execution_count": 28,
   "id": "6fc2faf0",
   "metadata": {},
   "outputs": [
    {
     "name": "stdout",
     "output_type": "stream",
     "text": [
      "0        0.000071\n",
      "1        0.000081\n",
      "2        0.000063\n",
      "3        0.000081\n",
      "4        0.000087\n",
      "           ...   \n",
      "40427    0.000255\n",
      "40428    0.000206\n",
      "40429    0.000279\n",
      "40430    0.000186\n",
      "40431    0.000263\n",
      "Name: Mean, Length: 40432, dtype: float64\n"
     ]
    }
   ],
   "source": [
    "print(df2['Mean'])"
   ]
  },
  {
   "cell_type": "code",
   "execution_count": 29,
   "id": "83e6b99c",
   "metadata": {},
   "outputs": [],
   "source": [
    "extracted_col = df2[\"Mean\"]"
   ]
  },
  {
   "cell_type": "code",
   "execution_count": 30,
   "id": "3a84d86a",
   "metadata": {},
   "outputs": [],
   "source": [
    "df3 = df1.join(extracted_col)"
   ]
  },
  {
   "cell_type": "code",
   "execution_count": 31,
   "id": "ab62b59f",
   "metadata": {},
   "outputs": [
    {
     "data": {
      "text/html": [
       "<div>\n",
       "<style scoped>\n",
       "    .dataframe tbody tr th:only-of-type {\n",
       "        vertical-align: middle;\n",
       "    }\n",
       "\n",
       "    .dataframe tbody tr th {\n",
       "        vertical-align: top;\n",
       "    }\n",
       "\n",
       "    .dataframe thead th {\n",
       "        text-align: right;\n",
       "    }\n",
       "</style>\n",
       "<table border=\"1\" class=\"dataframe\">\n",
       "  <thead>\n",
       "    <tr style=\"text-align: right;\">\n",
       "      <th></th>\n",
       "      <th>category</th>\n",
       "      <th>rating</th>\n",
       "      <th>text_</th>\n",
       "      <th>label</th>\n",
       "      <th>Mean</th>\n",
       "    </tr>\n",
       "  </thead>\n",
       "  <tbody>\n",
       "    <tr>\n",
       "      <th>0</th>\n",
       "      <td>0</td>\n",
       "      <td>5.0</td>\n",
       "      <td>Love this!  Well made, sturdy, and very comfor...</td>\n",
       "      <td>0</td>\n",
       "      <td>0.000071</td>\n",
       "    </tr>\n",
       "    <tr>\n",
       "      <th>1</th>\n",
       "      <td>0</td>\n",
       "      <td>5.0</td>\n",
       "      <td>love it, a great upgrade from the original.  I...</td>\n",
       "      <td>0</td>\n",
       "      <td>0.000081</td>\n",
       "    </tr>\n",
       "    <tr>\n",
       "      <th>2</th>\n",
       "      <td>0</td>\n",
       "      <td>5.0</td>\n",
       "      <td>This pillow saved my back. I love the look and...</td>\n",
       "      <td>0</td>\n",
       "      <td>0.000063</td>\n",
       "    </tr>\n",
       "    <tr>\n",
       "      <th>3</th>\n",
       "      <td>0</td>\n",
       "      <td>1.0</td>\n",
       "      <td>Missing information on how to use it, but it i...</td>\n",
       "      <td>0</td>\n",
       "      <td>0.000081</td>\n",
       "    </tr>\n",
       "    <tr>\n",
       "      <th>4</th>\n",
       "      <td>0</td>\n",
       "      <td>5.0</td>\n",
       "      <td>Very nice set. Good quality. We have had the s...</td>\n",
       "      <td>0</td>\n",
       "      <td>0.000087</td>\n",
       "    </tr>\n",
       "    <tr>\n",
       "      <th>...</th>\n",
       "      <td>...</td>\n",
       "      <td>...</td>\n",
       "      <td>...</td>\n",
       "      <td>...</td>\n",
       "      <td>...</td>\n",
       "    </tr>\n",
       "    <tr>\n",
       "      <th>40427</th>\n",
       "      <td>9</td>\n",
       "      <td>4.0</td>\n",
       "      <td>I had read some reviews saying that this bra r...</td>\n",
       "      <td>1</td>\n",
       "      <td>0.000255</td>\n",
       "    </tr>\n",
       "    <tr>\n",
       "      <th>40428</th>\n",
       "      <td>9</td>\n",
       "      <td>5.0</td>\n",
       "      <td>I wasn't sure exactly what it would be. It is ...</td>\n",
       "      <td>0</td>\n",
       "      <td>0.000206</td>\n",
       "    </tr>\n",
       "    <tr>\n",
       "      <th>40429</th>\n",
       "      <td>9</td>\n",
       "      <td>2.0</td>\n",
       "      <td>You can wear the hood by itself, wear it with ...</td>\n",
       "      <td>1</td>\n",
       "      <td>0.000279</td>\n",
       "    </tr>\n",
       "    <tr>\n",
       "      <th>40430</th>\n",
       "      <td>9</td>\n",
       "      <td>1.0</td>\n",
       "      <td>I liked nothing about this dress. The only rea...</td>\n",
       "      <td>0</td>\n",
       "      <td>0.000186</td>\n",
       "    </tr>\n",
       "    <tr>\n",
       "      <th>40431</th>\n",
       "      <td>9</td>\n",
       "      <td>5.0</td>\n",
       "      <td>I work in the wedding industry and have to wor...</td>\n",
       "      <td>1</td>\n",
       "      <td>0.000263</td>\n",
       "    </tr>\n",
       "  </tbody>\n",
       "</table>\n",
       "<p>40432 rows × 5 columns</p>\n",
       "</div>"
      ],
      "text/plain": [
       "       category  rating                                              text_  \\\n",
       "0             0     5.0  Love this!  Well made, sturdy, and very comfor...   \n",
       "1             0     5.0  love it, a great upgrade from the original.  I...   \n",
       "2             0     5.0  This pillow saved my back. I love the look and...   \n",
       "3             0     1.0  Missing information on how to use it, but it i...   \n",
       "4             0     5.0  Very nice set. Good quality. We have had the s...   \n",
       "...         ...     ...                                                ...   \n",
       "40427         9     4.0  I had read some reviews saying that this bra r...   \n",
       "40428         9     5.0  I wasn't sure exactly what it would be. It is ...   \n",
       "40429         9     2.0  You can wear the hood by itself, wear it with ...   \n",
       "40430         9     1.0  I liked nothing about this dress. The only rea...   \n",
       "40431         9     5.0  I work in the wedding industry and have to wor...   \n",
       "\n",
       "       label      Mean  \n",
       "0          0  0.000071  \n",
       "1          0  0.000081  \n",
       "2          0  0.000063  \n",
       "3          0  0.000081  \n",
       "4          0  0.000087  \n",
       "...      ...       ...  \n",
       "40427      1  0.000255  \n",
       "40428      0  0.000206  \n",
       "40429      1  0.000279  \n",
       "40430      0  0.000186  \n",
       "40431      1  0.000263  \n",
       "\n",
       "[40432 rows x 5 columns]"
      ]
     },
     "execution_count": 31,
     "metadata": {},
     "output_type": "execute_result"
    }
   ],
   "source": [
    "df3"
   ]
  },
  {
   "cell_type": "code",
   "execution_count": 32,
   "id": "110bd5c2",
   "metadata": {},
   "outputs": [],
   "source": [
    "df4=df3.drop(['text_'], axis=1)"
   ]
  },
  {
   "cell_type": "code",
   "execution_count": 33,
   "id": "3228db82",
   "metadata": {
    "scrolled": false
   },
   "outputs": [
    {
     "data": {
      "text/html": [
       "<div>\n",
       "<style scoped>\n",
       "    .dataframe tbody tr th:only-of-type {\n",
       "        vertical-align: middle;\n",
       "    }\n",
       "\n",
       "    .dataframe tbody tr th {\n",
       "        vertical-align: top;\n",
       "    }\n",
       "\n",
       "    .dataframe thead th {\n",
       "        text-align: right;\n",
       "    }\n",
       "</style>\n",
       "<table border=\"1\" class=\"dataframe\">\n",
       "  <thead>\n",
       "    <tr style=\"text-align: right;\">\n",
       "      <th></th>\n",
       "      <th>category</th>\n",
       "      <th>rating</th>\n",
       "      <th>label</th>\n",
       "      <th>Mean</th>\n",
       "    </tr>\n",
       "  </thead>\n",
       "  <tbody>\n",
       "    <tr>\n",
       "      <th>0</th>\n",
       "      <td>0</td>\n",
       "      <td>5.0</td>\n",
       "      <td>0</td>\n",
       "      <td>0.000071</td>\n",
       "    </tr>\n",
       "    <tr>\n",
       "      <th>1</th>\n",
       "      <td>0</td>\n",
       "      <td>5.0</td>\n",
       "      <td>0</td>\n",
       "      <td>0.000081</td>\n",
       "    </tr>\n",
       "    <tr>\n",
       "      <th>2</th>\n",
       "      <td>0</td>\n",
       "      <td>5.0</td>\n",
       "      <td>0</td>\n",
       "      <td>0.000063</td>\n",
       "    </tr>\n",
       "    <tr>\n",
       "      <th>3</th>\n",
       "      <td>0</td>\n",
       "      <td>1.0</td>\n",
       "      <td>0</td>\n",
       "      <td>0.000081</td>\n",
       "    </tr>\n",
       "    <tr>\n",
       "      <th>4</th>\n",
       "      <td>0</td>\n",
       "      <td>5.0</td>\n",
       "      <td>0</td>\n",
       "      <td>0.000087</td>\n",
       "    </tr>\n",
       "    <tr>\n",
       "      <th>...</th>\n",
       "      <td>...</td>\n",
       "      <td>...</td>\n",
       "      <td>...</td>\n",
       "      <td>...</td>\n",
       "    </tr>\n",
       "    <tr>\n",
       "      <th>40427</th>\n",
       "      <td>9</td>\n",
       "      <td>4.0</td>\n",
       "      <td>1</td>\n",
       "      <td>0.000255</td>\n",
       "    </tr>\n",
       "    <tr>\n",
       "      <th>40428</th>\n",
       "      <td>9</td>\n",
       "      <td>5.0</td>\n",
       "      <td>0</td>\n",
       "      <td>0.000206</td>\n",
       "    </tr>\n",
       "    <tr>\n",
       "      <th>40429</th>\n",
       "      <td>9</td>\n",
       "      <td>2.0</td>\n",
       "      <td>1</td>\n",
       "      <td>0.000279</td>\n",
       "    </tr>\n",
       "    <tr>\n",
       "      <th>40430</th>\n",
       "      <td>9</td>\n",
       "      <td>1.0</td>\n",
       "      <td>0</td>\n",
       "      <td>0.000186</td>\n",
       "    </tr>\n",
       "    <tr>\n",
       "      <th>40431</th>\n",
       "      <td>9</td>\n",
       "      <td>5.0</td>\n",
       "      <td>1</td>\n",
       "      <td>0.000263</td>\n",
       "    </tr>\n",
       "  </tbody>\n",
       "</table>\n",
       "<p>40432 rows × 4 columns</p>\n",
       "</div>"
      ],
      "text/plain": [
       "       category  rating  label      Mean\n",
       "0             0     5.0      0  0.000071\n",
       "1             0     5.0      0  0.000081\n",
       "2             0     5.0      0  0.000063\n",
       "3             0     1.0      0  0.000081\n",
       "4             0     5.0      0  0.000087\n",
       "...         ...     ...    ...       ...\n",
       "40427         9     4.0      1  0.000255\n",
       "40428         9     5.0      0  0.000206\n",
       "40429         9     2.0      1  0.000279\n",
       "40430         9     1.0      0  0.000186\n",
       "40431         9     5.0      1  0.000263\n",
       "\n",
       "[40432 rows x 4 columns]"
      ]
     },
     "execution_count": 33,
     "metadata": {},
     "output_type": "execute_result"
    }
   ],
   "source": [
    "df4"
   ]
  },
  {
   "cell_type": "code",
   "execution_count": 34,
   "id": "52c71187",
   "metadata": {},
   "outputs": [],
   "source": [
    "inp_shape=df4.shape"
   ]
  },
  {
   "cell_type": "code",
   "execution_count": 35,
   "id": "fe912122",
   "metadata": {},
   "outputs": [
    {
     "data": {
      "text/plain": [
       "(40432, 4)"
      ]
     },
     "execution_count": 35,
     "metadata": {},
     "output_type": "execute_result"
    }
   ],
   "source": [
    "inp_shape"
   ]
  },
  {
   "cell_type": "markdown",
   "id": "7eeee3b2",
   "metadata": {},
   "source": [
    "## Naive Bayes Classifier"
   ]
  },
  {
   "cell_type": "code",
   "execution_count": 36,
   "id": "6689a852",
   "metadata": {},
   "outputs": [],
   "source": [
    "import matplotlib.pyplot as mtp"
   ]
  },
  {
   "cell_type": "code",
   "execution_count": 37,
   "id": "7684ad79",
   "metadata": {},
   "outputs": [],
   "source": [
    "x=df4[['category','rating','Mean']]\n",
    "y=df4[['label']]"
   ]
  },
  {
   "cell_type": "code",
   "execution_count": 38,
   "id": "103324c7",
   "metadata": {},
   "outputs": [],
   "source": [
    "from sklearn.model_selection import train_test_split  \n",
    "x_train, x_test, y_train, y_test = train_test_split(x, y, test_size = 0.2, random_state = 0)  "
   ]
  },
  {
   "cell_type": "code",
   "execution_count": 39,
   "id": "ea04a05a",
   "metadata": {},
   "outputs": [
    {
     "name": "stderr",
     "output_type": "stream",
     "text": [
      "C:\\Users\\user\\anaconda3\\lib\\site-packages\\sklearn\\utils\\validation.py:1143: DataConversionWarning: A column-vector y was passed when a 1d array was expected. Please change the shape of y to (n_samples, ), for example using ravel().\n",
      "  y = column_or_1d(y, warn=True)\n"
     ]
    },
    {
     "data": {
      "text/html": [
       "<style>#sk-container-id-1 {color: black;background-color: white;}#sk-container-id-1 pre{padding: 0;}#sk-container-id-1 div.sk-toggleable {background-color: white;}#sk-container-id-1 label.sk-toggleable__label {cursor: pointer;display: block;width: 100%;margin-bottom: 0;padding: 0.3em;box-sizing: border-box;text-align: center;}#sk-container-id-1 label.sk-toggleable__label-arrow:before {content: \"▸\";float: left;margin-right: 0.25em;color: #696969;}#sk-container-id-1 label.sk-toggleable__label-arrow:hover:before {color: black;}#sk-container-id-1 div.sk-estimator:hover label.sk-toggleable__label-arrow:before {color: black;}#sk-container-id-1 div.sk-toggleable__content {max-height: 0;max-width: 0;overflow: hidden;text-align: left;background-color: #f0f8ff;}#sk-container-id-1 div.sk-toggleable__content pre {margin: 0.2em;color: black;border-radius: 0.25em;background-color: #f0f8ff;}#sk-container-id-1 input.sk-toggleable__control:checked~div.sk-toggleable__content {max-height: 200px;max-width: 100%;overflow: auto;}#sk-container-id-1 input.sk-toggleable__control:checked~label.sk-toggleable__label-arrow:before {content: \"▾\";}#sk-container-id-1 div.sk-estimator input.sk-toggleable__control:checked~label.sk-toggleable__label {background-color: #d4ebff;}#sk-container-id-1 div.sk-label input.sk-toggleable__control:checked~label.sk-toggleable__label {background-color: #d4ebff;}#sk-container-id-1 input.sk-hidden--visually {border: 0;clip: rect(1px 1px 1px 1px);clip: rect(1px, 1px, 1px, 1px);height: 1px;margin: -1px;overflow: hidden;padding: 0;position: absolute;width: 1px;}#sk-container-id-1 div.sk-estimator {font-family: monospace;background-color: #f0f8ff;border: 1px dotted black;border-radius: 0.25em;box-sizing: border-box;margin-bottom: 0.5em;}#sk-container-id-1 div.sk-estimator:hover {background-color: #d4ebff;}#sk-container-id-1 div.sk-parallel-item::after {content: \"\";width: 100%;border-bottom: 1px solid gray;flex-grow: 1;}#sk-container-id-1 div.sk-label:hover label.sk-toggleable__label {background-color: #d4ebff;}#sk-container-id-1 div.sk-serial::before {content: \"\";position: absolute;border-left: 1px solid gray;box-sizing: border-box;top: 0;bottom: 0;left: 50%;z-index: 0;}#sk-container-id-1 div.sk-serial {display: flex;flex-direction: column;align-items: center;background-color: white;padding-right: 0.2em;padding-left: 0.2em;position: relative;}#sk-container-id-1 div.sk-item {position: relative;z-index: 1;}#sk-container-id-1 div.sk-parallel {display: flex;align-items: stretch;justify-content: center;background-color: white;position: relative;}#sk-container-id-1 div.sk-item::before, #sk-container-id-1 div.sk-parallel-item::before {content: \"\";position: absolute;border-left: 1px solid gray;box-sizing: border-box;top: 0;bottom: 0;left: 50%;z-index: -1;}#sk-container-id-1 div.sk-parallel-item {display: flex;flex-direction: column;z-index: 1;position: relative;background-color: white;}#sk-container-id-1 div.sk-parallel-item:first-child::after {align-self: flex-end;width: 50%;}#sk-container-id-1 div.sk-parallel-item:last-child::after {align-self: flex-start;width: 50%;}#sk-container-id-1 div.sk-parallel-item:only-child::after {width: 0;}#sk-container-id-1 div.sk-dashed-wrapped {border: 1px dashed gray;margin: 0 0.4em 0.5em 0.4em;box-sizing: border-box;padding-bottom: 0.4em;background-color: white;}#sk-container-id-1 div.sk-label label {font-family: monospace;font-weight: bold;display: inline-block;line-height: 1.2em;}#sk-container-id-1 div.sk-label-container {text-align: center;}#sk-container-id-1 div.sk-container {/* jupyter's `normalize.less` sets `[hidden] { display: none; }` but bootstrap.min.css set `[hidden] { display: none !important; }` so we also need the `!important` here to be able to override the default hidden behavior on the sphinx rendered scikit-learn.org. See: https://github.com/scikit-learn/scikit-learn/issues/21755 */display: inline-block !important;position: relative;}#sk-container-id-1 div.sk-text-repr-fallback {display: none;}</style><div id=\"sk-container-id-1\" class=\"sk-top-container\"><div class=\"sk-text-repr-fallback\"><pre>GaussianNB()</pre><b>In a Jupyter environment, please rerun this cell to show the HTML representation or trust the notebook. <br />On GitHub, the HTML representation is unable to render, please try loading this page with nbviewer.org.</b></div><div class=\"sk-container\" hidden><div class=\"sk-item\"><div class=\"sk-estimator sk-toggleable\"><input class=\"sk-toggleable__control sk-hidden--visually\" id=\"sk-estimator-id-1\" type=\"checkbox\" checked><label for=\"sk-estimator-id-1\" class=\"sk-toggleable__label sk-toggleable__label-arrow\">GaussianNB</label><div class=\"sk-toggleable__content\"><pre>GaussianNB()</pre></div></div></div></div></div>"
      ],
      "text/plain": [
       "GaussianNB()"
      ]
     },
     "execution_count": 39,
     "metadata": {},
     "output_type": "execute_result"
    }
   ],
   "source": [
    "from sklearn.naive_bayes import GaussianNB  \n",
    "classifier = GaussianNB()  \n",
    "classifier.fit(x_train, y_train)  "
   ]
  },
  {
   "cell_type": "code",
   "execution_count": 40,
   "id": "fa0cc4a7",
   "metadata": {},
   "outputs": [
    {
     "data": {
      "text/plain": [
       "0.571658216891307"
      ]
     },
     "execution_count": 40,
     "metadata": {},
     "output_type": "execute_result"
    }
   ],
   "source": [
    "classifier.score(x_test,y_test)"
   ]
  },
  {
   "cell_type": "code",
   "execution_count": 41,
   "id": "98cb721c",
   "metadata": {},
   "outputs": [],
   "source": [
    "y_predict = classifier.predict(x_test)"
   ]
  },
  {
   "cell_type": "code",
   "execution_count": 42,
   "id": "fb913237",
   "metadata": {},
   "outputs": [
    {
     "name": "stdout",
     "output_type": "stream",
     "text": [
      "              precision    recall  f1-score   support\n",
      "\n",
      "           0       0.55      0.83      0.66      4047\n",
      "           1       0.65      0.31      0.42      4040\n",
      "\n",
      "    accuracy                           0.57      8087\n",
      "   macro avg       0.60      0.57      0.54      8087\n",
      "weighted avg       0.60      0.57      0.54      8087\n",
      "\n"
     ]
    }
   ],
   "source": [
    "from sklearn.metrics import classification_report \n",
    "cr = classification_report(y_test,y_predict)\n",
    "print(cr)"
   ]
  },
  {
   "cell_type": "code",
   "execution_count": 43,
   "id": "aab3b1dd",
   "metadata": {},
   "outputs": [
    {
     "name": "stdout",
     "output_type": "stream",
     "text": [
      "0.571658216891307\n"
     ]
    }
   ],
   "source": [
    "from sklearn.metrics import accuracy_score\n",
    "acc = accuracy_score(y_test,y_predict)\n",
    "print(acc)"
   ]
  },
  {
   "cell_type": "markdown",
   "id": "62610306",
   "metadata": {},
   "source": [
    "## XGBoost"
   ]
  },
  {
   "cell_type": "code",
   "execution_count": 44,
   "id": "8a4e6285",
   "metadata": {},
   "outputs": [
    {
     "name": "stdout",
     "output_type": "stream",
     "text": [
      "Requirement already satisfied: xgboost in c:\\users\\user\\anaconda3\\lib\\site-packages (1.7.4)Note: you may need to restart the kernel to use updated packages.\n",
      "Requirement already satisfied: numpy in c:\\users\\user\\anaconda3\\lib\\site-packages (from xgboost) (1.22.4)\n",
      "Requirement already satisfied: scipy in c:\\users\\user\\anaconda3\\lib\\site-packages (from xgboost) (1.7.1)\n",
      "\n"
     ]
    }
   ],
   "source": [
    "pip install xgboost"
   ]
  },
  {
   "cell_type": "code",
   "execution_count": 45,
   "id": "502d241b",
   "metadata": {},
   "outputs": [
    {
     "name": "stdout",
     "output_type": "stream",
     "text": [
      "Requirement already satisfied: xgboost in c:\\users\\user\\anaconda3\\lib\\site-packages (1.7.4)\n",
      "Requirement already satisfied: numpy in c:\\users\\user\\anaconda3\\lib\\site-packages (from xgboost) (1.22.4)\n",
      "Requirement already satisfied: scipy in c:\\users\\user\\anaconda3\\lib\\site-packages (from xgboost) (1.7.1)\n",
      "Note: you may need to restart the kernel to use updated packages.\n"
     ]
    }
   ],
   "source": [
    "pip install --upgrade xgboost"
   ]
  },
  {
   "cell_type": "code",
   "execution_count": 46,
   "id": "4426578d",
   "metadata": {},
   "outputs": [],
   "source": [
    "from numpy import loadtxt\n",
    "from xgboost import XGBClassifier"
   ]
  },
  {
   "cell_type": "code",
   "execution_count": 47,
   "id": "2e81564b",
   "metadata": {},
   "outputs": [
    {
     "data": {
      "text/html": [
       "<style>#sk-container-id-2 {color: black;background-color: white;}#sk-container-id-2 pre{padding: 0;}#sk-container-id-2 div.sk-toggleable {background-color: white;}#sk-container-id-2 label.sk-toggleable__label {cursor: pointer;display: block;width: 100%;margin-bottom: 0;padding: 0.3em;box-sizing: border-box;text-align: center;}#sk-container-id-2 label.sk-toggleable__label-arrow:before {content: \"▸\";float: left;margin-right: 0.25em;color: #696969;}#sk-container-id-2 label.sk-toggleable__label-arrow:hover:before {color: black;}#sk-container-id-2 div.sk-estimator:hover label.sk-toggleable__label-arrow:before {color: black;}#sk-container-id-2 div.sk-toggleable__content {max-height: 0;max-width: 0;overflow: hidden;text-align: left;background-color: #f0f8ff;}#sk-container-id-2 div.sk-toggleable__content pre {margin: 0.2em;color: black;border-radius: 0.25em;background-color: #f0f8ff;}#sk-container-id-2 input.sk-toggleable__control:checked~div.sk-toggleable__content {max-height: 200px;max-width: 100%;overflow: auto;}#sk-container-id-2 input.sk-toggleable__control:checked~label.sk-toggleable__label-arrow:before {content: \"▾\";}#sk-container-id-2 div.sk-estimator input.sk-toggleable__control:checked~label.sk-toggleable__label {background-color: #d4ebff;}#sk-container-id-2 div.sk-label input.sk-toggleable__control:checked~label.sk-toggleable__label {background-color: #d4ebff;}#sk-container-id-2 input.sk-hidden--visually {border: 0;clip: rect(1px 1px 1px 1px);clip: rect(1px, 1px, 1px, 1px);height: 1px;margin: -1px;overflow: hidden;padding: 0;position: absolute;width: 1px;}#sk-container-id-2 div.sk-estimator {font-family: monospace;background-color: #f0f8ff;border: 1px dotted black;border-radius: 0.25em;box-sizing: border-box;margin-bottom: 0.5em;}#sk-container-id-2 div.sk-estimator:hover {background-color: #d4ebff;}#sk-container-id-2 div.sk-parallel-item::after {content: \"\";width: 100%;border-bottom: 1px solid gray;flex-grow: 1;}#sk-container-id-2 div.sk-label:hover label.sk-toggleable__label {background-color: #d4ebff;}#sk-container-id-2 div.sk-serial::before {content: \"\";position: absolute;border-left: 1px solid gray;box-sizing: border-box;top: 0;bottom: 0;left: 50%;z-index: 0;}#sk-container-id-2 div.sk-serial {display: flex;flex-direction: column;align-items: center;background-color: white;padding-right: 0.2em;padding-left: 0.2em;position: relative;}#sk-container-id-2 div.sk-item {position: relative;z-index: 1;}#sk-container-id-2 div.sk-parallel {display: flex;align-items: stretch;justify-content: center;background-color: white;position: relative;}#sk-container-id-2 div.sk-item::before, #sk-container-id-2 div.sk-parallel-item::before {content: \"\";position: absolute;border-left: 1px solid gray;box-sizing: border-box;top: 0;bottom: 0;left: 50%;z-index: -1;}#sk-container-id-2 div.sk-parallel-item {display: flex;flex-direction: column;z-index: 1;position: relative;background-color: white;}#sk-container-id-2 div.sk-parallel-item:first-child::after {align-self: flex-end;width: 50%;}#sk-container-id-2 div.sk-parallel-item:last-child::after {align-self: flex-start;width: 50%;}#sk-container-id-2 div.sk-parallel-item:only-child::after {width: 0;}#sk-container-id-2 div.sk-dashed-wrapped {border: 1px dashed gray;margin: 0 0.4em 0.5em 0.4em;box-sizing: border-box;padding-bottom: 0.4em;background-color: white;}#sk-container-id-2 div.sk-label label {font-family: monospace;font-weight: bold;display: inline-block;line-height: 1.2em;}#sk-container-id-2 div.sk-label-container {text-align: center;}#sk-container-id-2 div.sk-container {/* jupyter's `normalize.less` sets `[hidden] { display: none; }` but bootstrap.min.css set `[hidden] { display: none !important; }` so we also need the `!important` here to be able to override the default hidden behavior on the sphinx rendered scikit-learn.org. See: https://github.com/scikit-learn/scikit-learn/issues/21755 */display: inline-block !important;position: relative;}#sk-container-id-2 div.sk-text-repr-fallback {display: none;}</style><div id=\"sk-container-id-2\" class=\"sk-top-container\"><div class=\"sk-text-repr-fallback\"><pre>XGBClassifier(base_score=None, booster=None, callbacks=None,\n",
       "              colsample_bylevel=None, colsample_bynode=None,\n",
       "              colsample_bytree=None, early_stopping_rounds=None,\n",
       "              enable_categorical=False, eval_metric=None, feature_types=None,\n",
       "              gamma=None, gpu_id=None, grow_policy=None, importance_type=None,\n",
       "              interaction_constraints=None, learning_rate=None, max_bin=None,\n",
       "              max_cat_threshold=None, max_cat_to_onehot=None,\n",
       "              max_delta_step=None, max_depth=None, max_leaves=None,\n",
       "              min_child_weight=None, missing=nan, monotone_constraints=None,\n",
       "              n_estimators=100, n_jobs=None, num_parallel_tree=None,\n",
       "              predictor=None, random_state=None, ...)</pre><b>In a Jupyter environment, please rerun this cell to show the HTML representation or trust the notebook. <br />On GitHub, the HTML representation is unable to render, please try loading this page with nbviewer.org.</b></div><div class=\"sk-container\" hidden><div class=\"sk-item\"><div class=\"sk-estimator sk-toggleable\"><input class=\"sk-toggleable__control sk-hidden--visually\" id=\"sk-estimator-id-2\" type=\"checkbox\" checked><label for=\"sk-estimator-id-2\" class=\"sk-toggleable__label sk-toggleable__label-arrow\">XGBClassifier</label><div class=\"sk-toggleable__content\"><pre>XGBClassifier(base_score=None, booster=None, callbacks=None,\n",
       "              colsample_bylevel=None, colsample_bynode=None,\n",
       "              colsample_bytree=None, early_stopping_rounds=None,\n",
       "              enable_categorical=False, eval_metric=None, feature_types=None,\n",
       "              gamma=None, gpu_id=None, grow_policy=None, importance_type=None,\n",
       "              interaction_constraints=None, learning_rate=None, max_bin=None,\n",
       "              max_cat_threshold=None, max_cat_to_onehot=None,\n",
       "              max_delta_step=None, max_depth=None, max_leaves=None,\n",
       "              min_child_weight=None, missing=nan, monotone_constraints=None,\n",
       "              n_estimators=100, n_jobs=None, num_parallel_tree=None,\n",
       "              predictor=None, random_state=None, ...)</pre></div></div></div></div></div>"
      ],
      "text/plain": [
       "XGBClassifier(base_score=None, booster=None, callbacks=None,\n",
       "              colsample_bylevel=None, colsample_bynode=None,\n",
       "              colsample_bytree=None, early_stopping_rounds=None,\n",
       "              enable_categorical=False, eval_metric=None, feature_types=None,\n",
       "              gamma=None, gpu_id=None, grow_policy=None, importance_type=None,\n",
       "              interaction_constraints=None, learning_rate=None, max_bin=None,\n",
       "              max_cat_threshold=None, max_cat_to_onehot=None,\n",
       "              max_delta_step=None, max_depth=None, max_leaves=None,\n",
       "              min_child_weight=None, missing=nan, monotone_constraints=None,\n",
       "              n_estimators=100, n_jobs=None, num_parallel_tree=None,\n",
       "              predictor=None, random_state=None, ...)"
      ]
     },
     "execution_count": 47,
     "metadata": {},
     "output_type": "execute_result"
    }
   ],
   "source": [
    "# fit model no training data\n",
    "model = XGBClassifier()\n",
    "model.fit(x_train, y_train)"
   ]
  },
  {
   "cell_type": "code",
   "execution_count": 48,
   "id": "891619d6",
   "metadata": {},
   "outputs": [],
   "source": [
    "# make predictions for test data\n",
    "y_pred = model.predict(x_test)"
   ]
  },
  {
   "cell_type": "code",
   "execution_count": 49,
   "id": "9d23181f",
   "metadata": {},
   "outputs": [
    {
     "name": "stdout",
     "output_type": "stream",
     "text": [
      "Accuracy: 58.75%\n"
     ]
    }
   ],
   "source": [
    "accuracy = accuracy_score(y_test, y_pred)\n",
    "print(\"Accuracy: %.2f%%\" % (accuracy * 100.0))"
   ]
  },
  {
   "cell_type": "code",
   "execution_count": 50,
   "id": "fc0b7bca",
   "metadata": {},
   "outputs": [
    {
     "name": "stdout",
     "output_type": "stream",
     "text": [
      "              precision    recall  f1-score   support\n",
      "\n",
      "           0       0.59      0.60      0.59      4047\n",
      "           1       0.59      0.57      0.58      4040\n",
      "\n",
      "    accuracy                           0.59      8087\n",
      "   macro avg       0.59      0.59      0.59      8087\n",
      "weighted avg       0.59      0.59      0.59      8087\n",
      "\n"
     ]
    }
   ],
   "source": [
    "from sklearn.metrics import classification_report \n",
    "cr_2 = classification_report(y_test,y_pred)\n",
    "print(cr_2)"
   ]
  },
  {
   "cell_type": "markdown",
   "id": "8ad3a9ab",
   "metadata": {},
   "source": [
    "## Logistic Regression"
   ]
  },
  {
   "cell_type": "code",
   "execution_count": 51,
   "id": "01ce0b18",
   "metadata": {},
   "outputs": [
    {
     "name": "stderr",
     "output_type": "stream",
     "text": [
      "C:\\Users\\user\\anaconda3\\lib\\site-packages\\sklearn\\utils\\validation.py:1143: DataConversionWarning: A column-vector y was passed when a 1d array was expected. Please change the shape of y to (n_samples, ), for example using ravel().\n",
      "  y = column_or_1d(y, warn=True)\n"
     ]
    },
    {
     "data": {
      "text/html": [
       "<style>#sk-container-id-3 {color: black;background-color: white;}#sk-container-id-3 pre{padding: 0;}#sk-container-id-3 div.sk-toggleable {background-color: white;}#sk-container-id-3 label.sk-toggleable__label {cursor: pointer;display: block;width: 100%;margin-bottom: 0;padding: 0.3em;box-sizing: border-box;text-align: center;}#sk-container-id-3 label.sk-toggleable__label-arrow:before {content: \"▸\";float: left;margin-right: 0.25em;color: #696969;}#sk-container-id-3 label.sk-toggleable__label-arrow:hover:before {color: black;}#sk-container-id-3 div.sk-estimator:hover label.sk-toggleable__label-arrow:before {color: black;}#sk-container-id-3 div.sk-toggleable__content {max-height: 0;max-width: 0;overflow: hidden;text-align: left;background-color: #f0f8ff;}#sk-container-id-3 div.sk-toggleable__content pre {margin: 0.2em;color: black;border-radius: 0.25em;background-color: #f0f8ff;}#sk-container-id-3 input.sk-toggleable__control:checked~div.sk-toggleable__content {max-height: 200px;max-width: 100%;overflow: auto;}#sk-container-id-3 input.sk-toggleable__control:checked~label.sk-toggleable__label-arrow:before {content: \"▾\";}#sk-container-id-3 div.sk-estimator input.sk-toggleable__control:checked~label.sk-toggleable__label {background-color: #d4ebff;}#sk-container-id-3 div.sk-label input.sk-toggleable__control:checked~label.sk-toggleable__label {background-color: #d4ebff;}#sk-container-id-3 input.sk-hidden--visually {border: 0;clip: rect(1px 1px 1px 1px);clip: rect(1px, 1px, 1px, 1px);height: 1px;margin: -1px;overflow: hidden;padding: 0;position: absolute;width: 1px;}#sk-container-id-3 div.sk-estimator {font-family: monospace;background-color: #f0f8ff;border: 1px dotted black;border-radius: 0.25em;box-sizing: border-box;margin-bottom: 0.5em;}#sk-container-id-3 div.sk-estimator:hover {background-color: #d4ebff;}#sk-container-id-3 div.sk-parallel-item::after {content: \"\";width: 100%;border-bottom: 1px solid gray;flex-grow: 1;}#sk-container-id-3 div.sk-label:hover label.sk-toggleable__label {background-color: #d4ebff;}#sk-container-id-3 div.sk-serial::before {content: \"\";position: absolute;border-left: 1px solid gray;box-sizing: border-box;top: 0;bottom: 0;left: 50%;z-index: 0;}#sk-container-id-3 div.sk-serial {display: flex;flex-direction: column;align-items: center;background-color: white;padding-right: 0.2em;padding-left: 0.2em;position: relative;}#sk-container-id-3 div.sk-item {position: relative;z-index: 1;}#sk-container-id-3 div.sk-parallel {display: flex;align-items: stretch;justify-content: center;background-color: white;position: relative;}#sk-container-id-3 div.sk-item::before, #sk-container-id-3 div.sk-parallel-item::before {content: \"\";position: absolute;border-left: 1px solid gray;box-sizing: border-box;top: 0;bottom: 0;left: 50%;z-index: -1;}#sk-container-id-3 div.sk-parallel-item {display: flex;flex-direction: column;z-index: 1;position: relative;background-color: white;}#sk-container-id-3 div.sk-parallel-item:first-child::after {align-self: flex-end;width: 50%;}#sk-container-id-3 div.sk-parallel-item:last-child::after {align-self: flex-start;width: 50%;}#sk-container-id-3 div.sk-parallel-item:only-child::after {width: 0;}#sk-container-id-3 div.sk-dashed-wrapped {border: 1px dashed gray;margin: 0 0.4em 0.5em 0.4em;box-sizing: border-box;padding-bottom: 0.4em;background-color: white;}#sk-container-id-3 div.sk-label label {font-family: monospace;font-weight: bold;display: inline-block;line-height: 1.2em;}#sk-container-id-3 div.sk-label-container {text-align: center;}#sk-container-id-3 div.sk-container {/* jupyter's `normalize.less` sets `[hidden] { display: none; }` but bootstrap.min.css set `[hidden] { display: none !important; }` so we also need the `!important` here to be able to override the default hidden behavior on the sphinx rendered scikit-learn.org. See: https://github.com/scikit-learn/scikit-learn/issues/21755 */display: inline-block !important;position: relative;}#sk-container-id-3 div.sk-text-repr-fallback {display: none;}</style><div id=\"sk-container-id-3\" class=\"sk-top-container\"><div class=\"sk-text-repr-fallback\"><pre>LogisticRegression()</pre><b>In a Jupyter environment, please rerun this cell to show the HTML representation or trust the notebook. <br />On GitHub, the HTML representation is unable to render, please try loading this page with nbviewer.org.</b></div><div class=\"sk-container\" hidden><div class=\"sk-item\"><div class=\"sk-estimator sk-toggleable\"><input class=\"sk-toggleable__control sk-hidden--visually\" id=\"sk-estimator-id-3\" type=\"checkbox\" checked><label for=\"sk-estimator-id-3\" class=\"sk-toggleable__label sk-toggleable__label-arrow\">LogisticRegression</label><div class=\"sk-toggleable__content\"><pre>LogisticRegression()</pre></div></div></div></div></div>"
      ],
      "text/plain": [
       "LogisticRegression()"
      ]
     },
     "execution_count": 51,
     "metadata": {},
     "output_type": "execute_result"
    }
   ],
   "source": [
    "from sklearn.linear_model import LogisticRegression\n",
    "lr=LogisticRegression()\n",
    "lr.fit(x_train,y_train)"
   ]
  },
  {
   "cell_type": "code",
   "execution_count": 52,
   "id": "69433b0b",
   "metadata": {},
   "outputs": [],
   "source": [
    "y_pred_lr = model.predict(x_test)"
   ]
  },
  {
   "cell_type": "code",
   "execution_count": 53,
   "id": "d581dc48",
   "metadata": {},
   "outputs": [
    {
     "name": "stdout",
     "output_type": "stream",
     "text": [
      "Accuracy: 58.75%\n"
     ]
    }
   ],
   "source": [
    "accuracy_lr = accuracy_score(y_test, y_pred)\n",
    "print(\"Accuracy: %.2f%%\" % (accuracy_lr * 100.0))"
   ]
  },
  {
   "cell_type": "markdown",
   "id": "2786e673",
   "metadata": {},
   "source": [
    "## Random Forest "
   ]
  },
  {
   "cell_type": "code",
   "execution_count": 144,
   "id": "df5aacd7",
   "metadata": {},
   "outputs": [
    {
     "ename": "ValueError",
     "evalue": "Found input variables with inconsistent numbers of samples: [32345, 7]",
     "output_type": "error",
     "traceback": [
      "\u001b[1;31m---------------------------------------------------------------------------\u001b[0m",
      "\u001b[1;31mValueError\u001b[0m                                Traceback (most recent call last)",
      "\u001b[1;32m~\\AppData\\Local\\Temp/ipykernel_6420/2390152549.py\u001b[0m in \u001b[0;36m<cell line: 3>\u001b[1;34m()\u001b[0m\n\u001b[0;32m      1\u001b[0m \u001b[1;32mfrom\u001b[0m \u001b[0msklearn\u001b[0m\u001b[1;33m.\u001b[0m\u001b[0mensemble\u001b[0m \u001b[1;32mimport\u001b[0m \u001b[0mRandomForestClassifier\u001b[0m\u001b[1;33m\u001b[0m\u001b[1;33m\u001b[0m\u001b[0m\n\u001b[0;32m      2\u001b[0m \u001b[0mregressor\u001b[0m \u001b[1;33m=\u001b[0m \u001b[0mRandomForestClassifier\u001b[0m\u001b[1;33m(\u001b[0m\u001b[0mn_estimators\u001b[0m \u001b[1;33m=\u001b[0m \u001b[1;36m100\u001b[0m\u001b[1;33m)\u001b[0m\u001b[1;33m\u001b[0m\u001b[1;33m\u001b[0m\u001b[0m\n\u001b[1;32m----> 3\u001b[1;33m \u001b[0mregressor\u001b[0m\u001b[1;33m.\u001b[0m\u001b[0mfit\u001b[0m\u001b[1;33m(\u001b[0m\u001b[0mx_train\u001b[0m\u001b[1;33m,\u001b[0m \u001b[0my_train\u001b[0m\u001b[1;33m)\u001b[0m\u001b[1;33m\u001b[0m\u001b[1;33m\u001b[0m\u001b[0m\n\u001b[0m",
      "\u001b[1;32m~\\anaconda3\\lib\\site-packages\\sklearn\\ensemble\\_forest.py\u001b[0m in \u001b[0;36mfit\u001b[1;34m(self, X, y, sample_weight)\u001b[0m\n\u001b[0;32m    343\u001b[0m         \u001b[1;32mif\u001b[0m \u001b[0missparse\u001b[0m\u001b[1;33m(\u001b[0m\u001b[0my\u001b[0m\u001b[1;33m)\u001b[0m\u001b[1;33m:\u001b[0m\u001b[1;33m\u001b[0m\u001b[1;33m\u001b[0m\u001b[0m\n\u001b[0;32m    344\u001b[0m             \u001b[1;32mraise\u001b[0m \u001b[0mValueError\u001b[0m\u001b[1;33m(\u001b[0m\u001b[1;34m\"sparse multilabel-indicator for y is not supported.\"\u001b[0m\u001b[1;33m)\u001b[0m\u001b[1;33m\u001b[0m\u001b[1;33m\u001b[0m\u001b[0m\n\u001b[1;32m--> 345\u001b[1;33m         X, y = self._validate_data(\n\u001b[0m\u001b[0;32m    346\u001b[0m             \u001b[0mX\u001b[0m\u001b[1;33m,\u001b[0m \u001b[0my\u001b[0m\u001b[1;33m,\u001b[0m \u001b[0mmulti_output\u001b[0m\u001b[1;33m=\u001b[0m\u001b[1;32mTrue\u001b[0m\u001b[1;33m,\u001b[0m \u001b[0maccept_sparse\u001b[0m\u001b[1;33m=\u001b[0m\u001b[1;34m\"csc\"\u001b[0m\u001b[1;33m,\u001b[0m \u001b[0mdtype\u001b[0m\u001b[1;33m=\u001b[0m\u001b[0mDTYPE\u001b[0m\u001b[1;33m\u001b[0m\u001b[1;33m\u001b[0m\u001b[0m\n\u001b[0;32m    347\u001b[0m         )\n",
      "\u001b[1;32m~\\anaconda3\\lib\\site-packages\\sklearn\\base.py\u001b[0m in \u001b[0;36m_validate_data\u001b[1;34m(self, X, y, reset, validate_separately, **check_params)\u001b[0m\n\u001b[0;32m    563\u001b[0m                 \u001b[0my\u001b[0m \u001b[1;33m=\u001b[0m \u001b[0mcheck_array\u001b[0m\u001b[1;33m(\u001b[0m\u001b[0my\u001b[0m\u001b[1;33m,\u001b[0m \u001b[0minput_name\u001b[0m\u001b[1;33m=\u001b[0m\u001b[1;34m\"y\"\u001b[0m\u001b[1;33m,\u001b[0m \u001b[1;33m**\u001b[0m\u001b[0mcheck_y_params\u001b[0m\u001b[1;33m)\u001b[0m\u001b[1;33m\u001b[0m\u001b[1;33m\u001b[0m\u001b[0m\n\u001b[0;32m    564\u001b[0m             \u001b[1;32melse\u001b[0m\u001b[1;33m:\u001b[0m\u001b[1;33m\u001b[0m\u001b[1;33m\u001b[0m\u001b[0m\n\u001b[1;32m--> 565\u001b[1;33m                 \u001b[0mX\u001b[0m\u001b[1;33m,\u001b[0m \u001b[0my\u001b[0m \u001b[1;33m=\u001b[0m \u001b[0mcheck_X_y\u001b[0m\u001b[1;33m(\u001b[0m\u001b[0mX\u001b[0m\u001b[1;33m,\u001b[0m \u001b[0my\u001b[0m\u001b[1;33m,\u001b[0m \u001b[1;33m**\u001b[0m\u001b[0mcheck_params\u001b[0m\u001b[1;33m)\u001b[0m\u001b[1;33m\u001b[0m\u001b[1;33m\u001b[0m\u001b[0m\n\u001b[0m\u001b[0;32m    566\u001b[0m             \u001b[0mout\u001b[0m \u001b[1;33m=\u001b[0m \u001b[0mX\u001b[0m\u001b[1;33m,\u001b[0m \u001b[0my\u001b[0m\u001b[1;33m\u001b[0m\u001b[1;33m\u001b[0m\u001b[0m\n\u001b[0;32m    567\u001b[0m \u001b[1;33m\u001b[0m\u001b[0m\n",
      "\u001b[1;32m~\\anaconda3\\lib\\site-packages\\sklearn\\utils\\validation.py\u001b[0m in \u001b[0;36mcheck_X_y\u001b[1;34m(X, y, accept_sparse, accept_large_sparse, dtype, order, copy, force_all_finite, ensure_2d, allow_nd, multi_output, ensure_min_samples, ensure_min_features, y_numeric, estimator)\u001b[0m\n\u001b[0;32m   1122\u001b[0m     \u001b[0my\u001b[0m \u001b[1;33m=\u001b[0m \u001b[0m_check_y\u001b[0m\u001b[1;33m(\u001b[0m\u001b[0my\u001b[0m\u001b[1;33m,\u001b[0m \u001b[0mmulti_output\u001b[0m\u001b[1;33m=\u001b[0m\u001b[0mmulti_output\u001b[0m\u001b[1;33m,\u001b[0m \u001b[0my_numeric\u001b[0m\u001b[1;33m=\u001b[0m\u001b[0my_numeric\u001b[0m\u001b[1;33m,\u001b[0m \u001b[0mestimator\u001b[0m\u001b[1;33m=\u001b[0m\u001b[0mestimator\u001b[0m\u001b[1;33m)\u001b[0m\u001b[1;33m\u001b[0m\u001b[1;33m\u001b[0m\u001b[0m\n\u001b[0;32m   1123\u001b[0m \u001b[1;33m\u001b[0m\u001b[0m\n\u001b[1;32m-> 1124\u001b[1;33m     \u001b[0mcheck_consistent_length\u001b[0m\u001b[1;33m(\u001b[0m\u001b[0mX\u001b[0m\u001b[1;33m,\u001b[0m \u001b[0my\u001b[0m\u001b[1;33m)\u001b[0m\u001b[1;33m\u001b[0m\u001b[1;33m\u001b[0m\u001b[0m\n\u001b[0m\u001b[0;32m   1125\u001b[0m \u001b[1;33m\u001b[0m\u001b[0m\n\u001b[0;32m   1126\u001b[0m     \u001b[1;32mreturn\u001b[0m \u001b[0mX\u001b[0m\u001b[1;33m,\u001b[0m \u001b[0my\u001b[0m\u001b[1;33m\u001b[0m\u001b[1;33m\u001b[0m\u001b[0m\n",
      "\u001b[1;32m~\\anaconda3\\lib\\site-packages\\sklearn\\utils\\validation.py\u001b[0m in \u001b[0;36mcheck_consistent_length\u001b[1;34m(*arrays)\u001b[0m\n\u001b[0;32m    395\u001b[0m     \u001b[0muniques\u001b[0m \u001b[1;33m=\u001b[0m \u001b[0mnp\u001b[0m\u001b[1;33m.\u001b[0m\u001b[0munique\u001b[0m\u001b[1;33m(\u001b[0m\u001b[0mlengths\u001b[0m\u001b[1;33m)\u001b[0m\u001b[1;33m\u001b[0m\u001b[1;33m\u001b[0m\u001b[0m\n\u001b[0;32m    396\u001b[0m     \u001b[1;32mif\u001b[0m \u001b[0mlen\u001b[0m\u001b[1;33m(\u001b[0m\u001b[0muniques\u001b[0m\u001b[1;33m)\u001b[0m \u001b[1;33m>\u001b[0m \u001b[1;36m1\u001b[0m\u001b[1;33m:\u001b[0m\u001b[1;33m\u001b[0m\u001b[1;33m\u001b[0m\u001b[0m\n\u001b[1;32m--> 397\u001b[1;33m         raise ValueError(\n\u001b[0m\u001b[0;32m    398\u001b[0m             \u001b[1;34m\"Found input variables with inconsistent numbers of samples: %r\"\u001b[0m\u001b[1;33m\u001b[0m\u001b[1;33m\u001b[0m\u001b[0m\n\u001b[0;32m    399\u001b[0m             \u001b[1;33m%\u001b[0m \u001b[1;33m[\u001b[0m\u001b[0mint\u001b[0m\u001b[1;33m(\u001b[0m\u001b[0ml\u001b[0m\u001b[1;33m)\u001b[0m \u001b[1;32mfor\u001b[0m \u001b[0ml\u001b[0m \u001b[1;32min\u001b[0m \u001b[0mlengths\u001b[0m\u001b[1;33m]\u001b[0m\u001b[1;33m\u001b[0m\u001b[1;33m\u001b[0m\u001b[0m\n",
      "\u001b[1;31mValueError\u001b[0m: Found input variables with inconsistent numbers of samples: [32345, 7]"
     ]
    }
   ],
   "source": [
    "from sklearn.ensemble import RandomForestClassifier\n",
    "regressor = RandomForestClassifier(n_estimators = 100)\n",
    "regressor.fit(x_train, y_train) "
   ]
  },
  {
   "cell_type": "code",
   "execution_count": 55,
   "id": "eeee275c",
   "metadata": {},
   "outputs": [
    {
     "ename": "ValueError",
     "evalue": "Classification metrics can't handle a mix of binary and continuous targets",
     "output_type": "error",
     "traceback": [
      "\u001b[1;31m---------------------------------------------------------------------------\u001b[0m",
      "\u001b[1;31mValueError\u001b[0m                                Traceback (most recent call last)",
      "\u001b[1;32m~\\AppData\\Local\\Temp/ipykernel_6420/891320809.py\u001b[0m in \u001b[0;36m<cell line: 2>\u001b[1;34m()\u001b[0m\n\u001b[0;32m      1\u001b[0m \u001b[0mrf_pred\u001b[0m\u001b[1;33m=\u001b[0m\u001b[0mregressor\u001b[0m\u001b[1;33m.\u001b[0m\u001b[0mpredict\u001b[0m\u001b[1;33m(\u001b[0m\u001b[0mx_test\u001b[0m\u001b[1;33m)\u001b[0m\u001b[1;33m\u001b[0m\u001b[1;33m\u001b[0m\u001b[0m\n\u001b[1;32m----> 2\u001b[1;33m \u001b[0mrf_accuracy\u001b[0m\u001b[1;33m=\u001b[0m \u001b[0maccuracy_score\u001b[0m\u001b[1;33m(\u001b[0m\u001b[0my_test\u001b[0m\u001b[1;33m,\u001b[0m \u001b[0mrf_pred\u001b[0m\u001b[1;33m)\u001b[0m\u001b[1;33m\u001b[0m\u001b[1;33m\u001b[0m\u001b[0m\n\u001b[0m",
      "\u001b[1;32m~\\anaconda3\\lib\\site-packages\\sklearn\\utils\\_param_validation.py\u001b[0m in \u001b[0;36mwrapper\u001b[1;34m(*args, **kwargs)\u001b[0m\n\u001b[0;32m    190\u001b[0m \u001b[1;33m\u001b[0m\u001b[0m\n\u001b[0;32m    191\u001b[0m             \u001b[1;32mtry\u001b[0m\u001b[1;33m:\u001b[0m\u001b[1;33m\u001b[0m\u001b[1;33m\u001b[0m\u001b[0m\n\u001b[1;32m--> 192\u001b[1;33m                 \u001b[1;32mreturn\u001b[0m \u001b[0mfunc\u001b[0m\u001b[1;33m(\u001b[0m\u001b[1;33m*\u001b[0m\u001b[0margs\u001b[0m\u001b[1;33m,\u001b[0m \u001b[1;33m**\u001b[0m\u001b[0mkwargs\u001b[0m\u001b[1;33m)\u001b[0m\u001b[1;33m\u001b[0m\u001b[1;33m\u001b[0m\u001b[0m\n\u001b[0m\u001b[0;32m    193\u001b[0m             \u001b[1;32mexcept\u001b[0m \u001b[0mInvalidParameterError\u001b[0m \u001b[1;32mas\u001b[0m \u001b[0me\u001b[0m\u001b[1;33m:\u001b[0m\u001b[1;33m\u001b[0m\u001b[1;33m\u001b[0m\u001b[0m\n\u001b[0;32m    194\u001b[0m                 \u001b[1;31m# When the function is just a wrapper around an estimator, we allow\u001b[0m\u001b[1;33m\u001b[0m\u001b[1;33m\u001b[0m\u001b[0m\n",
      "\u001b[1;32m~\\anaconda3\\lib\\site-packages\\sklearn\\metrics\\_classification.py\u001b[0m in \u001b[0;36maccuracy_score\u001b[1;34m(y_true, y_pred, normalize, sample_weight)\u001b[0m\n\u001b[0;32m    219\u001b[0m \u001b[1;33m\u001b[0m\u001b[0m\n\u001b[0;32m    220\u001b[0m     \u001b[1;31m# Compute accuracy for each possible representation\u001b[0m\u001b[1;33m\u001b[0m\u001b[1;33m\u001b[0m\u001b[0m\n\u001b[1;32m--> 221\u001b[1;33m     \u001b[0my_type\u001b[0m\u001b[1;33m,\u001b[0m \u001b[0my_true\u001b[0m\u001b[1;33m,\u001b[0m \u001b[0my_pred\u001b[0m \u001b[1;33m=\u001b[0m \u001b[0m_check_targets\u001b[0m\u001b[1;33m(\u001b[0m\u001b[0my_true\u001b[0m\u001b[1;33m,\u001b[0m \u001b[0my_pred\u001b[0m\u001b[1;33m)\u001b[0m\u001b[1;33m\u001b[0m\u001b[1;33m\u001b[0m\u001b[0m\n\u001b[0m\u001b[0;32m    222\u001b[0m     \u001b[0mcheck_consistent_length\u001b[0m\u001b[1;33m(\u001b[0m\u001b[0my_true\u001b[0m\u001b[1;33m,\u001b[0m \u001b[0my_pred\u001b[0m\u001b[1;33m,\u001b[0m \u001b[0msample_weight\u001b[0m\u001b[1;33m)\u001b[0m\u001b[1;33m\u001b[0m\u001b[1;33m\u001b[0m\u001b[0m\n\u001b[0;32m    223\u001b[0m     \u001b[1;32mif\u001b[0m \u001b[0my_type\u001b[0m\u001b[1;33m.\u001b[0m\u001b[0mstartswith\u001b[0m\u001b[1;33m(\u001b[0m\u001b[1;34m\"multilabel\"\u001b[0m\u001b[1;33m)\u001b[0m\u001b[1;33m:\u001b[0m\u001b[1;33m\u001b[0m\u001b[1;33m\u001b[0m\u001b[0m\n",
      "\u001b[1;32m~\\anaconda3\\lib\\site-packages\\sklearn\\metrics\\_classification.py\u001b[0m in \u001b[0;36m_check_targets\u001b[1;34m(y_true, y_pred)\u001b[0m\n\u001b[0;32m     93\u001b[0m \u001b[1;33m\u001b[0m\u001b[0m\n\u001b[0;32m     94\u001b[0m     \u001b[1;32mif\u001b[0m \u001b[0mlen\u001b[0m\u001b[1;33m(\u001b[0m\u001b[0my_type\u001b[0m\u001b[1;33m)\u001b[0m \u001b[1;33m>\u001b[0m \u001b[1;36m1\u001b[0m\u001b[1;33m:\u001b[0m\u001b[1;33m\u001b[0m\u001b[1;33m\u001b[0m\u001b[0m\n\u001b[1;32m---> 95\u001b[1;33m         raise ValueError(\n\u001b[0m\u001b[0;32m     96\u001b[0m             \"Classification metrics can't handle a mix of {0} and {1} targets\".format(\n\u001b[0;32m     97\u001b[0m                 \u001b[0mtype_true\u001b[0m\u001b[1;33m,\u001b[0m \u001b[0mtype_pred\u001b[0m\u001b[1;33m\u001b[0m\u001b[1;33m\u001b[0m\u001b[0m\n",
      "\u001b[1;31mValueError\u001b[0m: Classification metrics can't handle a mix of binary and continuous targets"
     ]
    }
   ],
   "source": [
    "rf_pred=regressor.predict(x_test)\n",
    "rf_accuracy= accuracy_score(y_test, rf_pred)"
   ]
  },
  {
   "cell_type": "markdown",
   "id": "7a6775aa",
   "metadata": {},
   "source": [
    "## CNN"
   ]
  },
  {
   "cell_type": "code",
   "execution_count": 56,
   "id": "59e3593d",
   "metadata": {},
   "outputs": [],
   "source": [
    "#importing the required libraries\n",
    "from tensorflow.keras.datasets import mnist\n",
    "from tensorflow.keras.models import Sequential\n",
    "from tensorflow.keras.layers import Conv2D\n",
    "from tensorflow.keras.layers import MaxPool2D\n",
    "from tensorflow.keras.layers import Flatten\n",
    "from tensorflow.keras.layers import Dropout\n",
    "from tensorflow.keras.layers import Dense"
   ]
  },
  {
   "cell_type": "code",
   "execution_count": 57,
   "id": "4e6d5671",
   "metadata": {},
   "outputs": [],
   "source": [
    "model=Sequential()\n",
    "model.add(Dense(1000,input_dim=3,activation='relu'))\n",
    "model.add(Dense(500,activation='relu'))\n",
    "model.add(Dense(300,activation='relu'))\n",
    "model.add(Dropout(0.2))\n",
    "model.add(Dense(1,activation='softmax'))\n",
    "model.compile(loss='categorical_crossentropy',optimizer='adam',metrics=['accuracy'])"
   ]
  },
  {
   "cell_type": "code",
   "execution_count": 58,
   "id": "ab5f3e0a",
   "metadata": {},
   "outputs": [
    {
     "name": "stdout",
     "output_type": "stream",
     "text": [
      "Epoch 1/10\n",
      "1618/1618 [==============================] - 36s 21ms/step - loss: 0.0000e+00 - accuracy: 0.5001 - val_loss: 0.0000e+00 - val_accuracy: 0.4996\n",
      "Epoch 2/10\n",
      "1618/1618 [==============================] - 32s 20ms/step - loss: 0.0000e+00 - accuracy: 0.5001 - val_loss: 0.0000e+00 - val_accuracy: 0.4996\n",
      "Epoch 3/10\n",
      "1618/1618 [==============================] - 31s 19ms/step - loss: 0.0000e+00 - accuracy: 0.5001 - val_loss: 0.0000e+00 - val_accuracy: 0.4996\n",
      "Epoch 4/10\n",
      "1618/1618 [==============================] - 31s 19ms/step - loss: 0.0000e+00 - accuracy: 0.5001 - val_loss: 0.0000e+00 - val_accuracy: 0.4996\n",
      "Epoch 5/10\n",
      "1618/1618 [==============================] - 32s 20ms/step - loss: 0.0000e+00 - accuracy: 0.5001 - val_loss: 0.0000e+00 - val_accuracy: 0.4996\n",
      "Epoch 6/10\n",
      "1618/1618 [==============================] - 32s 19ms/step - loss: 0.0000e+00 - accuracy: 0.5001 - val_loss: 0.0000e+00 - val_accuracy: 0.4996\n",
      "Epoch 7/10\n",
      "1618/1618 [==============================] - 30s 19ms/step - loss: 0.0000e+00 - accuracy: 0.5001 - val_loss: 0.0000e+00 - val_accuracy: 0.4996\n",
      "Epoch 8/10\n",
      "1618/1618 [==============================] - 30s 19ms/step - loss: 0.0000e+00 - accuracy: 0.5001 - val_loss: 0.0000e+00 - val_accuracy: 0.4996\n",
      "Epoch 9/10\n",
      "1618/1618 [==============================] - 31s 19ms/step - loss: 0.0000e+00 - accuracy: 0.5001 - val_loss: 0.0000e+00 - val_accuracy: 0.4996\n",
      "Epoch 10/10\n",
      "1618/1618 [==============================] - 30s 19ms/step - loss: 0.0000e+00 - accuracy: 0.5001 - val_loss: 0.0000e+00 - val_accuracy: 0.4996\n"
     ]
    },
    {
     "data": {
      "text/plain": [
       "<keras.callbacks.History at 0x1fb7f65fc70>"
      ]
     },
     "execution_count": 58,
     "metadata": {},
     "output_type": "execute_result"
    }
   ],
   "source": [
    "model.fit(x_train,y_train,validation_data=(x_test,y_test),batch_size=20,epochs=10,verbose=1)"
   ]
  },
  {
   "cell_type": "code",
   "execution_count": 59,
   "id": "e4ce6201",
   "metadata": {},
   "outputs": [
    {
     "name": "stdout",
     "output_type": "stream",
     "text": [
      "253/253 [==============================] - 2s 7ms/step\n"
     ]
    }
   ],
   "source": [
    "prediction=model.predict(x_test)"
   ]
  },
  {
   "cell_type": "code",
   "execution_count": 60,
   "id": "f2ddf43b",
   "metadata": {},
   "outputs": [
    {
     "name": "stdout",
     "output_type": "stream",
     "text": [
      "Accuracy: 49.96%\n"
     ]
    }
   ],
   "source": [
    "accuracy_lr = accuracy_score(y_test, prediction)\n",
    "print(\"Accuracy: %.2f%%\" % (accuracy_lr * 100.0))"
   ]
  },
  {
   "cell_type": "markdown",
   "id": "23339da9",
   "metadata": {},
   "source": [
    "### NB and ADWIN"
   ]
  },
  {
   "cell_type": "code",
   "execution_count": 72,
   "id": "f548aa7a",
   "metadata": {},
   "outputs": [],
   "source": [
    "import matplotlib.pyplot as plt\n",
    "from sklearn.naive_bayes import GaussianNB\n",
    "from sklearn.linear_model import SGDClassifier\n",
    "from sklearn import svm\n",
    "from sklearn.base import clone\n",
    "from menelaus.concept_drift import LinearFourRates, ADWINAccuracy, DDM, EDDM, STEPD, MD3"
   ]
  },
  {
   "cell_type": "code",
   "execution_count": 61,
   "id": "e51ace94",
   "metadata": {},
   "outputs": [],
   "source": [
    "training_size = 30324"
   ]
  },
  {
   "cell_type": "code",
   "execution_count": 62,
   "id": "b9a5d2cc",
   "metadata": {},
   "outputs": [],
   "source": [
    "X_train = df4.loc[0:training_size, ['category','rating','Mean']]\n",
    "y_train = df4.loc[0:training_size, \"label\"]\n",
    "X_test = df4.loc[training_size:len(df4), ['category','rating','Mean']]\n",
    "y_true = df4.loc[training_size:len(df4), \"label\"]"
   ]
  },
  {
   "cell_type": "code",
   "execution_count": 63,
   "id": "e4da7b9d",
   "metadata": {},
   "outputs": [
    {
     "data": {
      "text/html": [
       "<style>#sk-container-id-5 {color: black;background-color: white;}#sk-container-id-5 pre{padding: 0;}#sk-container-id-5 div.sk-toggleable {background-color: white;}#sk-container-id-5 label.sk-toggleable__label {cursor: pointer;display: block;width: 100%;margin-bottom: 0;padding: 0.3em;box-sizing: border-box;text-align: center;}#sk-container-id-5 label.sk-toggleable__label-arrow:before {content: \"▸\";float: left;margin-right: 0.25em;color: #696969;}#sk-container-id-5 label.sk-toggleable__label-arrow:hover:before {color: black;}#sk-container-id-5 div.sk-estimator:hover label.sk-toggleable__label-arrow:before {color: black;}#sk-container-id-5 div.sk-toggleable__content {max-height: 0;max-width: 0;overflow: hidden;text-align: left;background-color: #f0f8ff;}#sk-container-id-5 div.sk-toggleable__content pre {margin: 0.2em;color: black;border-radius: 0.25em;background-color: #f0f8ff;}#sk-container-id-5 input.sk-toggleable__control:checked~div.sk-toggleable__content {max-height: 200px;max-width: 100%;overflow: auto;}#sk-container-id-5 input.sk-toggleable__control:checked~label.sk-toggleable__label-arrow:before {content: \"▾\";}#sk-container-id-5 div.sk-estimator input.sk-toggleable__control:checked~label.sk-toggleable__label {background-color: #d4ebff;}#sk-container-id-5 div.sk-label input.sk-toggleable__control:checked~label.sk-toggleable__label {background-color: #d4ebff;}#sk-container-id-5 input.sk-hidden--visually {border: 0;clip: rect(1px 1px 1px 1px);clip: rect(1px, 1px, 1px, 1px);height: 1px;margin: -1px;overflow: hidden;padding: 0;position: absolute;width: 1px;}#sk-container-id-5 div.sk-estimator {font-family: monospace;background-color: #f0f8ff;border: 1px dotted black;border-radius: 0.25em;box-sizing: border-box;margin-bottom: 0.5em;}#sk-container-id-5 div.sk-estimator:hover {background-color: #d4ebff;}#sk-container-id-5 div.sk-parallel-item::after {content: \"\";width: 100%;border-bottom: 1px solid gray;flex-grow: 1;}#sk-container-id-5 div.sk-label:hover label.sk-toggleable__label {background-color: #d4ebff;}#sk-container-id-5 div.sk-serial::before {content: \"\";position: absolute;border-left: 1px solid gray;box-sizing: border-box;top: 0;bottom: 0;left: 50%;z-index: 0;}#sk-container-id-5 div.sk-serial {display: flex;flex-direction: column;align-items: center;background-color: white;padding-right: 0.2em;padding-left: 0.2em;position: relative;}#sk-container-id-5 div.sk-item {position: relative;z-index: 1;}#sk-container-id-5 div.sk-parallel {display: flex;align-items: stretch;justify-content: center;background-color: white;position: relative;}#sk-container-id-5 div.sk-item::before, #sk-container-id-5 div.sk-parallel-item::before {content: \"\";position: absolute;border-left: 1px solid gray;box-sizing: border-box;top: 0;bottom: 0;left: 50%;z-index: -1;}#sk-container-id-5 div.sk-parallel-item {display: flex;flex-direction: column;z-index: 1;position: relative;background-color: white;}#sk-container-id-5 div.sk-parallel-item:first-child::after {align-self: flex-end;width: 50%;}#sk-container-id-5 div.sk-parallel-item:last-child::after {align-self: flex-start;width: 50%;}#sk-container-id-5 div.sk-parallel-item:only-child::after {width: 0;}#sk-container-id-5 div.sk-dashed-wrapped {border: 1px dashed gray;margin: 0 0.4em 0.5em 0.4em;box-sizing: border-box;padding-bottom: 0.4em;background-color: white;}#sk-container-id-5 div.sk-label label {font-family: monospace;font-weight: bold;display: inline-block;line-height: 1.2em;}#sk-container-id-5 div.sk-label-container {text-align: center;}#sk-container-id-5 div.sk-container {/* jupyter's `normalize.less` sets `[hidden] { display: none; }` but bootstrap.min.css set `[hidden] { display: none !important; }` so we also need the `!important` here to be able to override the default hidden behavior on the sphinx rendered scikit-learn.org. See: https://github.com/scikit-learn/scikit-learn/issues/21755 */display: inline-block !important;position: relative;}#sk-container-id-5 div.sk-text-repr-fallback {display: none;}</style><div id=\"sk-container-id-5\" class=\"sk-top-container\"><div class=\"sk-text-repr-fallback\"><pre>GaussianNB()</pre><b>In a Jupyter environment, please rerun this cell to show the HTML representation or trust the notebook. <br />On GitHub, the HTML representation is unable to render, please try loading this page with nbviewer.org.</b></div><div class=\"sk-container\" hidden><div class=\"sk-item\"><div class=\"sk-estimator sk-toggleable\"><input class=\"sk-toggleable__control sk-hidden--visually\" id=\"sk-estimator-id-5\" type=\"checkbox\" checked><label for=\"sk-estimator-id-5\" class=\"sk-toggleable__label sk-toggleable__label-arrow\">GaussianNB</label><div class=\"sk-toggleable__content\"><pre>GaussianNB()</pre></div></div></div></div></div>"
      ],
      "text/plain": [
       "GaussianNB()"
      ]
     },
     "execution_count": 63,
     "metadata": {},
     "output_type": "execute_result"
    }
   ],
   "source": [
    "np.random.seed(123)\n",
    "clf = GaussianNB()\n",
    "clf.fit(X_train, y_train)"
   ]
  },
  {
   "cell_type": "code",
   "execution_count": 64,
   "id": "6e38a495",
   "metadata": {},
   "outputs": [
    {
     "name": "stdout",
     "output_type": "stream",
     "text": [
      "30324    1.000000\n",
      "30325    1.000000\n",
      "30326    1.000000\n",
      "30327    1.000000\n",
      "30328    1.000000\n",
      "           ...   \n",
      "40427    0.580562\n",
      "40428    0.580505\n",
      "40429    0.580546\n",
      "40430    0.580489\n",
      "40431    0.580530\n",
      "Name: label, Length: 10108, dtype: float64\n"
     ]
    }
   ],
   "source": [
    "acc_orig = np.cumsum(clf.predict(X_test) == y_true)\n",
    "acc_orig = acc_orig / np.arange(1, 1 + len(acc_orig))\n",
    "print(acc_orig)"
   ]
  },
  {
   "cell_type": "code",
   "execution_count": 65,
   "id": "eb8d3719",
   "metadata": {},
   "outputs": [
    {
     "name": "stdout",
     "output_type": "stream",
     "text": [
      "30324    1.000000\n",
      "30325    1.000000\n",
      "30326    1.000000\n",
      "30327    1.000000\n",
      "30328    1.000000\n",
      "           ...   \n",
      "40427    0.580562\n",
      "40428    0.580505\n",
      "40429    0.580546\n",
      "40430    0.580489\n",
      "40431    0.580530\n",
      "Name: label, Length: 10108, dtype: float64\n"
     ]
    }
   ],
   "source": [
    "acc_orig = np.cumsum(clf.predict(X_test) == y_true)\n",
    "acc_orig = acc_orig / np.arange(1, 1 + len(acc_orig))\n",
    "print(acc_orig)"
   ]
  },
  {
   "cell_type": "code",
   "execution_count": 68,
   "id": "75d752a2",
   "metadata": {},
   "outputs": [],
   "source": [
    "import matplotlib.pyplot as plt"
   ]
  },
  {
   "cell_type": "code",
   "execution_count": 76,
   "id": "941c42e1",
   "metadata": {},
   "outputs": [],
   "source": [
    "adwin = ADWINAccuracy()\n",
    "\n",
    "# Set up DF to record results.\n",
    "status = pd.DataFrame(\n",
    "    columns=[\"index\", \"y_true\", \"y_pred\", \"adwin mean\", \"drift_detected\"]\n",
    ")\n",
    "rec_list = []"
   ]
  },
  {
   "cell_type": "code",
   "execution_count": 77,
   "id": "c48340d0",
   "metadata": {},
   "outputs": [],
   "source": [
    "for i in range(training_size, len(df4)):\n",
    "\n",
    "    X_test = df4.loc[[i], ['category','rating','Mean']]\n",
    "    y_pred = int(clf.predict(X_test))\n",
    "    y_true = int(df4.loc[[i], \"label\"])\n",
    "\n",
    "    adwin.update(y_true, y_pred)\n",
    "    status.loc[i] = [\n",
    "        i, y_true, y_pred, adwin.mean(), adwin.drift_state,\n",
    "    ]\n",
    "\n",
    "    # If drift is detected, examine the window and retrain.\n",
    "    if adwin.drift_state == \"drift\":\n",
    "        retrain_start = adwin.retraining_recs[0] + training_size\n",
    "        retrain_end = adwin.retraining_recs[1] + training_size\n",
    "        rec_list.append([retrain_start, retrain_end])\n",
    "\n",
    "        # The retraining recommendations produced here correspond to the samples\n",
    "        # which belong to ADWIN's new, smaller window, after drift is detected.\n",
    "        # If retraining is not desired, omit the next four lines.\n",
    "        X_train = df4.loc[retrain_start:retrain_end, ['category','rating','Mean']]\n",
    "        y_train = df4.loc[retrain_start:retrain_end, \"label\"]\n",
    "        clf = GaussianNB()\n",
    "        clf.fit(X_train, y_train)\n",
    "\n",
    "status['original_accuracy'] = acc_orig\n",
    "status['accuracy'] = np.cumsum(status.y_true == status.y_pred)\n",
    "status['accuracy'] = status['accuracy'] / np.cumsum(np.repeat(1, status.shape[0]))\n"
   ]
  },
  {
   "cell_type": "code",
   "execution_count": 78,
   "id": "12e13723",
   "metadata": {},
   "outputs": [
    {
     "data": {
      "image/png": "[encoded data removed]",
      "text/plain": [
       "<Figure size 1440x432 with 1 Axes>"
      ]
     },
     "metadata": {
      "needs_background": "light"
     },
     "output_type": "display_data"
    }
   ],
   "source": [
    "plt.figure(figsize=(20, 6))\n",
    "plt.scatter(\"index\", \"original_accuracy\", data=status, label=\"Original Accuracy\", color='red')\n",
    "plt.scatter(\"index\", \"accuracy\", data=status, label=\"Retrain Accuracy\", color='green')\n",
    "plt.grid(False, axis=\"x\")\n",
    "plt.xticks(fontsize=16)\n",
    "plt.yticks(fontsize=16)\n",
    "plt.title(\"ADWIN Results: Accuracy\", fontsize=22)\n",
    "plt.ylabel(\"Value\", fontsize=18)\n",
    "plt.xlabel(\"Index\", fontsize=18)\n",
    "ylims = [0, 1.1]\n",
    "plt.ylim(ylims)\n",
    "\n",
    "plt.axvspan(1000, 1250, alpha=0.5, label=\"Drift Induction Window\")\n",
    "\n",
    "# Draw red lines that indicate where drift was detected\n",
    "plt.vlines(\n",
    "    x=status.loc[status[\"drift_detected\"] == \"drift\"][\"index\"],\n",
    "    ymin=ylims[0],\n",
    "    ymax=ylims[1],\n",
    "    label=\"Drift Detected\",\n",
    "    color=\"red\",\n",
    ")\n",
    "\n",
    "# Create a list of lines that indicate the retraining windows.\n",
    "# Space them evenly, vertically.\n",
    "rec_list = pd.DataFrame(rec_list)\n",
    "rec_list[\"y_val\"] = np.linspace(\n",
    "    start=0.05 * (ylims[1] - ylims[0]) + ylims[0],\n",
    "    stop=0.2 * ylims[1],\n",
    "    num=len(rec_list),\n",
    ")\n",
    "\n",
    "# Draw green lines that indicate where retraining occurred\n",
    "plt.hlines(\n",
    "    y=rec_list[\"y_val\"],\n",
    "    xmin=rec_list[0],\n",
    "    xmax=rec_list[1],\n",
    "    color=\"green\",\n",
    "    label=\"Retraining Windows\",\n",
    ")\n",
    "\n",
    "plt.legend(loc='lower right')\n",
    "plt.show()\n",
    "# plt.savefig(\"example_ADWINAccuracy.png\")"
   ]
  },
  {
   "cell_type": "markdown",
   "id": "3fa719b4",
   "metadata": {},
   "source": [
    "### LR and ADWIN"
   ]
  },
  {
   "cell_type": "code",
   "execution_count": 84,
   "id": "1def608a",
   "metadata": {},
   "outputs": [],
   "source": [
    "X_train = df4.loc[0:training_size, ['category','rating','Mean']]\n",
    "y_train = df4.loc[0:training_size, \"label\"]\n",
    "X_test = df4.loc[training_size:len(df4), ['category','rating','Mean']]\n",
    "y_true = df4.loc[training_size:len(df4), \"label\"]"
   ]
  },
  {
   "cell_type": "code",
   "execution_count": 85,
   "id": "199d6407",
   "metadata": {},
   "outputs": [
    {
     "name": "stdout",
     "output_type": "stream",
     "text": [
      "30324    0.000000\n",
      "30325    0.000000\n",
      "30326    0.000000\n",
      "30327    0.000000\n",
      "30328    0.000000\n",
      "           ...   \n",
      "40427    0.560471\n",
      "40428    0.560416\n",
      "40429    0.560459\n",
      "40430    0.560404\n",
      "40431    0.560447\n",
      "Name: label, Length: 10108, dtype: float64\n"
     ]
    }
   ],
   "source": [
    "from sklearn.linear_model import LogisticRegression\n",
    "model = LogisticRegression()\n",
    "model.fit(X_train, y_train)\n",
    "acc_orig = np.cumsum(clf.predict(X_test) == y_true)\n",
    "acc_orig = acc_orig / np.arange(1, 1 + len(acc_orig))\n",
    "print(acc_orig)"
   ]
  },
  {
   "cell_type": "code",
   "execution_count": 86,
   "id": "263f49c1",
   "metadata": {},
   "outputs": [],
   "source": [
    "adwin = ADWINAccuracy()\n",
    "\n",
    "# Set up DF to record results.\n",
    "status = pd.DataFrame(\n",
    "    columns=[\"index\", \"y_true\", \"y_pred\", \"adwin mean\", \"drift_detected\"]\n",
    ")\n",
    "rec_list = []"
   ]
  },
  {
   "cell_type": "code",
   "execution_count": 87,
   "id": "d4695022",
   "metadata": {},
   "outputs": [],
   "source": [
    "for i in range(training_size, len(df4)):\n",
    "\n",
    "    X_test = df4.loc[[i], ['category','rating','Mean']]\n",
    "    y_pred = int(clf.predict(X_test))\n",
    "    y_true = int(df4.loc[[i], \"label\"])\n",
    "\n",
    "    adwin.update(y_true, y_pred)\n",
    "    status.loc[i] = [\n",
    "        i, y_true, y_pred, adwin.mean(), adwin.drift_state,\n",
    "    ]\n",
    "\n",
    "    # If drift is detected, examine the window and retrain.\n",
    "    if adwin.drift_state == \"drift\":\n",
    "        retrain_start = adwin.retraining_recs[0] + training_size\n",
    "        retrain_end = adwin.retraining_recs[1] + training_size\n",
    "        rec_list.append([retrain_start, retrain_end])\n",
    "\n",
    "        # The retraining recommendations produced here correspond to the samples\n",
    "        # which belong to ADWIN's new, smaller window, after drift is detected.\n",
    "        # If retraining is not desired, omit the next four lines.\n",
    "        X_train = df4.loc[retrain_start:retrain_end, ['category','rating','Mean']]\n",
    "        y_train = df4.loc[retrain_start:retrain_end, \"label\"]\n",
    "        model = LogisticRegression()\n",
    "        model.fit(X_train, y_train)\n",
    "status['original_accuracy'] = acc_orig\n",
    "status['accuracy'] = np.cumsum(status.y_true == status.y_pred)\n",
    "status['accuracy'] = status['accuracy'] / np.cumsum(np.repeat(1, status.shape[0]))\n"
   ]
  },
  {
   "cell_type": "code",
   "execution_count": 88,
   "id": "08fc7cb8",
   "metadata": {},
   "outputs": [
    {
     "data": {
      "image/png": "[encoded data removed]",
      "text/plain": [
       "<Figure size 1440x432 with 1 Axes>"
      ]
     },
     "metadata": {
      "needs_background": "light"
     },
     "output_type": "display_data"
    }
   ],
   "source": [
    "plt.figure(figsize=(20, 6))\n",
    "plt.scatter(\"index\", \"original_accuracy\", data=status, label=\"Original Accuracy\", color='red')\n",
    "plt.scatter(\"index\", \"accuracy\", data=status, label=\"Retrain Accuracy\", color='green')\n",
    "plt.grid(False, axis=\"x\")\n",
    "plt.xticks(fontsize=16)\n",
    "plt.yticks(fontsize=16)\n",
    "plt.title(\"ADWIN Results: Accuracy\", fontsize=22)\n",
    "plt.ylabel(\"Value\", fontsize=18)\n",
    "plt.xlabel(\"Index\", fontsize=18)\n",
    "ylims = [0, 1.1]\n",
    "plt.ylim(ylims)\n",
    "\n",
    "plt.axvspan(1000, 1250, alpha=0.5, label=\"Drift Induction Window\")\n",
    "\n",
    "# Draw red lines that indicate where drift was detected\n",
    "plt.vlines(\n",
    "    x=status.loc[status[\"drift_detected\"] == \"drift\"][\"index\"],\n",
    "    ymin=ylims[0],\n",
    "    ymax=ylims[1],\n",
    "    label=\"Drift Detected\",\n",
    "    color=\"red\",\n",
    ")\n",
    "\n",
    "# Create a list of lines that indicate the retraining windows.\n",
    "# Space them evenly, vertically.\n",
    "rec_list = pd.DataFrame(rec_list)\n",
    "rec_list[\"y_val\"] = np.linspace(\n",
    "    start=0.05 * (ylims[1] - ylims[0]) + ylims[0],\n",
    "    stop=0.2 * ylims[1],\n",
    "    num=len(rec_list),\n",
    ")\n",
    "\n",
    "# Draw green lines that indicate where retraining occurred\n",
    "plt.hlines(\n",
    "    y=rec_list[\"y_val\"],\n",
    "    xmin=rec_list[0],\n",
    "    xmax=rec_list[1],\n",
    "    color=\"green\",\n",
    "    label=\"Retraining Windows\",\n",
    ")\n",
    "\n",
    "plt.legend(loc='lower right')\n",
    "plt.show()\n",
    "# plt.savefig(\"example_ADWINAccuracy.png\")"
   ]
  },
  {
   "cell_type": "markdown",
   "id": "8a837c67",
   "metadata": {},
   "source": [
    "### RF and ADWIN"
   ]
  },
  {
   "cell_type": "code",
   "execution_count": 89,
   "id": "c09f0f3a",
   "metadata": {},
   "outputs": [],
   "source": [
    "X_train = df4.loc[0:training_size, ['category','rating','Mean']]\n",
    "y_train = df4.loc[0:training_size, \"label\"]\n",
    "X_test = df4.loc[training_size:len(df4), ['category','rating','Mean']]\n",
    "y_true = df4.loc[training_size:len(df4), \"label\"]"
   ]
  },
  {
   "cell_type": "code",
   "execution_count": 92,
   "id": "73eeb78e",
   "metadata": {},
   "outputs": [],
   "source": [
    "from sklearn.ensemble import RandomForestClassifier"
   ]
  },
  {
   "cell_type": "code",
   "execution_count": 93,
   "id": "9a107cc2",
   "metadata": {},
   "outputs": [
    {
     "name": "stdout",
     "output_type": "stream",
     "text": [
      "30324    0.000000\n",
      "30325    0.000000\n",
      "30326    0.000000\n",
      "30327    0.000000\n",
      "30328    0.000000\n",
      "           ...   \n",
      "40427    0.560867\n",
      "40428    0.560811\n",
      "40429    0.560855\n",
      "40430    0.560799\n",
      "40431    0.560843\n",
      "Name: label, Length: 10108, dtype: float64\n"
     ]
    }
   ],
   "source": [
    "np.random.seed(123)\n",
    "clf = RandomForestClassifier(n_estimators = 100) \n",
    "clf.fit(X_train, y_train)\n",
    "acc_orig = np.cumsum(clf.predict(X_test) == y_true)\n",
    "acc_orig = acc_orig / np.arange(1, 1 + len(acc_orig))\n",
    "print(acc_orig)"
   ]
  },
  {
   "cell_type": "code",
   "execution_count": 94,
   "id": "8cdc78bd",
   "metadata": {},
   "outputs": [],
   "source": [
    "adwin = ADWINAccuracy()\n",
    "\n",
    "# Set up DF to record results.\n",
    "status = pd.DataFrame(\n",
    "    columns=[\"index\", \"y_true\", \"y_pred\", \"adwin mean\", \"drift_detected\"]\n",
    ")\n",
    "rec_list = []"
   ]
  },
  {
   "cell_type": "code",
   "execution_count": 95,
   "id": "f9e0d336",
   "metadata": {},
   "outputs": [],
   "source": [
    "for i in range(training_size, len(df4)):\n",
    "\n",
    "    X_test = df4.loc[[i], ['category','rating','Mean']]\n",
    "    y_pred = int(clf.predict(X_test))\n",
    "    y_true = int(df4.loc[[i], \"label\"])\n",
    "\n",
    "    adwin.update(y_true, y_pred)\n",
    "    status.loc[i] = [\n",
    "        i, y_true, y_pred, adwin.mean(), adwin.drift_state,\n",
    "    ]\n",
    "\n",
    "    # If drift is detected, examine the window and retrain.\n",
    "    if adwin.drift_state == \"drift\":\n",
    "        retrain_start = adwin.retraining_recs[0] + training_size\n",
    "        retrain_end = adwin.retraining_recs[1] + training_size\n",
    "        rec_list.append([retrain_start, retrain_end])\n",
    "\n",
    "        # The retraining recommendations produced here correspond to the samples\n",
    "        # which belong to ADWIN's new, smaller window, after drift is detected.\n",
    "        # If retraining is not desired, omit the next four lines.\n",
    "        X_train = df4.loc[retrain_start:retrain_end, ['category','rating','Mean']]\n",
    "        y_train = df4.loc[retrain_start:retrain_end, \"label\"]\n",
    "        clf = RandomForestClassifier(n_estimators = 100) \n",
    "        clf.fit(X_train, y_train)\n",
    "status['original_accuracy'] = acc_orig\n",
    "status['accuracy'] = np.cumsum(status.y_true == status.y_pred)\n",
    "status['accuracy'] = status['accuracy'] / np.cumsum(np.repeat(1, status.shape[0]))"
   ]
  },
  {
   "cell_type": "code",
   "execution_count": 96,
   "id": "8a2d96f2",
   "metadata": {},
   "outputs": [
    {
     "data": {
      "image/png": "[encoded data removed]",
      "text/plain": [
       "<Figure size 1440x432 with 1 Axes>"
      ]
     },
     "metadata": {
      "needs_background": "light"
     },
     "output_type": "display_data"
    }
   ],
   "source": [
    "plt.figure(figsize=(20, 6))\n",
    "plt.scatter(\"index\", \"original_accuracy\", data=status, label=\"Original Accuracy\", color='red')\n",
    "plt.scatter(\"index\", \"accuracy\", data=status, label=\"Retrain Accuracy\", color='green')\n",
    "plt.grid(False, axis=\"x\")\n",
    "plt.xticks(fontsize=16)\n",
    "plt.yticks(fontsize=16)\n",
    "plt.title(\"ADWIN Results: Accuracy\", fontsize=22)\n",
    "plt.ylabel(\"Value\", fontsize=18)\n",
    "plt.xlabel(\"Index\", fontsize=18)\n",
    "ylims = [0, 1.1]\n",
    "plt.ylim(ylims)\n",
    "\n",
    "plt.axvspan(1000, 1250, alpha=0.5, label=\"Drift Induction Window\")\n",
    "\n",
    "# Draw red lines that indicate where drift was detected\n",
    "plt.vlines(\n",
    "    x=status.loc[status[\"drift_detected\"] == \"drift\"][\"index\"],\n",
    "    ymin=ylims[0],\n",
    "    ymax=ylims[1],\n",
    "    label=\"Drift Detected\",\n",
    "    color=\"red\",\n",
    ")\n",
    "\n",
    "# Create a list of lines that indicate the retraining windows.\n",
    "# Space them evenly, vertically.\n",
    "rec_list = pd.DataFrame(rec_list)\n",
    "rec_list[\"y_val\"] = np.linspace(\n",
    "    start=0.05 * (ylims[1] - ylims[0]) + ylims[0],\n",
    "    stop=0.2 * ylims[1],\n",
    "    num=len(rec_list),\n",
    ")\n",
    "\n",
    "# Draw green lines that indicate where retraining occurred\n",
    "plt.hlines(\n",
    "    y=rec_list[\"y_val\"],\n",
    "    xmin=rec_list[0],\n",
    "    xmax=rec_list[1],\n",
    "    color=\"green\",\n",
    "    label=\"Retraining Windows\",\n",
    ")\n",
    "\n",
    "plt.legend(loc='lower right')\n",
    "plt.show()\n",
    "# plt.savefig(\"example_ADWINAccuracy.png\")\n"
   ]
  },
  {
   "cell_type": "markdown",
   "id": "532098df",
   "metadata": {},
   "source": [
    "### CNN and ADWIN"
   ]
  },
  {
   "cell_type": "code",
   "execution_count": null,
   "id": "3376a269",
   "metadata": {},
   "outputs": [],
   "source": [
    "training_size = 30324"
   ]
  },
  {
   "cell_type": "code",
   "execution_count": 108,
   "id": "4600bd52",
   "metadata": {},
   "outputs": [],
   "source": [
    "X_train = df4.loc[0:training_size, ['category','rating','Mean']]\n",
    "y_train = df4.loc[0:training_size, \"label\"]\n",
    "X_test = df4.loc[training_size:len(df4), ['category','rating','Mean']]\n",
    "y_true = df4.loc[training_size:len(df4), \"label\"]"
   ]
  },
  {
   "cell_type": "code",
   "execution_count": 102,
   "id": "388c4da5",
   "metadata": {},
   "outputs": [],
   "source": [
    "model=Sequential()\n",
    "model.add(Dense(1000,input_dim=3,activation='relu'))\n",
    "model.add(Dense(500,activation='relu'))\n",
    "model.add(Dense(300,activation='relu'))\n",
    "model.add(Dropout(0.2))\n",
    "model.add(Dense(1,activation='softmax'))\n",
    "model.compile(loss='categorical_crossentropy',optimizer='adam',metrics=['accuracy'])"
   ]
  },
  {
   "cell_type": "code",
   "execution_count": 109,
   "id": "205715a3",
   "metadata": {},
   "outputs": [
    {
     "name": "stdout",
     "output_type": "stream",
     "text": [
      "Epoch 1/10\n",
      "1517/1517 [==============================] - 21s 14ms/step - loss: 0.0000e+00 - accuracy: 0.4999 - val_loss: 0.0000e+00 - val_accuracy: 0.5002\n",
      "Epoch 2/10\n",
      "1517/1517 [==============================] - 21s 14ms/step - loss: 0.0000e+00 - accuracy: 0.4999 - val_loss: 0.0000e+00 - val_accuracy: 0.5002\n",
      "Epoch 3/10\n",
      "1517/1517 [==============================] - 21s 14ms/step - loss: 0.0000e+00 - accuracy: 0.4999 - val_loss: 0.0000e+00 - val_accuracy: 0.5002\n",
      "Epoch 4/10\n",
      "1517/1517 [==============================] - 21s 14ms/step - loss: 0.0000e+00 - accuracy: 0.4999 - val_loss: 0.0000e+00 - val_accuracy: 0.5002\n",
      "Epoch 5/10\n",
      "1517/1517 [==============================] - 25s 17ms/step - loss: 0.0000e+00 - accuracy: 0.4999 - val_loss: 0.0000e+00 - val_accuracy: 0.5002\n",
      "Epoch 6/10\n",
      "1517/1517 [==============================] - 25s 16ms/step - loss: 0.0000e+00 - accuracy: 0.4999 - val_loss: 0.0000e+00 - val_accuracy: 0.5002\n",
      "Epoch 7/10\n",
      "1517/1517 [==============================] - 20s 13ms/step - loss: 0.0000e+00 - accuracy: 0.4999 - val_loss: 0.0000e+00 - val_accuracy: 0.5002\n",
      "Epoch 8/10\n",
      "1517/1517 [==============================] - 22s 15ms/step - loss: 0.0000e+00 - accuracy: 0.4999 - val_loss: 0.0000e+00 - val_accuracy: 0.5002\n",
      "Epoch 9/10\n",
      "1517/1517 [==============================] - 19s 12ms/step - loss: 0.0000e+00 - accuracy: 0.4999 - val_loss: 0.0000e+00 - val_accuracy: 0.5002\n",
      "Epoch 10/10\n",
      "1517/1517 [==============================] - 19s 13ms/step - loss: 0.0000e+00 - accuracy: 0.4999 - val_loss: 0.0000e+00 - val_accuracy: 0.5002\n"
     ]
    },
    {
     "data": {
      "text/plain": [
       "<keras.callbacks.History at 0x1fb7f9d5e50>"
      ]
     },
     "execution_count": 109,
     "metadata": {},
     "output_type": "execute_result"
    }
   ],
   "source": [
    "model.fit(X_train,y_train,validation_data=(X_test,y_true),batch_size=20,epochs=10,verbose=1)"
   ]
  },
  {
   "cell_type": "code",
   "execution_count": 110,
   "id": "8b662bfa",
   "metadata": {},
   "outputs": [
    {
     "name": "stdout",
     "output_type": "stream",
     "text": [
      "30324    1.000000\n",
      "30325    0.500000\n",
      "30326    0.666667\n",
      "30327    0.750000\n",
      "30328    0.600000\n",
      "           ...   \n",
      "40427    0.604018\n",
      "40428    0.603958\n",
      "40429    0.603998\n",
      "40430    0.603938\n",
      "40431    0.603977\n",
      "Name: label, Length: 10108, dtype: float64\n"
     ]
    }
   ],
   "source": [
    "acc_orig = np.cumsum(clf.predict(X_test) == y_true)\n",
    "acc_orig = acc_orig / np.arange(1, 1 + len(acc_orig))\n",
    "print(acc_orig)"
   ]
  },
  {
   "cell_type": "code",
   "execution_count": 115,
   "id": "425be4b6",
   "metadata": {},
   "outputs": [
    {
     "ename": "ValueError",
     "evalue": "Must have equal len keys and value when setting with an iterable",
     "output_type": "error",
     "traceback": [
      "\u001b[1;31m---------------------------------------------------------------------------\u001b[0m",
      "\u001b[1;31mValueError\u001b[0m                                Traceback (most recent call last)",
      "\u001b[1;32m~\\AppData\\Local\\Temp/ipykernel_6420/160836907.py\u001b[0m in \u001b[0;36m<cell line: 1>\u001b[1;34m()\u001b[0m\n\u001b[0;32m      6\u001b[0m \u001b[1;33m\u001b[0m\u001b[0m\n\u001b[0;32m      7\u001b[0m     \u001b[0madwin\u001b[0m\u001b[1;33m.\u001b[0m\u001b[0mupdate\u001b[0m\u001b[1;33m(\u001b[0m\u001b[0my_true\u001b[0m\u001b[1;33m,\u001b[0m \u001b[0my_pred\u001b[0m\u001b[1;33m)\u001b[0m\u001b[1;33m\u001b[0m\u001b[1;33m\u001b[0m\u001b[0m\n\u001b[1;32m----> 8\u001b[1;33m     status.loc[i] = [\n\u001b[0m\u001b[0;32m      9\u001b[0m         \u001b[0mi\u001b[0m\u001b[1;33m,\u001b[0m \u001b[0my_true\u001b[0m\u001b[1;33m,\u001b[0m \u001b[0my_pred\u001b[0m\u001b[1;33m,\u001b[0m \u001b[0madwin\u001b[0m\u001b[1;33m.\u001b[0m\u001b[0mmean\u001b[0m\u001b[1;33m(\u001b[0m\u001b[1;33m)\u001b[0m\u001b[1;33m,\u001b[0m \u001b[0madwin\u001b[0m\u001b[1;33m.\u001b[0m\u001b[0mdrift_state\u001b[0m\u001b[1;33m,\u001b[0m\u001b[1;33m\u001b[0m\u001b[1;33m\u001b[0m\u001b[0m\n\u001b[0;32m     10\u001b[0m     ]\n",
      "\u001b[1;32m~\\anaconda3\\lib\\site-packages\\pandas\\core\\indexing.py\u001b[0m in \u001b[0;36m__setitem__\u001b[1;34m(self, key, value)\u001b[0m\n\u001b[0;32m    721\u001b[0m \u001b[1;33m\u001b[0m\u001b[0m\n\u001b[0;32m    722\u001b[0m         \u001b[0miloc\u001b[0m \u001b[1;33m=\u001b[0m \u001b[0mself\u001b[0m \u001b[1;32mif\u001b[0m \u001b[0mself\u001b[0m\u001b[1;33m.\u001b[0m\u001b[0mname\u001b[0m \u001b[1;33m==\u001b[0m \u001b[1;34m\"iloc\"\u001b[0m \u001b[1;32melse\u001b[0m \u001b[0mself\u001b[0m\u001b[1;33m.\u001b[0m\u001b[0mobj\u001b[0m\u001b[1;33m.\u001b[0m\u001b[0miloc\u001b[0m\u001b[1;33m\u001b[0m\u001b[1;33m\u001b[0m\u001b[0m\n\u001b[1;32m--> 723\u001b[1;33m         \u001b[0miloc\u001b[0m\u001b[1;33m.\u001b[0m\u001b[0m_setitem_with_indexer\u001b[0m\u001b[1;33m(\u001b[0m\u001b[0mindexer\u001b[0m\u001b[1;33m,\u001b[0m \u001b[0mvalue\u001b[0m\u001b[1;33m,\u001b[0m \u001b[0mself\u001b[0m\u001b[1;33m.\u001b[0m\u001b[0mname\u001b[0m\u001b[1;33m)\u001b[0m\u001b[1;33m\u001b[0m\u001b[1;33m\u001b[0m\u001b[0m\n\u001b[0m\u001b[0;32m    724\u001b[0m \u001b[1;33m\u001b[0m\u001b[0m\n\u001b[0;32m    725\u001b[0m     \u001b[1;32mdef\u001b[0m \u001b[0m_validate_key\u001b[0m\u001b[1;33m(\u001b[0m\u001b[0mself\u001b[0m\u001b[1;33m,\u001b[0m \u001b[0mkey\u001b[0m\u001b[1;33m,\u001b[0m \u001b[0maxis\u001b[0m\u001b[1;33m:\u001b[0m \u001b[0mint\u001b[0m\u001b[1;33m)\u001b[0m\u001b[1;33m:\u001b[0m\u001b[1;33m\u001b[0m\u001b[1;33m\u001b[0m\u001b[0m\n",
      "\u001b[1;32m~\\anaconda3\\lib\\site-packages\\pandas\\core\\indexing.py\u001b[0m in \u001b[0;36m_setitem_with_indexer\u001b[1;34m(self, indexer, value, name)\u001b[0m\n\u001b[0;32m   1728\u001b[0m         \u001b[1;32mif\u001b[0m \u001b[0mtake_split_path\u001b[0m\u001b[1;33m:\u001b[0m\u001b[1;33m\u001b[0m\u001b[1;33m\u001b[0m\u001b[0m\n\u001b[0;32m   1729\u001b[0m             \u001b[1;31m# We have to operate column-wise\u001b[0m\u001b[1;33m\u001b[0m\u001b[1;33m\u001b[0m\u001b[0m\n\u001b[1;32m-> 1730\u001b[1;33m             \u001b[0mself\u001b[0m\u001b[1;33m.\u001b[0m\u001b[0m_setitem_with_indexer_split_path\u001b[0m\u001b[1;33m(\u001b[0m\u001b[0mindexer\u001b[0m\u001b[1;33m,\u001b[0m \u001b[0mvalue\u001b[0m\u001b[1;33m,\u001b[0m \u001b[0mname\u001b[0m\u001b[1;33m)\u001b[0m\u001b[1;33m\u001b[0m\u001b[1;33m\u001b[0m\u001b[0m\n\u001b[0m\u001b[0;32m   1731\u001b[0m         \u001b[1;32melse\u001b[0m\u001b[1;33m:\u001b[0m\u001b[1;33m\u001b[0m\u001b[1;33m\u001b[0m\u001b[0m\n\u001b[0;32m   1732\u001b[0m             \u001b[0mself\u001b[0m\u001b[1;33m.\u001b[0m\u001b[0m_setitem_single_block\u001b[0m\u001b[1;33m(\u001b[0m\u001b[0mindexer\u001b[0m\u001b[1;33m,\u001b[0m \u001b[0mvalue\u001b[0m\u001b[1;33m,\u001b[0m \u001b[0mname\u001b[0m\u001b[1;33m)\u001b[0m\u001b[1;33m\u001b[0m\u001b[1;33m\u001b[0m\u001b[0m\n",
      "\u001b[1;32m~\\anaconda3\\lib\\site-packages\\pandas\\core\\indexing.py\u001b[0m in \u001b[0;36m_setitem_with_indexer_split_path\u001b[1;34m(self, indexer, value, name)\u001b[0m\n\u001b[0;32m   1806\u001b[0m \u001b[1;33m\u001b[0m\u001b[0m\n\u001b[0;32m   1807\u001b[0m             \u001b[1;32melse\u001b[0m\u001b[1;33m:\u001b[0m\u001b[1;33m\u001b[0m\u001b[1;33m\u001b[0m\u001b[0m\n\u001b[1;32m-> 1808\u001b[1;33m                 raise ValueError(\n\u001b[0m\u001b[0;32m   1809\u001b[0m                     \u001b[1;34m\"Must have equal len keys and value \"\u001b[0m\u001b[1;33m\u001b[0m\u001b[1;33m\u001b[0m\u001b[0m\n\u001b[0;32m   1810\u001b[0m                     \u001b[1;34m\"when setting with an iterable\"\u001b[0m\u001b[1;33m\u001b[0m\u001b[1;33m\u001b[0m\u001b[0m\n",
      "\u001b[1;31mValueError\u001b[0m: Must have equal len keys and value when setting with an iterable"
     ]
    }
   ],
   "source": [
    "for i in range(training_size, len(df4)):\n",
    "\n",
    "    X_test = df4.loc[[i], ['category','rating','Mean']]\n",
    "    y_pred = int(clf.predict(X_test))\n",
    "    y_true = int(df4.loc[[i], \"label\"])\n",
    "\n",
    "    adwin.update(y_true, y_pred)\n",
    "    status.loc[i] = [\n",
    "        i, y_true, y_pred, adwin.mean(), adwin.drift_state,\n",
    "    ]\n",
    "\n",
    "    # If drift is detected, examine the window and retrain.\n",
    "    if adwin.drift_state == \"drift\":\n",
    "        retrain_start = adwin.retraining_recs[0] + training_size\n",
    "        retrain_end = adwin.retraining_recs[1] + training_size\n",
    "        rec_list.append([retrain_start, retrain_end])\n",
    "\n",
    "        # The retraining recommendations produced here correspond to the samples\n",
    "        # which belong to ADWIN's new, smaller window, after drift is detected.\n",
    "        # If retraining is not desired, omit the next four lines.\n",
    "        X_train = df4.loc[retrain_start:retrain_end, ['category','rating','Mean']]\n",
    "        y_train = df4.loc[retrain_start:retrain_end, \"label\"]\n",
    "        model=Sequential()\n",
    "        model.add(Dense(1000,input_dim=3,activation='relu'))\n",
    "        model.add(Dense(500,activation='relu'))\n",
    "        model.add(Dense(300,activation='relu'))\n",
    "        model.add(Dropout(0.2))\n",
    "        model.add(Dense(1,activation='softmax'))\n",
    "        model.compile(loss='categorical_crossentropy',optimizer='adam',metrics=['accuracy'])\n",
    "        model.fit(X_train,y_train,validation_data=(X_test,y_true),batch_size=20,epochs=10,verbose=1)\n",
    "status['original_accuracy'] = acc_orig\n",
    "status['accuracy'] = np.cumsum(status.y_true == status.y_pred)\n",
    "status['accuracy'] = status['accuracy'] / np.cumsum(np.repeat(1, status.shape[0]))"
   ]
  },
  {
   "cell_type": "markdown",
   "id": "3d4db22d",
   "metadata": {},
   "source": [
    "### NB and EDDM "
   ]
  },
  {
   "cell_type": "code",
   "execution_count": 130,
   "id": "490e8ab9",
   "metadata": {},
   "outputs": [],
   "source": [
    "np.random.seed(123)\n",
    "# setup classifier: train on first 500 rows\n",
    "X_train = df4.loc[0:training_size, ['category','rating','Mean']]\n",
    "y_train = df4.loc[0:training_size, \"label\"]\n",
    "X_test = df4.loc[training_size:len(df3), ['category','rating','Mean']]\n",
    "y_true = df4.loc[training_size:len(df3), \"label\"]\n",
    "\n",
    "clf = GaussianNB()\n",
    "clf.fit(X_train, y_train)\n",
    "\n",
    "acc_orig = np.cumsum(clf.predict(X_test) == y_true)\n",
    "acc_orig = acc_orig / np.arange(1, 1 + len(acc_orig))"
   ]
  },
  {
   "cell_type": "code",
   "execution_count": 131,
   "id": "460e154f",
   "metadata": {},
   "outputs": [],
   "source": [
    "eddm = EDDM(n_threshold=30, warning_thresh=0.7, drift_thresh=0.5)\n",
    "\n",
    "# setup DF to store results\n",
    "status = pd.DataFrame(columns=[\"index\", \"y_true\", \"y_pred\", \"drift_detected\"])\n",
    "rec_list = []\n"
   ]
  },
  {
   "cell_type": "code",
   "execution_count": 132,
   "id": "680af7ed",
   "metadata": {},
   "outputs": [],
   "source": [
    "for i in range(training_size, len(df4)):\n",
    "\n",
    "    X_test = df4.loc[[i], ['category','rating','Mean']]\n",
    "    y_pred = int(clf.predict(X_test))\n",
    "    y_true = int(df4.loc[[i], \"label\"])\n",
    "\n",
    "    eddm.update(y_true, y_pred)\n",
    "    status.loc[i] = [i, y_true, y_pred, eddm.drift_state]\n",
    "\n",
    "    # If drift is detected, examine the window and retrain.\n",
    "    if eddm.drift_state == \"drift\":\n",
    "        retrain_start = eddm.retraining_recs[0] + training_size\n",
    "        retrain_end = eddm.retraining_recs[1] + training_size\n",
    "        if (\n",
    "            retrain_start == retrain_end\n",
    "        ):  # minimum retraining window in case of sudden drift\n",
    "            retrain_start = max(0, retrain_start - 300)\n",
    "        rec_list.append([retrain_start, retrain_end])\n",
    "\n",
    "        # If retraining is not desired, omit the next four lines.\n",
    "        X_train = df4.loc[retrain_start:retrain_end, ['category','rating','Mean']]\n",
    "        y_train = df4.loc[retrain_start:retrain_end, \"label\"]\n",
    "        clf = GaussianNB()\n",
    "        clf.fit(X_train, y_train)\n",
    "\n",
    "status['original_accuracy'] = acc_orig\n",
    "status['accuracy'] = np.cumsum(status.y_true == status.y_pred)\n",
    "status['accuracy'] = status['accuracy'] / np.cumsum(np.repeat(1, status.shape[0]))"
   ]
  },
  {
   "cell_type": "code",
   "execution_count": 133,
   "id": "8c4e0273",
   "metadata": {},
   "outputs": [
    {
     "data": {
      "image/png": "[encoded data removed]",
      "text/plain": [
       "<Figure size 1440x432 with 1 Axes>"
      ]
     },
     "metadata": {
      "needs_background": "light"
     },
     "output_type": "display_data"
    }
   ],
   "source": [
    "plt.figure(figsize=(20, 6))\n",
    "plt.scatter(\"index\", \"original_accuracy\", data=status, label=\"Original Accuracy\", color='red')\n",
    "plt.scatter(\"index\", \"accuracy\", data=status, label=\"Retrain Accuracy\", color='green')\n",
    "plt.grid(False, axis=\"x\")\n",
    "plt.xticks(fontsize=16)\n",
    "plt.yticks(fontsize=16)\n",
    "plt.title(\"EDDM Results: Accuracy\", fontsize=22)\n",
    "plt.ylabel(\"Value\", fontsize=18)\n",
    "plt.xlabel(\"Index\", fontsize=18)\n",
    "ylims = [-0.05, 1.1]\n",
    "plt.ylim(ylims)\n",
    "\n",
    "plt.axvspan(1000, 1250, alpha=0.5, label=\"Drift Induction Window\")\n",
    "\n",
    "# Draw orange lines that indicate where warnings of drift were provided\n",
    "plt.vlines(\n",
    "    x=status.loc[status[\"drift_detected\"] == \"warning\"][\"index\"],\n",
    "    ymin=ylims[0],\n",
    "    ymax=ylims[1],\n",
    "    label=\"Warning\",\n",
    "    color=\"orange\",\n",
    "    alpha=0.3,\n",
    ")\n",
    "\n",
    "# Draw red lines that indicate where drift was detected\n",
    "plt.vlines(\n",
    "    x=status.loc[status[\"drift_detected\"] == \"drift\"][\"index\"],\n",
    "    ymin=ylims[0],\n",
    "    ymax=ylims[1],\n",
    "    label=\"Drift Detected\",\n",
    "    color=\"red\",\n",
    ")\n",
    "# Create a list of lines that indicate the retraining windows.\n",
    "# Space them evenly, vertically.\n",
    "rec_list = pd.DataFrame(rec_list)\n",
    "rec_list[\"y_val\"] = np.linspace(\n",
    "    start=0.05 * (ylims[1] - ylims[0]) + ylims[0],\n",
    "    stop=0.2 * ylims[1],\n",
    "    num=len(rec_list),\n",
    ")\n",
    "\n",
    "# Draw green lines that indicate where retraining occurred\n",
    "plt.hlines(\n",
    "    y=rec_list[\"y_val\"],\n",
    "    xmin=rec_list[0],\n",
    "    xmax=rec_list[1],\n",
    "    color=\"green\",\n",
    "    label=\"Retraining Windows\",\n",
    "    alpha=0.3,\n",
    ")\n",
    "\n",
    "plt.legend()\n",
    "plt.show()\n",
    "# plt.savefig(\"example_EDDM.png\")"
   ]
  },
  {
   "cell_type": "markdown",
   "id": "b97610ed",
   "metadata": {},
   "source": [
    "### LR and EDDM "
   ]
  },
  {
   "cell_type": "code",
   "execution_count": 141,
   "id": "0d4f9341",
   "metadata": {},
   "outputs": [],
   "source": [
    "X_train = df4.loc[0:training_size, ['category','rating','Mean']]\n",
    "y_train = df4.loc[0:training_size, \"label\"]\n",
    "X_test = df4.loc[training_size:len(df4), ['category','rating','Mean']]\n",
    "y_true = df4.loc[training_size:len(df4), \"label\"]"
   ]
  },
  {
   "cell_type": "code",
   "execution_count": 142,
   "id": "a81e19f4",
   "metadata": {},
   "outputs": [],
   "source": [
    "eddm = EDDM(n_threshold=30, warning_thresh=0.7, drift_thresh=0.5)\n",
    "\n",
    "# setup DF to store results\n",
    "status = pd.DataFrame(columns=[\"index\", \"y_true\", \"y_pred\", \"drift_detected\"])\n",
    "rec_list = []"
   ]
  },
  {
   "cell_type": "code",
   "execution_count": 143,
   "id": "f9087e37",
   "metadata": {},
   "outputs": [
    {
     "ename": "ValueError",
     "evalue": "This solver needs samples of at least 2 classes in the data, but the data contains only one class: 0",
     "output_type": "error",
     "traceback": [
      "\u001b[1;31m---------------------------------------------------------------------------\u001b[0m",
      "\u001b[1;31mValueError\u001b[0m                                Traceback (most recent call last)",
      "\u001b[1;32m~\\AppData\\Local\\Temp/ipykernel_6420/3120385853.py\u001b[0m in \u001b[0;36m<cell line: 1>\u001b[1;34m()\u001b[0m\n\u001b[0;32m     22\u001b[0m         \u001b[0my_train\u001b[0m \u001b[1;33m=\u001b[0m \u001b[0mdf4\u001b[0m\u001b[1;33m.\u001b[0m\u001b[0mloc\u001b[0m\u001b[1;33m[\u001b[0m\u001b[0mretrain_start\u001b[0m\u001b[1;33m:\u001b[0m\u001b[0mretrain_end\u001b[0m\u001b[1;33m,\u001b[0m \u001b[1;34m\"label\"\u001b[0m\u001b[1;33m]\u001b[0m\u001b[1;33m\u001b[0m\u001b[1;33m\u001b[0m\u001b[0m\n\u001b[0;32m     23\u001b[0m         \u001b[0mmodel\u001b[0m \u001b[1;33m=\u001b[0m \u001b[0mLogisticRegression\u001b[0m\u001b[1;33m(\u001b[0m\u001b[1;33m)\u001b[0m\u001b[1;33m\u001b[0m\u001b[1;33m\u001b[0m\u001b[0m\n\u001b[1;32m---> 24\u001b[1;33m         \u001b[0mmodel\u001b[0m\u001b[1;33m.\u001b[0m\u001b[0mfit\u001b[0m\u001b[1;33m(\u001b[0m\u001b[0mX_train\u001b[0m\u001b[1;33m,\u001b[0m \u001b[0my_train\u001b[0m\u001b[1;33m)\u001b[0m\u001b[1;33m\u001b[0m\u001b[1;33m\u001b[0m\u001b[0m\n\u001b[0m\u001b[0;32m     25\u001b[0m \u001b[1;33m\u001b[0m\u001b[0m\n\u001b[0;32m     26\u001b[0m \u001b[0mstatus\u001b[0m\u001b[1;33m[\u001b[0m\u001b[1;34m'original_accuracy'\u001b[0m\u001b[1;33m]\u001b[0m \u001b[1;33m=\u001b[0m \u001b[0macc_orig\u001b[0m\u001b[1;33m\u001b[0m\u001b[1;33m\u001b[0m\u001b[0m\n",
      "\u001b[1;32m~\\anaconda3\\lib\\site-packages\\sklearn\\linear_model\\_logistic.py\u001b[0m in \u001b[0;36mfit\u001b[1;34m(self, X, y, sample_weight)\u001b[0m\n\u001b[0;32m   1239\u001b[0m         \u001b[0mclasses_\u001b[0m \u001b[1;33m=\u001b[0m \u001b[0mself\u001b[0m\u001b[1;33m.\u001b[0m\u001b[0mclasses_\u001b[0m\u001b[1;33m\u001b[0m\u001b[1;33m\u001b[0m\u001b[0m\n\u001b[0;32m   1240\u001b[0m         \u001b[1;32mif\u001b[0m \u001b[0mn_classes\u001b[0m \u001b[1;33m<\u001b[0m \u001b[1;36m2\u001b[0m\u001b[1;33m:\u001b[0m\u001b[1;33m\u001b[0m\u001b[1;33m\u001b[0m\u001b[0m\n\u001b[1;32m-> 1241\u001b[1;33m             raise ValueError(\n\u001b[0m\u001b[0;32m   1242\u001b[0m                 \u001b[1;34m\"This solver needs samples of at least 2 classes\"\u001b[0m\u001b[1;33m\u001b[0m\u001b[1;33m\u001b[0m\u001b[0m\n\u001b[0;32m   1243\u001b[0m                 \u001b[1;34m\" in the data, but the data contains only one\"\u001b[0m\u001b[1;33m\u001b[0m\u001b[1;33m\u001b[0m\u001b[0m\n",
      "\u001b[1;31mValueError\u001b[0m: This solver needs samples of at least 2 classes in the data, but the data contains only one class: 0"
     ]
    }
   ],
   "source": [
    "for i in range(training_size, len(df4)):\n",
    "\n",
    "    X_test = df4.loc[[i], ['category','rating','Mean']]\n",
    "    y_pred = int(clf.predict(X_test))\n",
    "    y_true = int(df4.loc[[i], \"label\"])\n",
    "\n",
    "    eddm.update(y_true, y_pred)\n",
    "    status.loc[i] = [i, y_true, y_pred, eddm.drift_state]\n",
    "\n",
    "    # If drift is detected, examine the window and retrain.\n",
    "    if eddm.drift_state == \"drift\":\n",
    "        retrain_start = eddm.retraining_recs[0] + training_size\n",
    "        retrain_end = eddm.retraining_recs[1] + training_size\n",
    "        if (\n",
    "            retrain_start == retrain_end\n",
    "        ):  # minimum retraining window in case of sudden drift\n",
    "            retrain_start = max(0, retrain_start - 300)\n",
    "        rec_list.append([retrain_start, retrain_end])\n",
    "\n",
    "        # If retraining is not desired, omit the next four lines.\n",
    "        X_train = df4.loc[retrain_start:retrain_end, ['category','rating','Mean']]\n",
    "        y_train = df4.loc[retrain_start:retrain_end, \"label\"]\n",
    "        model = LogisticRegression()\n",
    "        model.fit(X_train, y_train)\n",
    "\n",
    "status['original_accuracy'] = acc_orig\n",
    "status['accuracy'] = np.cumsum(status.y_true == status.y_pred)\n",
    "status['accuracy'] = status['accuracy'] / np.cumsum(np.repeat(1, status.shape[0]))"
   ]
  },
  {
   "cell_type": "code",
   "execution_count": null,
   "id": "8dcbf240",
   "metadata": {},
   "outputs": [],
   "source": [
    "plt.figure(figsize=(20, 6))\n",
    "plt.scatter(\"index\", \"original_accuracy\", data=status, label=\"Original Accuracy\", color='red')\n",
    "plt.scatter(\"index\", \"accuracy\", data=status, label=\"Retrain Accuracy\", color='green')\n",
    "plt.grid(False, axis=\"x\")\n",
    "plt.xticks(fontsize=16)\n",
    "plt.yticks(fontsize=16)\n",
    "plt.title(\"EDDM Results: Accuracy\", fontsize=22)\n",
    "plt.ylabel(\"Value\", fontsize=18)\n",
    "plt.xlabel(\"Index\", fontsize=18)\n",
    "ylims = [-0.05, 1.1]\n",
    "plt.ylim(ylims)\n",
    "\n",
    "plt.axvspan(1000, 1250, alpha=0.5, label=\"Drift Induction Window\")\n",
    "\n",
    "# Draw orange lines that indicate where warnings of drift were provided\n",
    "plt.vlines(\n",
    "    x=status.loc[status[\"drift_detected\"] == \"warning\"][\"index\"],\n",
    "    ymin=ylims[0],\n",
    "    ymax=ylims[1],\n",
    "    label=\"Warning\",\n",
    "    color=\"orange\",\n",
    "    alpha=0.3,\n",
    ")\n",
    "\n",
    "# Draw red lines that indicate where drift was detected\n",
    "plt.vlines(\n",
    "    x=status.loc[status[\"drift_detected\"] == \"drift\"][\"index\"],\n",
    "    ymin=ylims[0],\n",
    "    ymax=ylims[1],\n",
    "    label=\"Drift Detected\",\n",
    "    color=\"red\",\n",
    ")\n",
    "# Create a list of lines that indicate the retraining windows.\n",
    "# Space them evenly, vertically.\n",
    "rec_list = pd.DataFrame(rec_list)\n",
    "rec_list[\"y_val\"] = np.linspace(\n",
    "    start=0.05 * (ylims[1] - ylims[0]) + ylims[0],\n",
    "    stop=0.2 * ylims[1],\n",
    "    num=len(rec_list),\n",
    ")\n",
    "\n",
    "# Draw green lines that indicate where retraining occurred\n",
    "plt.hlines(\n",
    "    y=rec_list[\"y_val\"],\n",
    "    xmin=rec_list[0],\n",
    "    xmax=rec_list[1],\n",
    "    color=\"green\",\n",
    "    label=\"Retraining Windows\",\n",
    "    alpha=0.3,\n",
    ")\n",
    "\n",
    "plt.legend()\n",
    "plt.show()\n",
    "# plt.savefig(\"example_EDDM.png\")"
   ]
  },
  {
   "cell_type": "markdown",
   "id": "76343ec1",
   "metadata": {},
   "source": [
    "### RF and EDDM"
   ]
  },
  {
   "cell_type": "code",
   "execution_count": 116,
   "id": "a4bde157",
   "metadata": {},
   "outputs": [],
   "source": [
    "eddm = EDDM(n_threshold=30, warning_thresh=0.7, drift_thresh=0.5)\n",
    "\n",
    "# setup DF to store results\n",
    "status = pd.DataFrame(columns=[\"index\", \"y_true\", \"y_pred\", \"drift_detected\"])\n",
    "rec_list = []"
   ]
  },
  {
   "cell_type": "code",
   "execution_count": 117,
   "id": "a53157e0",
   "metadata": {},
   "outputs": [],
   "source": [
    "for i in range(training_size, len(df4)):\n",
    "\n",
    "    X_test = df4.loc[[i], ['category','rating','Mean']]\n",
    "    y_pred = int(clf.predict(X_test))\n",
    "    y_true = int(df4.loc[[i], \"label\"])\n",
    "\n",
    "    eddm.update(y_true, y_pred)\n",
    "    status.loc[i] = [i, y_true, y_pred, eddm.drift_state]\n",
    "\n",
    "    # If drift is detected, examine the window and retrain.\n",
    "    if eddm.drift_state == \"drift\":\n",
    "        retrain_start = eddm.retraining_recs[0] + training_size\n",
    "        retrain_end = eddm.retraining_recs[1] + training_size\n",
    "        if (\n",
    "            retrain_start == retrain_end\n",
    "        ):  # minimum retraining window in case of sudden drift\n",
    "            retrain_start = max(0, retrain_start - 300)\n",
    "        rec_list.append([retrain_start, retrain_end])\n",
    "\n",
    "        # If retraining is not desired, omit the next four lines.\n",
    "        X_train = df4.loc[retrain_start:retrain_end, ['category','rating','Mean']]\n",
    "        y_train = df4.loc[retrain_start:retrain_end, \"label\"]\n",
    "        clf = RandomForestClassifier(n_estimators = 100) \n",
    "        clf.fit(X_train, y_train)\n",
    "\n",
    "status['original_accuracy'] = acc_orig\n",
    "status['accuracy'] = np.cumsum(status.y_true == status.y_pred)\n",
    "status['accuracy'] = status['accuracy'] / np.cumsum(np.repeat(1, status.shape[0]))"
   ]
  },
  {
   "cell_type": "code",
   "execution_count": 118,
   "id": "5b6930b6",
   "metadata": {},
   "outputs": [
    {
     "ename": "KeyError",
     "evalue": "0",
     "output_type": "error",
     "traceback": [
      "\u001b[1;31m---------------------------------------------------------------------------\u001b[0m",
      "\u001b[1;31mKeyError\u001b[0m                                  Traceback (most recent call last)",
      "\u001b[1;32m~\\anaconda3\\lib\\site-packages\\pandas\\core\\indexes\\base.py\u001b[0m in \u001b[0;36mget_loc\u001b[1;34m(self, key, method, tolerance)\u001b[0m\n\u001b[0;32m   3360\u001b[0m             \u001b[1;32mtry\u001b[0m\u001b[1;33m:\u001b[0m\u001b[1;33m\u001b[0m\u001b[1;33m\u001b[0m\u001b[0m\n\u001b[1;32m-> 3361\u001b[1;33m                 \u001b[1;32mreturn\u001b[0m \u001b[0mself\u001b[0m\u001b[1;33m.\u001b[0m\u001b[0m_engine\u001b[0m\u001b[1;33m.\u001b[0m\u001b[0mget_loc\u001b[0m\u001b[1;33m(\u001b[0m\u001b[0mcasted_key\u001b[0m\u001b[1;33m)\u001b[0m\u001b[1;33m\u001b[0m\u001b[1;33m\u001b[0m\u001b[0m\n\u001b[0m\u001b[0;32m   3362\u001b[0m             \u001b[1;32mexcept\u001b[0m \u001b[0mKeyError\u001b[0m \u001b[1;32mas\u001b[0m \u001b[0merr\u001b[0m\u001b[1;33m:\u001b[0m\u001b[1;33m\u001b[0m\u001b[1;33m\u001b[0m\u001b[0m\n",
      "\u001b[1;32m~\\anaconda3\\lib\\site-packages\\pandas\\_libs\\index.pyx\u001b[0m in \u001b[0;36mpandas._libs.index.IndexEngine.get_loc\u001b[1;34m()\u001b[0m\n",
      "\u001b[1;32m~\\anaconda3\\lib\\site-packages\\pandas\\_libs\\index.pyx\u001b[0m in \u001b[0;36mpandas._libs.index.IndexEngine.get_loc\u001b[1;34m()\u001b[0m\n",
      "\u001b[1;32mpandas\\_libs\\hashtable_class_helper.pxi\u001b[0m in \u001b[0;36mpandas._libs.hashtable.PyObjectHashTable.get_item\u001b[1;34m()\u001b[0m\n",
      "\u001b[1;32mpandas\\_libs\\hashtable_class_helper.pxi\u001b[0m in \u001b[0;36mpandas._libs.hashtable.PyObjectHashTable.get_item\u001b[1;34m()\u001b[0m\n",
      "\u001b[1;31mKeyError\u001b[0m: 0",
      "\nThe above exception was the direct cause of the following exception:\n",
      "\u001b[1;31mKeyError\u001b[0m                                  Traceback (most recent call last)",
      "\u001b[1;32m~\\AppData\\Local\\Temp/ipykernel_6420/2770200220.py\u001b[0m in \u001b[0;36m<cell line: 43>\u001b[1;34m()\u001b[0m\n\u001b[0;32m     43\u001b[0m plt.hlines(\n\u001b[0;32m     44\u001b[0m     \u001b[0my\u001b[0m\u001b[1;33m=\u001b[0m\u001b[0mrec_list\u001b[0m\u001b[1;33m[\u001b[0m\u001b[1;34m\"y_val\"\u001b[0m\u001b[1;33m]\u001b[0m\u001b[1;33m,\u001b[0m\u001b[1;33m\u001b[0m\u001b[1;33m\u001b[0m\u001b[0m\n\u001b[1;32m---> 45\u001b[1;33m     \u001b[0mxmin\u001b[0m\u001b[1;33m=\u001b[0m\u001b[0mrec_list\u001b[0m\u001b[1;33m[\u001b[0m\u001b[1;36m0\u001b[0m\u001b[1;33m]\u001b[0m\u001b[1;33m,\u001b[0m\u001b[1;33m\u001b[0m\u001b[1;33m\u001b[0m\u001b[0m\n\u001b[0m\u001b[0;32m     46\u001b[0m     \u001b[0mxmax\u001b[0m\u001b[1;33m=\u001b[0m\u001b[0mrec_list\u001b[0m\u001b[1;33m[\u001b[0m\u001b[1;36m1\u001b[0m\u001b[1;33m]\u001b[0m\u001b[1;33m,\u001b[0m\u001b[1;33m\u001b[0m\u001b[1;33m\u001b[0m\u001b[0m\n\u001b[0;32m     47\u001b[0m     \u001b[0mcolor\u001b[0m\u001b[1;33m=\u001b[0m\u001b[1;34m\"green\"\u001b[0m\u001b[1;33m,\u001b[0m\u001b[1;33m\u001b[0m\u001b[1;33m\u001b[0m\u001b[0m\n",
      "\u001b[1;32m~\\anaconda3\\lib\\site-packages\\pandas\\core\\frame.py\u001b[0m in \u001b[0;36m__getitem__\u001b[1;34m(self, key)\u001b[0m\n\u001b[0;32m   3456\u001b[0m             \u001b[1;32mif\u001b[0m \u001b[0mself\u001b[0m\u001b[1;33m.\u001b[0m\u001b[0mcolumns\u001b[0m\u001b[1;33m.\u001b[0m\u001b[0mnlevels\u001b[0m \u001b[1;33m>\u001b[0m \u001b[1;36m1\u001b[0m\u001b[1;33m:\u001b[0m\u001b[1;33m\u001b[0m\u001b[1;33m\u001b[0m\u001b[0m\n\u001b[0;32m   3457\u001b[0m                 \u001b[1;32mreturn\u001b[0m \u001b[0mself\u001b[0m\u001b[1;33m.\u001b[0m\u001b[0m_getitem_multilevel\u001b[0m\u001b[1;33m(\u001b[0m\u001b[0mkey\u001b[0m\u001b[1;33m)\u001b[0m\u001b[1;33m\u001b[0m\u001b[1;33m\u001b[0m\u001b[0m\n\u001b[1;32m-> 3458\u001b[1;33m             \u001b[0mindexer\u001b[0m \u001b[1;33m=\u001b[0m \u001b[0mself\u001b[0m\u001b[1;33m.\u001b[0m\u001b[0mcolumns\u001b[0m\u001b[1;33m.\u001b[0m\u001b[0mget_loc\u001b[0m\u001b[1;33m(\u001b[0m\u001b[0mkey\u001b[0m\u001b[1;33m)\u001b[0m\u001b[1;33m\u001b[0m\u001b[1;33m\u001b[0m\u001b[0m\n\u001b[0m\u001b[0;32m   3459\u001b[0m             \u001b[1;32mif\u001b[0m \u001b[0mis_integer\u001b[0m\u001b[1;33m(\u001b[0m\u001b[0mindexer\u001b[0m\u001b[1;33m)\u001b[0m\u001b[1;33m:\u001b[0m\u001b[1;33m\u001b[0m\u001b[1;33m\u001b[0m\u001b[0m\n\u001b[0;32m   3460\u001b[0m                 \u001b[0mindexer\u001b[0m \u001b[1;33m=\u001b[0m \u001b[1;33m[\u001b[0m\u001b[0mindexer\u001b[0m\u001b[1;33m]\u001b[0m\u001b[1;33m\u001b[0m\u001b[1;33m\u001b[0m\u001b[0m\n",
      "\u001b[1;32m~\\anaconda3\\lib\\site-packages\\pandas\\core\\indexes\\base.py\u001b[0m in \u001b[0;36mget_loc\u001b[1;34m(self, key, method, tolerance)\u001b[0m\n\u001b[0;32m   3361\u001b[0m                 \u001b[1;32mreturn\u001b[0m \u001b[0mself\u001b[0m\u001b[1;33m.\u001b[0m\u001b[0m_engine\u001b[0m\u001b[1;33m.\u001b[0m\u001b[0mget_loc\u001b[0m\u001b[1;33m(\u001b[0m\u001b[0mcasted_key\u001b[0m\u001b[1;33m)\u001b[0m\u001b[1;33m\u001b[0m\u001b[1;33m\u001b[0m\u001b[0m\n\u001b[0;32m   3362\u001b[0m             \u001b[1;32mexcept\u001b[0m \u001b[0mKeyError\u001b[0m \u001b[1;32mas\u001b[0m \u001b[0merr\u001b[0m\u001b[1;33m:\u001b[0m\u001b[1;33m\u001b[0m\u001b[1;33m\u001b[0m\u001b[0m\n\u001b[1;32m-> 3363\u001b[1;33m                 \u001b[1;32mraise\u001b[0m \u001b[0mKeyError\u001b[0m\u001b[1;33m(\u001b[0m\u001b[0mkey\u001b[0m\u001b[1;33m)\u001b[0m \u001b[1;32mfrom\u001b[0m \u001b[0merr\u001b[0m\u001b[1;33m\u001b[0m\u001b[1;33m\u001b[0m\u001b[0m\n\u001b[0m\u001b[0;32m   3364\u001b[0m \u001b[1;33m\u001b[0m\u001b[0m\n\u001b[0;32m   3365\u001b[0m         \u001b[1;32mif\u001b[0m \u001b[0mis_scalar\u001b[0m\u001b[1;33m(\u001b[0m\u001b[0mkey\u001b[0m\u001b[1;33m)\u001b[0m \u001b[1;32mand\u001b[0m \u001b[0misna\u001b[0m\u001b[1;33m(\u001b[0m\u001b[0mkey\u001b[0m\u001b[1;33m)\u001b[0m \u001b[1;32mand\u001b[0m \u001b[1;32mnot\u001b[0m \u001b[0mself\u001b[0m\u001b[1;33m.\u001b[0m\u001b[0mhasnans\u001b[0m\u001b[1;33m:\u001b[0m\u001b[1;33m\u001b[0m\u001b[1;33m\u001b[0m\u001b[0m\n",
      "\u001b[1;31mKeyError\u001b[0m: 0"
     ]
    },
    {
     "data": {
      "image/png": "[encoded data removed]",
      "text/plain": [
       "<Figure size 1440x432 with 1 Axes>"
      ]
     },
     "metadata": {
      "needs_background": "light"
     },
     "output_type": "display_data"
    }
   ],
   "source": [
    "plt.figure(figsize=(20, 6))\n",
    "plt.scatter(\"index\", \"original_accuracy\", data=status, label=\"Original Accuracy\", color='red')\n",
    "plt.scatter(\"index\", \"accuracy\", data=status, label=\"Retrain Accuracy\", color='green')\n",
    "plt.grid(False, axis=\"x\")\n",
    "plt.xticks(fontsize=16)\n",
    "plt.yticks(fontsize=16)\n",
    "plt.title(\"EDDM Results: Accuracy\", fontsize=22)\n",
    "plt.ylabel(\"Value\", fontsize=18)\n",
    "plt.xlabel(\"Index\", fontsize=18)\n",
    "ylims = [-0.05, 1.1]\n",
    "plt.ylim(ylims)\n",
    "\n",
    "plt.axvspan(1000, 1250, alpha=0.5, label=\"Drift Induction Window\")\n",
    "\n",
    "# Draw orange lines that indicate where warnings of drift were provided\n",
    "plt.vlines(\n",
    "    x=status.loc[status[\"drift_detected\"] == \"warning\"][\"index\"],\n",
    "    ymin=ylims[0],\n",
    "    ymax=ylims[1],\n",
    "    label=\"Warning\",\n",
    "    color=\"orange\",\n",
    "    alpha=0.3,\n",
    ")\n",
    "\n",
    "# Draw red lines that indicate where drift was detected\n",
    "plt.vlines(\n",
    "    x=status.loc[status[\"drift_detected\"] == \"drift\"][\"index\"],\n",
    "    ymin=ylims[0],\n",
    "    ymax=ylims[1],\n",
    "    label=\"Drift Detected\",\n",
    "    color=\"red\",\n",
    ")\n",
    "# Create a list of lines that indicate the retraining windows.\n",
    "# Space them evenly, vertically.\n",
    "rec_list = pd.DataFrame(rec_list)\n",
    "rec_list[\"y_val\"] = np.linspace(\n",
    "    start=0.05 * (ylims[1] - ylims[0]) + ylims[0],\n",
    "    stop=0.2 * ylims[1],\n",
    "    num=len(rec_list),\n",
    ")\n",
    "\n",
    "# Draw green lines that indicate where retraining occurred\n",
    "plt.hlines(\n",
    "    y=rec_list[\"y_val\"],\n",
    "    xmin=rec_list[0],\n",
    "    xmax=rec_list[1],\n",
    "    color=\"green\",\n",
    "    label=\"Retraining Windows\",\n",
    "    alpha=0.3,\n",
    ")\n",
    "\n",
    "plt.legend()\n",
    "plt.show()\n",
    "# plt.savefig(\"example_EDDM.png\")"
   ]
  },
  {
   "cell_type": "markdown",
   "id": "9d97d021",
   "metadata": {},
   "source": [
    "### CNN and EDDM "
   ]
  },
  {
   "cell_type": "markdown",
   "id": "61945bc9",
   "metadata": {},
   "source": [
    "### LR and DDM"
   ]
  },
  {
   "cell_type": "code",
   "execution_count": 122,
   "id": "9fe7883b",
   "metadata": {},
   "outputs": [],
   "source": [
    "X_train = df4.loc[0:training_size, ['category','rating','Mean']]\n",
    "y_train = df4.loc[0:training_size, \"label\"]\n",
    "X_test = df4.loc[training_size:len(df4), ['category','rating','Mean']]\n",
    "y_true = df4.loc[training_size:len(df4), \"label\"]"
   ]
  },
  {
   "cell_type": "code",
   "execution_count": 123,
   "id": "90490e01",
   "metadata": {},
   "outputs": [
    {
     "name": "stdout",
     "output_type": "stream",
     "text": [
      "30324    1.000000\n",
      "30325    0.500000\n",
      "30326    0.666667\n",
      "30327    0.750000\n",
      "30328    0.600000\n",
      "           ...   \n",
      "40427    0.604018\n",
      "40428    0.603958\n",
      "40429    0.603998\n",
      "40430    0.603938\n",
      "40431    0.603977\n",
      "Name: label, Length: 10108, dtype: float64\n"
     ]
    }
   ],
   "source": [
    "from sklearn.linear_model import LogisticRegression\n",
    "model = LogisticRegression()\n",
    "model.fit(X_train, y_train)\n",
    "acc_orig = np.cumsum(clf.predict(X_test) == y_true)\n",
    "acc_orig = acc_orig / np.arange(1, 1 + len(acc_orig))\n",
    "print(acc_orig)"
   ]
  },
  {
   "cell_type": "code",
   "execution_count": 124,
   "id": "2eb6c51e",
   "metadata": {},
   "outputs": [],
   "source": [
    "ddm = DDM(n_threshold=100, warning_scale=7, drift_scale=10)\n",
    "\n",
    "# setup DF to store results\n",
    "status = pd.DataFrame(columns=[\"index\", \"y_true\", \"y_pred\", \"drift_detected\"])\n",
    "rec_list = []"
   ]
  },
  {
   "cell_type": "code",
   "execution_count": 125,
   "id": "10299916",
   "metadata": {},
   "outputs": [
    {
     "name": "stdout",
     "output_type": "stream",
     "text": [
      "Detected at37112\n"
     ]
    }
   ],
   "source": [
    "for i in range(training_size, len(df4)):\n",
    "\n",
    "    X_test = df4.loc[[i], ['category','rating','Mean']]\n",
    "    y_pred = int(clf.predict(X_test))\n",
    "    y_true = int(df4.loc[[i], \"label\"])\n",
    "\n",
    "    ddm.update(y_true, y_pred)\n",
    "    status.loc[i] = [i, y_true, y_pred, ddm.drift_state]\n",
    "\n",
    "    # If drift is detected, examine the window and retrain.\n",
    "    if ddm.drift_state == \"drift\":\n",
    "        print(\"Detected at\"+str(i))\n",
    "        retrain_start = ddm.retraining_recs[0] +training_size\n",
    "        retrain_end = ddm.retraining_recs[1] + training_size\n",
    "        if (\n",
    "            retrain_start == retrain_end\n",
    "        ):  # minimum retraining window in case of sudden drift\n",
    "            retrain_start = max(0, retrain_start - 300)\n",
    "        rec_list.append([retrain_start, retrain_end])\n",
    "\n",
    "        # If retraining is not desired, omit the next four lines.\n",
    "        X_train = df4.loc[retrain_start:retrain_end, ['category','rating','Mean']]\n",
    "        y_train = df4.loc[retrain_start:retrain_end, \"label\"]\n",
    "        model = LogisticRegression()\n",
    "        model.fit(X_train, y_train)\n",
    "\n",
    "status['original_accuracy'] = acc_orig\n",
    "status['accuracy'] = np.cumsum(status.y_true == status.y_pred)\n",
    "status['accuracy'] = status['accuracy'] / np.cumsum(np.repeat(1, status.shape[0]))"
   ]
  },
  {
   "cell_type": "code",
   "execution_count": 126,
   "id": "eaf6efa8",
   "metadata": {},
   "outputs": [
    {
     "data": {
      "image/png": "[encoded data removed]",
      "text/plain": [
       "<Figure size 1440x432 with 1 Axes>"
      ]
     },
     "metadata": {
      "needs_background": "light"
     },
     "output_type": "display_data"
    }
   ],
   "source": [
    "plt.figure(figsize=(20, 6))\n",
    "plt.scatter(\"index\", \"original_accuracy\", data=status, label=\"Original Accuracy\", color='red')\n",
    "plt.scatter(\"index\", \"accuracy\", data=status, label=\"Retrain Accuracy\", color='green')\n",
    "plt.grid(False, axis=\"x\")\n",
    "plt.xticks(fontsize=16)\n",
    "plt.yticks(fontsize=16)\n",
    "plt.title(\"DDM Results: Accuracy\", fontsize=22)\n",
    "plt.ylabel(\"Value\", fontsize=18)\n",
    "plt.xlabel(\"Index\", fontsize=18)\n",
    "ylims = [-0.05, 1.1]\n",
    "plt.ylim(ylims)\n",
    "\n",
    "plt.axvspan(1000, 1250, alpha=0.5, label=\"Drift Induction Window\")\n",
    "\n",
    "# Draw red lines that indicate where drift was detected\n",
    "plt.vlines(\n",
    "    x=status.loc[status[\"drift_detected\"] == \"drift\"][\"index\"],\n",
    "    ymin=ylims[0],\n",
    "    ymax=ylims[1],\n",
    "    label=\"Drift Detected\",\n",
    "    color=\"red\",\n",
    "    linewidth=3,\n",
    ")\n",
    "\n",
    "# Draw orange lines that indicate where warnings of drift were provided\n",
    "plt.vlines(\n",
    "    x=status.loc[status[\"drift_detected\"] == \"warning\"][\"index\"],\n",
    "    ymin=ylims[0],\n",
    "    ymax=ylims[1],\n",
    "    label=\"Warning\",\n",
    "    color=\"orange\",\n",
    "    alpha=0.3,\n",
    ")\n",
    "\n",
    "# Create a list of lines that indicate the retraining windows.\n",
    "# Space them evenly, vertically.\n",
    "rec_list = pd.DataFrame(rec_list)\n",
    "rec_list[\"y_val\"] = np.linspace(\n",
    "    start=0.05 * (ylims[1] - ylims[0]) + ylims[0],\n",
    "    stop=0.2 * ylims[1],\n",
    "    num=len(rec_list),\n",
    ")\n",
    "\n",
    "# Draw green lines that indicate where retraining occurred\n",
    "plt.hlines(\n",
    "    y=rec_list[\"y_val\"],\n",
    "    xmin=rec_list[0],\n",
    "    xmax=rec_list[1],\n",
    "    color=\"green\",\n",
    "    label=\"Retraining Windows\",\n",
    ")\n",
    "\n",
    "plt.legend()\n",
    "plt.show()\n",
    "# plt.savefig(\"example_DDM.png\")"
   ]
  },
  {
   "cell_type": "markdown",
   "id": "e29442e0",
   "metadata": {},
   "source": [
    "### RF and DDM"
   ]
  },
  {
   "cell_type": "code",
   "execution_count": 127,
   "id": "7897517d",
   "metadata": {},
   "outputs": [],
   "source": [
    "ddm = DDM(n_threshold=100, warning_scale=7, drift_scale=10)\n",
    "\n",
    "# setup DF to store results\n",
    "status = pd.DataFrame(columns=[\"index\", \"y_true\", \"y_pred\", \"drift_detected\"])\n",
    "rec_list = []"
   ]
  },
  {
   "cell_type": "code",
   "execution_count": 128,
   "id": "fe5184ce",
   "metadata": {},
   "outputs": [
    {
     "name": "stdout",
     "output_type": "stream",
     "text": [
      "Detected at37112\n",
      "Detected at37615\n",
      "Detected at38918\n",
      "Detected at39638\n",
      "Detected at40399\n"
     ]
    }
   ],
   "source": [
    "for i in range(training_size, len(df3)):\n",
    "\n",
    "    X_test = df4.loc[[i], ['category','rating','Mean']]\n",
    "    y_pred = int(clf.predict(X_test))\n",
    "    y_true = int(df4.loc[[i], \"label\"])\n",
    "\n",
    "    ddm.update(y_true, y_pred)\n",
    "    status.loc[i] = [i, y_true, y_pred, ddm.drift_state]\n",
    "\n",
    "    # If drift is detected, examine the window and retrain.\n",
    "    if ddm.drift_state == \"drift\":\n",
    "        print(\"Detected at\"+str(i))\n",
    "        retrain_start = ddm.retraining_recs[0] +training_size\n",
    "        retrain_end = ddm.retraining_recs[1] + training_size\n",
    "        if (\n",
    "            retrain_start == retrain_end\n",
    "        ):  # minimum retraining window in case of sudden drift\n",
    "            retrain_start = max(0, retrain_start - 300)\n",
    "        rec_list.append([retrain_start, retrain_end])\n",
    "\n",
    "        # If retraining is not desired, omit the next four lines.\n",
    "        X_train = df4.loc[retrain_start:retrain_end, ['category','rating','Mean']]\n",
    "        y_train = df4.loc[retrain_start:retrain_end, \"label\"]\n",
    "        clf = RandomForestClassifier(n_estimators = 100) \n",
    "        clf.fit(X_train, y_train)\n",
    "\n",
    "status['original_accuracy'] = acc_orig\n",
    "status['accuracy'] = np.cumsum(status.y_true == status.y_pred)\n",
    "status['accuracy'] = status['accuracy'] / np.cumsum(np.repeat(1, status.shape[0]))"
   ]
  },
  {
   "cell_type": "code",
   "execution_count": 129,
   "id": "dec2eb15",
   "metadata": {},
   "outputs": [
    {
     "data": {
      "image/png": "[encoded data removed]",
      "text/plain": [
       "<Figure size 1440x432 with 1 Axes>"
      ]
     },
     "metadata": {
      "needs_background": "light"
     },
     "output_type": "display_data"
    }
   ],
   "source": [
    "plt.figure(figsize=(20, 6))\n",
    "plt.scatter(\"index\", \"original_accuracy\", data=status, label=\"Original Accuracy\", color='red')\n",
    "plt.scatter(\"index\", \"accuracy\", data=status, label=\"Retrain Accuracy\", color='green')\n",
    "plt.grid(False, axis=\"x\")\n",
    "plt.xticks(fontsize=16)\n",
    "plt.yticks(fontsize=16)\n",
    "plt.title(\"DDM Results: Accuracy\", fontsize=22)\n",
    "plt.ylabel(\"Value\", fontsize=18)\n",
    "plt.xlabel(\"Index\", fontsize=18)\n",
    "ylims = [-0.05, 1.1]\n",
    "plt.ylim(ylims)\n",
    "\n",
    "plt.axvspan(1000, 1250, alpha=0.5, label=\"Drift Induction Window\")\n",
    "\n",
    "# Draw red lines that indicate where drift was detected\n",
    "plt.vlines(\n",
    "    x=status.loc[status[\"drift_detected\"] == \"drift\"][\"index\"],\n",
    "    ymin=ylims[0],\n",
    "    ymax=ylims[1],\n",
    "    label=\"Drift Detected\",\n",
    "    color=\"red\",\n",
    "    linewidth=3,\n",
    ")\n",
    "\n",
    "# Draw orange lines that indicate where warnings of drift were provided\n",
    "plt.vlines(\n",
    "    x=status.loc[status[\"drift_detected\"] == \"warning\"][\"index\"],\n",
    "    ymin=ylims[0],\n",
    "    ymax=ylims[1],\n",
    "    label=\"Warning\",\n",
    "    color=\"orange\",\n",
    "    alpha=0.3,\n",
    ")\n",
    "\n",
    "# Create a list of lines that indicate the retraining windows.\n",
    "# Space them evenly, vertically.\n",
    "rec_list = pd.DataFrame(rec_list)\n",
    "rec_list[\"y_val\"] = np.linspace(\n",
    "    start=0.05 * (ylims[1] - ylims[0]) + ylims[0],\n",
    "    stop=0.2 * ylims[1],\n",
    "    num=len(rec_list),\n",
    ")\n",
    "\n",
    "# Draw green lines that indicate where retraining occurred\n",
    "plt.hlines(\n",
    "    y=rec_list[\"y_val\"],\n",
    "    xmin=rec_list[0],\n",
    "    xmax=rec_list[1],\n",
    "    color=\"green\",\n",
    "    label=\"Retraining Windows\",\n",
    ")\n",
    "\n",
    "plt.legend()\n",
    "plt.show()\n",
    "# plt.savefig(\"example_DDM.png\")"
   ]
  },
  {
   "cell_type": "markdown",
   "id": "d82758d9",
   "metadata": {},
   "source": [
    "### NB and DDM "
   ]
  },
  {
   "cell_type": "code",
   "execution_count": 134,
   "id": "03e7f900",
   "metadata": {},
   "outputs": [],
   "source": [
    "np.random.seed(123)\n",
    "# setup classifier: train on first training_size rows\n",
    "X_train = df4.loc[0:training_size, ['category','rating','Mean']]\n",
    "y_train = df4.loc[0:training_size, \"label\"]\n",
    "X_test = df4.loc[training_size:len(df4),  ['category','rating','Mean']]\n",
    "y_true = df4.loc[training_size:len(df4), \"label\"]\n",
    "\n",
    "clf = GaussianNB()\n",
    "clf.fit(X_train, y_train)\n",
    "\n",
    "acc_orig = np.cumsum(clf.predict(X_test) == y_true)\n",
    "acc_orig = acc_orig / np.arange(1, 1 + len(acc_orig))"
   ]
  },
  {
   "cell_type": "code",
   "execution_count": 135,
   "id": "b71c099a",
   "metadata": {},
   "outputs": [],
   "source": [
    "ddm = DDM(n_threshold=100, warning_scale=7, drift_scale=10)\n",
    "\n",
    "# setup DF to store results\n",
    "status = pd.DataFrame(columns=[\"index\", \"y_true\", \"y_pred\", \"drift_detected\"])\n",
    "rec_list = []"
   ]
  },
  {
   "cell_type": "code",
   "execution_count": 136,
   "id": "cd8f3ebc",
   "metadata": {},
   "outputs": [
    {
     "name": "stdout",
     "output_type": "stream",
     "text": [
      "Detected at33918\n",
      "Detected at35927\n",
      "Detected at37202\n",
      "Detected at38681\n"
     ]
    }
   ],
   "source": [
    "for i in range(training_size, len(df4)):\n",
    "\n",
    "    X_test = df3.loc[[i], ['category','rating','Mean']]\n",
    "    y_pred = int(clf.predict(X_test))\n",
    "    y_true = int(df3.loc[[i], \"label\"])\n",
    "\n",
    "    ddm.update(y_true, y_pred)\n",
    "    status.loc[i] = [i, y_true, y_pred, ddm.drift_state]\n",
    "\n",
    "    # If drift is detected, examine the window and retrain.\n",
    "    if ddm.drift_state == \"drift\":\n",
    "        print(\"Detected at\"+str(i))\n",
    "        retrain_start = ddm.retraining_recs[0] +training_size\n",
    "        retrain_end = ddm.retraining_recs[1] + training_size\n",
    "        if (\n",
    "            retrain_start == retrain_end\n",
    "        ):  # minimum retraining window in case of sudden drift\n",
    "            retrain_start = max(0, retrain_start - 300)\n",
    "        rec_list.append([retrain_start, retrain_end])\n",
    "\n",
    "        # If retraining is not desired, omit the next four lines.\n",
    "        X_train = df4.loc[retrain_start:retrain_end, ['category','rating','Mean']]\n",
    "        y_train = df4.loc[retrain_start:retrain_end, \"label\"]\n",
    "        clf = GaussianNB()\n",
    "        clf.fit(X_train, y_train)\n",
    "\n",
    "status['original_accuracy'] = acc_orig\n",
    "status['accuracy'] = np.cumsum(status.y_true == status.y_pred)\n",
    "status['accuracy'] = status['accuracy'] / np.cumsum(np.repeat(1, status.shape[0]))"
   ]
  },
  {
   "cell_type": "code",
   "execution_count": 137,
   "id": "fc6bd435",
   "metadata": {},
   "outputs": [
    {
     "data": {
      "image/png": "[encoded data removed]",
      "text/plain": [
       "<Figure size 1440x432 with 1 Axes>"
      ]
     },
     "metadata": {
      "needs_background": "light"
     },
     "output_type": "display_data"
    }
   ],
   "source": [
    "plt.figure(figsize=(20, 6))\n",
    "plt.scatter(\"index\", \"original_accuracy\", data=status, label=\"Original Accuracy\", color='red')\n",
    "plt.scatter(\"index\", \"accuracy\", data=status, label=\"Retrain Accuracy\", color='green')\n",
    "plt.grid(False, axis=\"x\")\n",
    "plt.xticks(fontsize=16)\n",
    "plt.yticks(fontsize=16)\n",
    "plt.title(\"DDM Results: Accuracy\", fontsize=22)\n",
    "plt.ylabel(\"Value\", fontsize=18)\n",
    "plt.xlabel(\"Index\", fontsize=18)\n",
    "ylims = [-0.05, 1.1]\n",
    "plt.ylim(ylims)\n",
    "\n",
    "plt.axvspan(1000, 1250, alpha=0.5, label=\"Drift Induction Window\")\n",
    "\n",
    "# Draw red lines that indicate where drift was detected\n",
    "plt.vlines(\n",
    "    x=status.loc[status[\"drift_detected\"] == \"drift\"][\"index\"],\n",
    "    ymin=ylims[0],\n",
    "    ymax=ylims[1],\n",
    "    label=\"Drift Detected\",\n",
    "    color=\"red\",\n",
    "    linewidth=3,\n",
    ")\n",
    "\n",
    "# Draw orange lines that indicate where warnings of drift were provided\n",
    "plt.vlines(\n",
    "    x=status.loc[status[\"drift_detected\"] == \"warning\"][\"index\"],\n",
    "    ymin=ylims[0],\n",
    "    ymax=ylims[1],\n",
    "    label=\"Warning\",\n",
    "    color=\"orange\",\n",
    "    alpha=0.3,\n",
    ")\n",
    "\n",
    "# Create a list of lines that indicate the retraining windows.\n",
    "# Space them evenly, vertically.\n",
    "rec_list = pd.DataFrame(rec_list)\n",
    "rec_list[\"y_val\"] = np.linspace(\n",
    "    start=0.05 * (ylims[1] - ylims[0]) + ylims[0],\n",
    "    stop=0.2 * ylims[1],\n",
    "    num=len(rec_list),\n",
    ")\n",
    "\n",
    "# Draw green lines that indicate where retraining occurred\n",
    "plt.hlines(\n",
    "    y=rec_list[\"y_val\"],\n",
    "    xmin=rec_list[0],\n",
    "    xmax=rec_list[1],\n",
    "    color=\"green\",\n",
    "    label=\"Retraining Windows\",\n",
    ")\n",
    "\n",
    "plt.legend()\n",
    "plt.show()\n",
    "# plt.savefig(\"example_DDM.png\")"
   ]
  },
  {
   "cell_type": "code",
   "execution_count": null,
   "id": "a1e0a4c2",
   "metadata": {},
   "outputs": [],
   "source": []
  }
 ],
 "metadata": {
  "kernelspec": {
   "display_name": "Python 3 (ipykernel)",
   "language": "python",
   "name": "python3"
  },
  "language_info": {
   "codemirror_mode": {
    "name": "ipython",
    "version": 3
   },
   "file_extension": ".py",
   "mimetype": "text/x-python",
   "name": "python",
   "nbconvert_exporter": "python",
   "pygments_lexer": "ipython3",
   "version": "3.9.7"
  }
 },
 "nbformat": 4,
 "nbformat_minor": 5
}
